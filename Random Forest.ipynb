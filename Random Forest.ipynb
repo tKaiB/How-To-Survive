{
 "cells": [
  {
   "cell_type": "code",
   "execution_count": 1,
   "id": "68ccd517",
   "metadata": {
    "scrolled": true
   },
   "outputs": [],
   "source": [
    "#Load Packages\n",
    "import numpy as np # linear algebra\n",
    "import matplotlib.pyplot as plt\n",
    "import pandas as pd\n",
    "import seaborn as sb\n",
    "\n",
    "# Import train_test_split function\n",
    "from sklearn.model_selection import train_test_split\n",
    "#Importing confusion matrix\n",
    "from sklearn.metrics import confusion_matrix, f1_score, accuracy_score,classification_report\n",
    "#Import Random Forest Model\n",
    "from sklearn.ensemble import RandomForestClassifier"
   ]
  },
  {
   "cell_type": "code",
   "execution_count": 2,
   "id": "ef43ac0a",
   "metadata": {},
   "outputs": [],
   "source": [
    "df = pd.read_csv(\"same_publishing_timing.csv\")"
   ]
  },
  {
   "cell_type": "markdown",
   "id": "79db78fe",
   "metadata": {},
   "source": [
    "# Random Forest\n",
    "### First MODEL with trending days up to 46 days\n"
   ]
  },
  {
   "cell_type": "markdown",
   "id": "27c07cb7",
   "metadata": {},
   "source": [
    "#### Train test split"
   ]
  },
  {
   "cell_type": "code",
   "execution_count": 3,
   "id": "8ab996d7",
   "metadata": {},
   "outputs": [
    {
     "data": {
      "text/html": [
       "<div>\n",
       "<style scoped>\n",
       "    .dataframe tbody tr th:only-of-type {\n",
       "        vertical-align: middle;\n",
       "    }\n",
       "\n",
       "    .dataframe tbody tr th {\n",
       "        vertical-align: top;\n",
       "    }\n",
       "\n",
       "    .dataframe thead th {\n",
       "        text-align: right;\n",
       "    }\n",
       "</style>\n",
       "<table border=\"1\" class=\"dataframe\">\n",
       "  <thead>\n",
       "    <tr style=\"text-align: right;\">\n",
       "      <th></th>\n",
       "      <th>categoryId</th>\n",
       "      <th>view_count</th>\n",
       "      <th>likes</th>\n",
       "      <th>dislikes</th>\n",
       "      <th>comment_count</th>\n",
       "      <th>Number_of_days_it_trended</th>\n",
       "    </tr>\n",
       "  </thead>\n",
       "  <tbody>\n",
       "    <tr>\n",
       "      <th>count</th>\n",
       "      <td>21829.000000</td>\n",
       "      <td>2.182900e+04</td>\n",
       "      <td>2.182900e+04</td>\n",
       "      <td>21829.000000</td>\n",
       "      <td>2.182900e+04</td>\n",
       "      <td>21829.000000</td>\n",
       "    </tr>\n",
       "    <tr>\n",
       "      <th>mean</th>\n",
       "      <td>18.908379</td>\n",
       "      <td>2.886185e+06</td>\n",
       "      <td>1.451690e+05</td>\n",
       "      <td>2562.932613</td>\n",
       "      <td>1.151151e+04</td>\n",
       "      <td>5.522104</td>\n",
       "    </tr>\n",
       "    <tr>\n",
       "      <th>std</th>\n",
       "      <td>6.704518</td>\n",
       "      <td>7.075980e+06</td>\n",
       "      <td>4.066388e+05</td>\n",
       "      <td>12086.523677</td>\n",
       "      <td>8.903667e+04</td>\n",
       "      <td>2.005725</td>\n",
       "    </tr>\n",
       "    <tr>\n",
       "      <th>min</th>\n",
       "      <td>1.000000</td>\n",
       "      <td>4.347200e+04</td>\n",
       "      <td>0.000000e+00</td>\n",
       "      <td>0.000000</td>\n",
       "      <td>0.000000e+00</td>\n",
       "      <td>1.000000</td>\n",
       "    </tr>\n",
       "    <tr>\n",
       "      <th>25%</th>\n",
       "      <td>17.000000</td>\n",
       "      <td>5.944330e+05</td>\n",
       "      <td>2.095800e+04</td>\n",
       "      <td>150.000000</td>\n",
       "      <td>1.477000e+03</td>\n",
       "      <td>4.000000</td>\n",
       "    </tr>\n",
       "    <tr>\n",
       "      <th>50%</th>\n",
       "      <td>20.000000</td>\n",
       "      <td>1.214740e+06</td>\n",
       "      <td>5.172000e+04</td>\n",
       "      <td>606.000000</td>\n",
       "      <td>3.365000e+03</td>\n",
       "      <td>5.000000</td>\n",
       "    </tr>\n",
       "    <tr>\n",
       "      <th>75%</th>\n",
       "      <td>24.000000</td>\n",
       "      <td>2.663146e+06</td>\n",
       "      <td>1.313570e+05</td>\n",
       "      <td>1762.000000</td>\n",
       "      <td>7.942000e+03</td>\n",
       "      <td>6.000000</td>\n",
       "    </tr>\n",
       "    <tr>\n",
       "      <th>max</th>\n",
       "      <td>29.000000</td>\n",
       "      <td>2.644074e+08</td>\n",
       "      <td>1.602153e+07</td>\n",
       "      <td>879354.000000</td>\n",
       "      <td>6.738537e+06</td>\n",
       "      <td>36.000000</td>\n",
       "    </tr>\n",
       "  </tbody>\n",
       "</table>\n",
       "</div>"
      ],
      "text/plain": [
       "         categoryId    view_count         likes       dislikes  comment_count  \\\n",
       "count  21829.000000  2.182900e+04  2.182900e+04   21829.000000   2.182900e+04   \n",
       "mean      18.908379  2.886185e+06  1.451690e+05    2562.932613   1.151151e+04   \n",
       "std        6.704518  7.075980e+06  4.066388e+05   12086.523677   8.903667e+04   \n",
       "min        1.000000  4.347200e+04  0.000000e+00       0.000000   0.000000e+00   \n",
       "25%       17.000000  5.944330e+05  2.095800e+04     150.000000   1.477000e+03   \n",
       "50%       20.000000  1.214740e+06  5.172000e+04     606.000000   3.365000e+03   \n",
       "75%       24.000000  2.663146e+06  1.313570e+05    1762.000000   7.942000e+03   \n",
       "max       29.000000  2.644074e+08  1.602153e+07  879354.000000   6.738537e+06   \n",
       "\n",
       "       Number_of_days_it_trended  \n",
       "count               21829.000000  \n",
       "mean                    5.522104  \n",
       "std                     2.005725  \n",
       "min                     1.000000  \n",
       "25%                     4.000000  \n",
       "50%                     5.000000  \n",
       "75%                     6.000000  \n",
       "max                    36.000000  "
      ]
     },
     "execution_count": 3,
     "metadata": {},
     "output_type": "execute_result"
    }
   ],
   "source": [
    "df.describe()"
   ]
  },
  {
   "cell_type": "code",
   "execution_count": 4,
   "id": "9e32899f",
   "metadata": {
    "scrolled": false
   },
   "outputs": [
    {
     "name": "stdout",
     "output_type": "stream",
     "text": [
      "Accuracy of Random Forest Classifier:  23.0 \b% (rounded to 1 decimal place)\n",
      "              precision    recall  f1-score   support\n",
      "\n",
      "           1       0.02      0.01      0.01       108\n",
      "           2       0.08      0.05      0.06       111\n",
      "           3       0.07      0.05      0.06       358\n",
      "           4       0.23      0.24      0.24       946\n",
      "           5       0.29      0.36      0.32      1405\n",
      "           6       0.25      0.29      0.27      1228\n",
      "           7       0.18      0.16      0.17       674\n",
      "           8       0.12      0.08      0.09       339\n",
      "           9       0.06      0.02      0.03       135\n",
      "          10       0.03      0.01      0.02        69\n",
      "          11       0.00      0.00      0.00        27\n",
      "          12       0.00      0.00      0.00        36\n",
      "          13       0.00      0.00      0.00         8\n",
      "          14       0.00      0.00      0.00         5\n",
      "          15       0.00      0.00      0.00         0\n",
      "          16       0.00      0.00      0.00         3\n",
      "          17       0.00      0.00      0.00         1\n",
      "          19       0.00      0.00      0.00         1\n",
      "          21       0.00      0.00      0.00         1\n",
      "          24       0.00      0.00      0.00         1\n",
      "          31       0.00      0.00      0.00         1\n",
      "          33       0.00      0.00      0.00         1\n",
      "\n",
      "    accuracy                           0.23      5458\n",
      "   macro avg       0.06      0.06      0.06      5458\n",
      "weighted avg       0.21      0.23      0.22      5458\n",
      "\n"
     ]
    },
    {
     "name": "stderr",
     "output_type": "stream",
     "text": [
      "D:\\Anaconda\\lib\\site-packages\\sklearn\\metrics\\_classification.py:1248: UndefinedMetricWarning: Precision and F-score are ill-defined and being set to 0.0 in labels with no predicted samples. Use `zero_division` parameter to control this behavior.\n",
      "  _warn_prf(average, modifier, msg_start, len(result))\n",
      "D:\\Anaconda\\lib\\site-packages\\sklearn\\metrics\\_classification.py:1248: UndefinedMetricWarning: Recall and F-score are ill-defined and being set to 0.0 in labels with no true samples. Use `zero_division` parameter to control this behavior.\n",
      "  _warn_prf(average, modifier, msg_start, len(result))\n",
      "D:\\Anaconda\\lib\\site-packages\\sklearn\\metrics\\_classification.py:1248: UndefinedMetricWarning: Precision and F-score are ill-defined and being set to 0.0 in labels with no predicted samples. Use `zero_division` parameter to control this behavior.\n",
      "  _warn_prf(average, modifier, msg_start, len(result))\n",
      "D:\\Anaconda\\lib\\site-packages\\sklearn\\metrics\\_classification.py:1248: UndefinedMetricWarning: Recall and F-score are ill-defined and being set to 0.0 in labels with no true samples. Use `zero_division` parameter to control this behavior.\n",
      "  _warn_prf(average, modifier, msg_start, len(result))\n",
      "D:\\Anaconda\\lib\\site-packages\\sklearn\\metrics\\_classification.py:1248: UndefinedMetricWarning: Precision and F-score are ill-defined and being set to 0.0 in labels with no predicted samples. Use `zero_division` parameter to control this behavior.\n",
      "  _warn_prf(average, modifier, msg_start, len(result))\n",
      "D:\\Anaconda\\lib\\site-packages\\sklearn\\metrics\\_classification.py:1248: UndefinedMetricWarning: Recall and F-score are ill-defined and being set to 0.0 in labels with no true samples. Use `zero_division` parameter to control this behavior.\n",
      "  _warn_prf(average, modifier, msg_start, len(result))\n"
     ]
    },
    {
     "data": {
      "image/png": "[encoded data removed]",
      "text/plain": [
       "<Figure size 432x288 with 2 Axes>"
      ]
     },
     "metadata": {
      "needs_background": "light"
     },
     "output_type": "display_data"
    }
   ],
   "source": [
    "X=df[['view_count', 'categoryId', 'comment_count']]  # Features\n",
    "y=df['Number_of_days_it_trended']  # Labels\n",
    "\n",
    "# Split dataset into training set and test set\n",
    "X_train, X_test, y_train, y_test = train_test_split(X, y, test_size=0.25) # 75% training and 25% test\n",
    "X_train.shape, X_test.shape\n",
    "\n",
    "#Create a Gaussian Classifier\n",
    "clf=RandomForestClassifier(n_estimators=100)\n",
    "\n",
    "#Train the model using the training sets y_pred=clf.predict(X_test)\n",
    "clf.fit(X_train,y_train)\n",
    "\n",
    "# Create our predictions\n",
    "prediction = clf.predict(X_test)\n",
    "\n",
    "# Display accuracy score\n",
    "print(\"Accuracy of Random Forest Classifier: \",round(accuracy_score(y_test, prediction)*100,1), '\\b% (rounded to 1 decimal place)')\n",
    "\n",
    "sb.heatmap(confusion_matrix(y_test, prediction), annot = True, fmt=\".0f\", annot_kws={\"size\": 10})\n",
    "print(classification_report(y_test, prediction))"
   ]
  },
  {
   "cell_type": "code",
   "execution_count": null,
   "id": "62d29ffb",
   "metadata": {},
   "outputs": [],
   "source": []
  },
  {
   "cell_type": "markdown",
   "id": "c521c937",
   "metadata": {},
   "source": [
    "## Second Model up to 10 days"
   ]
  },
  {
   "cell_type": "markdown",
   "id": "8d62be03",
   "metadata": {},
   "source": [
    "### change the number of days it trended to < 10 days"
   ]
  },
  {
   "cell_type": "code",
   "execution_count": 5,
   "id": "278d1bb3",
   "metadata": {},
   "outputs": [],
   "source": [
    "df2 = df[df['Number_of_days_it_trended'] < 10]"
   ]
  },
  {
   "cell_type": "code",
   "execution_count": 6,
   "id": "69609ff0",
   "metadata": {},
   "outputs": [
    {
     "data": {
      "text/html": [
       "<div>\n",
       "<style scoped>\n",
       "    .dataframe tbody tr th:only-of-type {\n",
       "        vertical-align: middle;\n",
       "    }\n",
       "\n",
       "    .dataframe tbody tr th {\n",
       "        vertical-align: top;\n",
       "    }\n",
       "\n",
       "    .dataframe thead th {\n",
       "        text-align: right;\n",
       "    }\n",
       "</style>\n",
       "<table border=\"1\" class=\"dataframe\">\n",
       "  <thead>\n",
       "    <tr style=\"text-align: right;\">\n",
       "      <th></th>\n",
       "      <th>categoryId</th>\n",
       "      <th>view_count</th>\n",
       "      <th>likes</th>\n",
       "      <th>dislikes</th>\n",
       "      <th>comment_count</th>\n",
       "      <th>Number_of_days_it_trended</th>\n",
       "    </tr>\n",
       "  </thead>\n",
       "  <tbody>\n",
       "    <tr>\n",
       "      <th>count</th>\n",
       "      <td>21145.000000</td>\n",
       "      <td>2.114500e+04</td>\n",
       "      <td>2.114500e+04</td>\n",
       "      <td>21145.000000</td>\n",
       "      <td>2.114500e+04</td>\n",
       "      <td>21145.000000</td>\n",
       "    </tr>\n",
       "    <tr>\n",
       "      <th>mean</th>\n",
       "      <td>18.915772</td>\n",
       "      <td>2.753741e+06</td>\n",
       "      <td>1.402570e+05</td>\n",
       "      <td>2434.441286</td>\n",
       "      <td>1.111772e+04</td>\n",
       "      <td>5.319839</td>\n",
       "    </tr>\n",
       "    <tr>\n",
       "      <th>std</th>\n",
       "      <td>6.700970</td>\n",
       "      <td>6.619777e+06</td>\n",
       "      <td>3.965915e+05</td>\n",
       "      <td>11842.892747</td>\n",
       "      <td>8.780448e+04</td>\n",
       "      <td>1.585081</td>\n",
       "    </tr>\n",
       "    <tr>\n",
       "      <th>min</th>\n",
       "      <td>1.000000</td>\n",
       "      <td>4.347200e+04</td>\n",
       "      <td>0.000000e+00</td>\n",
       "      <td>0.000000</td>\n",
       "      <td>0.000000e+00</td>\n",
       "      <td>1.000000</td>\n",
       "    </tr>\n",
       "    <tr>\n",
       "      <th>25%</th>\n",
       "      <td>17.000000</td>\n",
       "      <td>5.858520e+05</td>\n",
       "      <td>2.053300e+04</td>\n",
       "      <td>141.000000</td>\n",
       "      <td>1.447000e+03</td>\n",
       "      <td>4.000000</td>\n",
       "    </tr>\n",
       "    <tr>\n",
       "      <th>50%</th>\n",
       "      <td>20.000000</td>\n",
       "      <td>1.188536e+06</td>\n",
       "      <td>5.070900e+04</td>\n",
       "      <td>582.000000</td>\n",
       "      <td>3.286000e+03</td>\n",
       "      <td>5.000000</td>\n",
       "    </tr>\n",
       "    <tr>\n",
       "      <th>75%</th>\n",
       "      <td>24.000000</td>\n",
       "      <td>2.584255e+06</td>\n",
       "      <td>1.282540e+05</td>\n",
       "      <td>1704.000000</td>\n",
       "      <td>7.696000e+03</td>\n",
       "      <td>6.000000</td>\n",
       "    </tr>\n",
       "    <tr>\n",
       "      <th>max</th>\n",
       "      <td>29.000000</td>\n",
       "      <td>2.644074e+08</td>\n",
       "      <td>1.602153e+07</td>\n",
       "      <td>879354.000000</td>\n",
       "      <td>6.738537e+06</td>\n",
       "      <td>9.000000</td>\n",
       "    </tr>\n",
       "  </tbody>\n",
       "</table>\n",
       "</div>"
      ],
      "text/plain": [
       "         categoryId    view_count         likes       dislikes  comment_count  \\\n",
       "count  21145.000000  2.114500e+04  2.114500e+04   21145.000000   2.114500e+04   \n",
       "mean      18.915772  2.753741e+06  1.402570e+05    2434.441286   1.111772e+04   \n",
       "std        6.700970  6.619777e+06  3.965915e+05   11842.892747   8.780448e+04   \n",
       "min        1.000000  4.347200e+04  0.000000e+00       0.000000   0.000000e+00   \n",
       "25%       17.000000  5.858520e+05  2.053300e+04     141.000000   1.447000e+03   \n",
       "50%       20.000000  1.188536e+06  5.070900e+04     582.000000   3.286000e+03   \n",
       "75%       24.000000  2.584255e+06  1.282540e+05    1704.000000   7.696000e+03   \n",
       "max       29.000000  2.644074e+08  1.602153e+07  879354.000000   6.738537e+06   \n",
       "\n",
       "       Number_of_days_it_trended  \n",
       "count               21145.000000  \n",
       "mean                    5.319839  \n",
       "std                     1.585081  \n",
       "min                     1.000000  \n",
       "25%                     4.000000  \n",
       "50%                     5.000000  \n",
       "75%                     6.000000  \n",
       "max                     9.000000  "
      ]
     },
     "execution_count": 6,
     "metadata": {},
     "output_type": "execute_result"
    }
   ],
   "source": [
    "df2.describe()"
   ]
  },
  {
   "cell_type": "code",
   "execution_count": 7,
   "id": "a1b6005f",
   "metadata": {
    "scrolled": true
   },
   "outputs": [
    {
     "name": "stdout",
     "output_type": "stream",
     "text": [
      "Accuracy of Random Forest Classifier:  24.5 \b% (rounded to 1 decimal place)\n",
      "              precision    recall  f1-score   support\n",
      "\n",
      "           1       0.06      0.03      0.04        90\n",
      "           2       0.01      0.01      0.01       124\n",
      "           3       0.10      0.07      0.08       361\n",
      "           4       0.26      0.25      0.25       979\n",
      "           5       0.29      0.38      0.33      1380\n",
      "           6       0.26      0.29      0.27      1183\n",
      "           7       0.21      0.19      0.20       694\n",
      "           8       0.16      0.09      0.12       342\n",
      "           9       0.05      0.02      0.03       134\n",
      "\n",
      "    accuracy                           0.24      5287\n",
      "   macro avg       0.15      0.15      0.15      5287\n",
      "weighted avg       0.23      0.24      0.23      5287\n",
      "\n"
     ]
    },
    {
     "data": {
      "image/png": "[encoded data removed]",
      "text/plain": [
       "<Figure size 432x288 with 2 Axes>"
      ]
     },
     "metadata": {
      "needs_background": "light"
     },
     "output_type": "display_data"
    }
   ],
   "source": [
    "X=df2[['view_count', 'categoryId', 'comment_count']]  # Features\n",
    "y=df2['Number_of_days_it_trended']  # Labels\n",
    "\n",
    "# Split dataset into training set and test set\n",
    "X_train, X_test, y_train, y_test = train_test_split(X, y, test_size=0.25) # 75% training and 25% test\n",
    "\n",
    "#Create a Gaussian Classifier\n",
    "clf=RandomForestClassifier(n_estimators=100)\n",
    "\n",
    "#Train the model using the training sets y_pred=clf.predict(X_test)\n",
    "clf.fit(X_train,y_train)\n",
    "\n",
    "# Create our predictions\n",
    "prediction = clf.predict(X_test)\n",
    "\n",
    "# Display accuracy score\n",
    "print(\"Accuracy of Random Forest Classifier: \",round(accuracy_score(y_test, prediction)*100,1), '\\b% (rounded to 1 decimal place)')\n",
    "sb.heatmap(confusion_matrix(y_test, prediction), annot = True, fmt=\".0f\", annot_kws={\"size\": 18})\n",
    "print(classification_report(y_test, prediction))"
   ]
  },
  {
   "cell_type": "markdown",
   "id": "bb425629",
   "metadata": {},
   "source": [
    "## Third Model up to 5 days"
   ]
  },
  {
   "cell_type": "code",
   "execution_count": 8,
   "id": "e4994f30",
   "metadata": {},
   "outputs": [],
   "source": [
    "df3 = df[df['Number_of_days_it_trended'] < 5]\n"
   ]
  },
  {
   "cell_type": "code",
   "execution_count": 9,
   "id": "bd902fd2",
   "metadata": {},
   "outputs": [
    {
     "data": {
      "text/html": [
       "<div>\n",
       "<style scoped>\n",
       "    .dataframe tbody tr th:only-of-type {\n",
       "        vertical-align: middle;\n",
       "    }\n",
       "\n",
       "    .dataframe tbody tr th {\n",
       "        vertical-align: top;\n",
       "    }\n",
       "\n",
       "    .dataframe thead th {\n",
       "        text-align: right;\n",
       "    }\n",
       "</style>\n",
       "<table border=\"1\" class=\"dataframe\">\n",
       "  <thead>\n",
       "    <tr style=\"text-align: right;\">\n",
       "      <th></th>\n",
       "      <th>categoryId</th>\n",
       "      <th>view_count</th>\n",
       "      <th>likes</th>\n",
       "      <th>dislikes</th>\n",
       "      <th>comment_count</th>\n",
       "      <th>Number_of_days_it_trended</th>\n",
       "    </tr>\n",
       "  </thead>\n",
       "  <tbody>\n",
       "    <tr>\n",
       "      <th>count</th>\n",
       "      <td>6066.000000</td>\n",
       "      <td>6.066000e+03</td>\n",
       "      <td>6.066000e+03</td>\n",
       "      <td>6066.000000</td>\n",
       "      <td>6.066000e+03</td>\n",
       "      <td>6066.000000</td>\n",
       "    </tr>\n",
       "    <tr>\n",
       "      <th>mean</th>\n",
       "      <td>19.211177</td>\n",
       "      <td>1.618367e+06</td>\n",
       "      <td>8.282504e+04</td>\n",
       "      <td>1294.960106</td>\n",
       "      <td>6.376052e+03</td>\n",
       "      <td>3.425321</td>\n",
       "    </tr>\n",
       "    <tr>\n",
       "      <th>std</th>\n",
       "      <td>6.118404</td>\n",
       "      <td>4.642180e+06</td>\n",
       "      <td>2.735773e+05</td>\n",
       "      <td>4779.098698</td>\n",
       "      <td>8.926226e+04</td>\n",
       "      <td>0.869438</td>\n",
       "    </tr>\n",
       "    <tr>\n",
       "      <th>min</th>\n",
       "      <td>1.000000</td>\n",
       "      <td>4.347200e+04</td>\n",
       "      <td>0.000000e+00</td>\n",
       "      <td>0.000000</td>\n",
       "      <td>0.000000e+00</td>\n",
       "      <td>1.000000</td>\n",
       "    </tr>\n",
       "    <tr>\n",
       "      <th>25%</th>\n",
       "      <td>17.000000</td>\n",
       "      <td>4.015620e+05</td>\n",
       "      <td>1.233550e+04</td>\n",
       "      <td>0.000000</td>\n",
       "      <td>8.805000e+02</td>\n",
       "      <td>3.000000</td>\n",
       "    </tr>\n",
       "    <tr>\n",
       "      <th>50%</th>\n",
       "      <td>20.000000</td>\n",
       "      <td>7.843430e+05</td>\n",
       "      <td>2.972750e+04</td>\n",
       "      <td>342.000000</td>\n",
       "      <td>2.032500e+03</td>\n",
       "      <td>4.000000</td>\n",
       "    </tr>\n",
       "    <tr>\n",
       "      <th>75%</th>\n",
       "      <td>24.000000</td>\n",
       "      <td>1.659094e+06</td>\n",
       "      <td>7.797000e+04</td>\n",
       "      <td>986.750000</td>\n",
       "      <td>4.464750e+03</td>\n",
       "      <td>4.000000</td>\n",
       "    </tr>\n",
       "    <tr>\n",
       "      <th>max</th>\n",
       "      <td>29.000000</td>\n",
       "      <td>2.644074e+08</td>\n",
       "      <td>1.602153e+07</td>\n",
       "      <td>150989.000000</td>\n",
       "      <td>6.738537e+06</td>\n",
       "      <td>4.000000</td>\n",
       "    </tr>\n",
       "  </tbody>\n",
       "</table>\n",
       "</div>"
      ],
      "text/plain": [
       "        categoryId    view_count         likes       dislikes  comment_count  \\\n",
       "count  6066.000000  6.066000e+03  6.066000e+03    6066.000000   6.066000e+03   \n",
       "mean     19.211177  1.618367e+06  8.282504e+04    1294.960106   6.376052e+03   \n",
       "std       6.118404  4.642180e+06  2.735773e+05    4779.098698   8.926226e+04   \n",
       "min       1.000000  4.347200e+04  0.000000e+00       0.000000   0.000000e+00   \n",
       "25%      17.000000  4.015620e+05  1.233550e+04       0.000000   8.805000e+02   \n",
       "50%      20.000000  7.843430e+05  2.972750e+04     342.000000   2.032500e+03   \n",
       "75%      24.000000  1.659094e+06  7.797000e+04     986.750000   4.464750e+03   \n",
       "max      29.000000  2.644074e+08  1.602153e+07  150989.000000   6.738537e+06   \n",
       "\n",
       "       Number_of_days_it_trended  \n",
       "count                6066.000000  \n",
       "mean                    3.425321  \n",
       "std                     0.869438  \n",
       "min                     1.000000  \n",
       "25%                     3.000000  \n",
       "50%                     4.000000  \n",
       "75%                     4.000000  \n",
       "max                     4.000000  "
      ]
     },
     "execution_count": 9,
     "metadata": {},
     "output_type": "execute_result"
    }
   ],
   "source": [
    "df3.describe()"
   ]
  },
  {
   "cell_type": "code",
   "execution_count": 10,
   "id": "3258294b",
   "metadata": {},
   "outputs": [
    {
     "name": "stdout",
     "output_type": "stream",
     "text": [
      "Accuracy of Random Forest Classifier:  80.8 \b% (rounded to 1 decimal place)\n",
      "              precision    recall  f1-score   support\n",
      "\n",
      "           1       0.14      0.08      0.10        78\n",
      "           2       0.11      0.04      0.06       125\n",
      "           3       0.24      0.14      0.17       377\n",
      "           4       0.62      0.80      0.70       937\n",
      "\n",
      "    accuracy                           0.54      1517\n",
      "   macro avg       0.28      0.26      0.26      1517\n",
      "weighted avg       0.46      0.54      0.49      1517\n",
      "\n"
     ]
    },
    {
     "data": {
      "image/png": "[encoded data removed]",
      "text/plain": [
       "<Figure size 432x288 with 2 Axes>"
      ]
     },
     "metadata": {
      "needs_background": "light"
     },
     "output_type": "display_data"
    }
   ],
   "source": [
    "X=df3[['view_count', 'categoryId', 'comment_count']]  # Features\n",
    "y=df3['Number_of_days_it_trended']  # Labels\n",
    "\n",
    "# Split dataset into training set and test set\n",
    "X_train, X_test, y_train, y_test = train_test_split(X, y, test_size=0.25) # 75% training and 25% test\n",
    "\n",
    "#Create a Gaussian Classifier\n",
    "clf=RandomForestClassifier(n_estimators=100)\n",
    "\n",
    "#Train the model using the training sets y_pred=clf.predict(X_test)\n",
    "clf.fit(X_train,y_train)\n",
    "\n",
    "# Create our predictions\n",
    "prediction = clf.predict(X_test)\n",
    "\n",
    "# Display accuracy score\n",
    "print(\"Accuracy of Random Forest Classifier: \",round(accuracy_score(y_test, prediction)*100,1), '\\b% (rounded to 1 decimal place)')\n",
    "\n",
    "\n",
    "sb.heatmap(confusion_matrix(y_test, prediction), annot = True, fmt=\".0f\", annot_kws={\"size\": 18})\n",
    "print(classification_report(y_test, prediction))"
   ]
  },
  {
   "cell_type": "code",
   "execution_count": null,
   "id": "821345f8",
   "metadata": {
    "scrolled": false
   },
   "outputs": [],
   "source": []
  },
  {
   "cell_type": "code",
   "execution_count": null,
   "id": "ece53e30",
   "metadata": {},
   "outputs": [],
   "source": []
  },
  {
   "cell_type": "markdown",
   "id": "bb8693b9",
   "metadata": {},
   "source": [
    "# Conclusion"
   ]
  },
  {
   "cell_type": "markdown",
   "id": "36a44b9a",
   "metadata": {},
   "source": [
    "###"
   ]
  }
 ],
 "metadata": {
  "kernelspec": {
   "display_name": "Python 3 (ipykernel)",
   "language": "python",
   "name": "python3"
  },
  "language_info": {
   "codemirror_mode": {
    "name": "ipython",
    "version": 3
   },
   "file_extension": ".py",
   "mimetype": "text/x-python",
   "name": "python",
   "nbconvert_exporter": "python",
   "pygments_lexer": "ipython3",
   "version": "3.9.7"
  }
 },
 "nbformat": 4,
 "nbformat_minor": 5
}
