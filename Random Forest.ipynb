{
 "cells": [
  {
   "cell_type": "code",
   "execution_count": 1,
   "id": "68ccd517",
   "metadata": {
    "scrolled": true
   },
   "outputs": [],
   "source": [
    "\n",
    "import pandas as pd\n",
    "import numpy as np\n",
    "import matplotlib as mpl\n",
    "from matplotlib import pyplot as plt\n",
    "import seaborn as sns\n",
    "\n",
    "import warnings\n",
    "from collections import Counter\n",
    "import datetime\n",
    "\n",
    "import json\n"
   ]
  },
  {
   "cell_type": "code",
   "execution_count": 2,
   "id": "e6200ba9",
   "metadata": {},
   "outputs": [],
   "source": [
    "##!pip install wordcloud\n",
    "##import wordcloud"
   ]
  },
  {
   "cell_type": "code",
   "execution_count": 3,
   "id": "ef43ac0a",
   "metadata": {},
   "outputs": [],
   "source": [
    "df = pd.read_csv(\"US_youtube_trending_data.csv\")"
   ]
  },
  {
   "cell_type": "code",
   "execution_count": 4,
   "id": "5147e316",
   "metadata": {},
   "outputs": [],
   "source": [
    "PLOT_COLORS = [\"#268bd2\", \"#0052CC\", \"#FF5722\", \"#b58900\", \"#003f5c\"]\n",
    "pd.options.display.float_format = '{:.2f}'.format\n",
    "sns.set(style=\"ticks\")\n",
    "plt.rc('figure', figsize=(8, 5), dpi=100)\n",
    "plt.rc('axes', labelpad=20, facecolor=\"#ffffff\", linewidth=0.4, grid=True, labelsize=14)\n",
    "plt.rc('patch', linewidth=0)\n",
    "plt.rc('xtick.major', width=0.2)\n",
    "plt.rc('ytick.major', width=0.2)\n",
    "plt.rc('grid', color='#9E9E9E', linewidth=0.4)\n",
    "plt.rc('font', family='Arial', weight='400', size=10)\n",
    "plt.rc('text', color='#282828')\n",
    "plt.rc('savefig', pad_inches=0.3, dpi=300)"
   ]
  },
  {
   "cell_type": "code",
   "execution_count": 5,
   "id": "90f855c4",
   "metadata": {},
   "outputs": [
    {
     "data": {
      "text/html": [
       "<div>\n",
       "<style scoped>\n",
       "    .dataframe tbody tr th:only-of-type {\n",
       "        vertical-align: middle;\n",
       "    }\n",
       "\n",
       "    .dataframe tbody tr th {\n",
       "        vertical-align: top;\n",
       "    }\n",
       "\n",
       "    .dataframe thead th {\n",
       "        text-align: right;\n",
       "    }\n",
       "</style>\n",
       "<table border=\"1\" class=\"dataframe\">\n",
       "  <thead>\n",
       "    <tr style=\"text-align: right;\">\n",
       "      <th></th>\n",
       "      <th>video_id</th>\n",
       "      <th>title</th>\n",
       "      <th>publishedAt</th>\n",
       "      <th>channelId</th>\n",
       "      <th>channelTitle</th>\n",
       "      <th>categoryId</th>\n",
       "      <th>trending_date</th>\n",
       "      <th>tags</th>\n",
       "      <th>view_count</th>\n",
       "      <th>likes</th>\n",
       "      <th>dislikes</th>\n",
       "      <th>comment_count</th>\n",
       "      <th>thumbnail_link</th>\n",
       "      <th>comments_disabled</th>\n",
       "      <th>ratings_disabled</th>\n",
       "      <th>description</th>\n",
       "    </tr>\n",
       "  </thead>\n",
       "  <tbody>\n",
       "    <tr>\n",
       "      <th>0</th>\n",
       "      <td>3C66w5Z0ixs</td>\n",
       "      <td>I ASKED HER TO BE MY GIRLFRIEND...</td>\n",
       "      <td>2020-08-11T19:20:14Z</td>\n",
       "      <td>UCvtRTOMP2TqYqu51xNrqAzg</td>\n",
       "      <td>Brawadis</td>\n",
       "      <td>22</td>\n",
       "      <td>2020-08-12T00:00:00Z</td>\n",
       "      <td>brawadis|prank|basketball|skits|ghost|funny vi...</td>\n",
       "      <td>1514614</td>\n",
       "      <td>156908</td>\n",
       "      <td>5855</td>\n",
       "      <td>35313</td>\n",
       "      <td>https://i.ytimg.com/vi/3C66w5Z0ixs/default.jpg</td>\n",
       "      <td>False</td>\n",
       "      <td>False</td>\n",
       "      <td>SUBSCRIBE to BRAWADIS ▶ http://bit.ly/Subscrib...</td>\n",
       "    </tr>\n",
       "    <tr>\n",
       "      <th>1</th>\n",
       "      <td>M9Pmf9AB4Mo</td>\n",
       "      <td>Apex Legends | Stories from the Outlands – “Th...</td>\n",
       "      <td>2020-08-11T17:00:10Z</td>\n",
       "      <td>UC0ZV6M2THA81QT9hrVWJG3A</td>\n",
       "      <td>Apex Legends</td>\n",
       "      <td>20</td>\n",
       "      <td>2020-08-12T00:00:00Z</td>\n",
       "      <td>Apex Legends|Apex Legends characters|new Apex ...</td>\n",
       "      <td>2381688</td>\n",
       "      <td>146739</td>\n",
       "      <td>2794</td>\n",
       "      <td>16549</td>\n",
       "      <td>https://i.ytimg.com/vi/M9Pmf9AB4Mo/default.jpg</td>\n",
       "      <td>False</td>\n",
       "      <td>False</td>\n",
       "      <td>While running her own modding shop, Ramya Pare...</td>\n",
       "    </tr>\n",
       "    <tr>\n",
       "      <th>2</th>\n",
       "      <td>J78aPJ3VyNs</td>\n",
       "      <td>I left youtube for a month and THIS is what ha...</td>\n",
       "      <td>2020-08-11T16:34:06Z</td>\n",
       "      <td>UCYzPXprvl5Y-Sf0g4vX-m6g</td>\n",
       "      <td>jacksepticeye</td>\n",
       "      <td>24</td>\n",
       "      <td>2020-08-12T00:00:00Z</td>\n",
       "      <td>jacksepticeye|funny|funny meme|memes|jacksepti...</td>\n",
       "      <td>2038853</td>\n",
       "      <td>353787</td>\n",
       "      <td>2628</td>\n",
       "      <td>40221</td>\n",
       "      <td>https://i.ytimg.com/vi/J78aPJ3VyNs/default.jpg</td>\n",
       "      <td>False</td>\n",
       "      <td>False</td>\n",
       "      <td>I left youtube for a month and this is what ha...</td>\n",
       "    </tr>\n",
       "    <tr>\n",
       "      <th>3</th>\n",
       "      <td>kXLn3HkpjaA</td>\n",
       "      <td>XXL 2020 Freshman Class Revealed - Official An...</td>\n",
       "      <td>2020-08-11T16:38:55Z</td>\n",
       "      <td>UCbg_UMjlHJg_19SZckaKajg</td>\n",
       "      <td>XXL</td>\n",
       "      <td>10</td>\n",
       "      <td>2020-08-12T00:00:00Z</td>\n",
       "      <td>xxl freshman|xxl freshmen|2020 xxl freshman|20...</td>\n",
       "      <td>496771</td>\n",
       "      <td>23251</td>\n",
       "      <td>1856</td>\n",
       "      <td>7647</td>\n",
       "      <td>https://i.ytimg.com/vi/kXLn3HkpjaA/default.jpg</td>\n",
       "      <td>False</td>\n",
       "      <td>False</td>\n",
       "      <td>Subscribe to XXL → http://bit.ly/subscribe-xxl...</td>\n",
       "    </tr>\n",
       "    <tr>\n",
       "      <th>4</th>\n",
       "      <td>VIUo6yapDbc</td>\n",
       "      <td>Ultimate DIY Home Movie Theater for The LaBran...</td>\n",
       "      <td>2020-08-11T15:10:05Z</td>\n",
       "      <td>UCDVPcEbVLQgLZX0Rt6jo34A</td>\n",
       "      <td>Mr. Kate</td>\n",
       "      <td>26</td>\n",
       "      <td>2020-08-12T00:00:00Z</td>\n",
       "      <td>The LaBrant Family|DIY|Interior Design|Makeove...</td>\n",
       "      <td>1123889</td>\n",
       "      <td>45802</td>\n",
       "      <td>964</td>\n",
       "      <td>2196</td>\n",
       "      <td>https://i.ytimg.com/vi/VIUo6yapDbc/default.jpg</td>\n",
       "      <td>False</td>\n",
       "      <td>False</td>\n",
       "      <td>Transforming The LaBrant Family's empty white ...</td>\n",
       "    </tr>\n",
       "  </tbody>\n",
       "</table>\n",
       "</div>"
      ],
      "text/plain": [
       "      video_id                                              title  \\\n",
       "0  3C66w5Z0ixs                 I ASKED HER TO BE MY GIRLFRIEND...   \n",
       "1  M9Pmf9AB4Mo  Apex Legends | Stories from the Outlands – “Th...   \n",
       "2  J78aPJ3VyNs  I left youtube for a month and THIS is what ha...   \n",
       "3  kXLn3HkpjaA  XXL 2020 Freshman Class Revealed - Official An...   \n",
       "4  VIUo6yapDbc  Ultimate DIY Home Movie Theater for The LaBran...   \n",
       "\n",
       "            publishedAt                 channelId   channelTitle  categoryId  \\\n",
       "0  2020-08-11T19:20:14Z  UCvtRTOMP2TqYqu51xNrqAzg       Brawadis          22   \n",
       "1  2020-08-11T17:00:10Z  UC0ZV6M2THA81QT9hrVWJG3A   Apex Legends          20   \n",
       "2  2020-08-11T16:34:06Z  UCYzPXprvl5Y-Sf0g4vX-m6g  jacksepticeye          24   \n",
       "3  2020-08-11T16:38:55Z  UCbg_UMjlHJg_19SZckaKajg            XXL          10   \n",
       "4  2020-08-11T15:10:05Z  UCDVPcEbVLQgLZX0Rt6jo34A       Mr. Kate          26   \n",
       "\n",
       "          trending_date                                               tags  \\\n",
       "0  2020-08-12T00:00:00Z  brawadis|prank|basketball|skits|ghost|funny vi...   \n",
       "1  2020-08-12T00:00:00Z  Apex Legends|Apex Legends characters|new Apex ...   \n",
       "2  2020-08-12T00:00:00Z  jacksepticeye|funny|funny meme|memes|jacksepti...   \n",
       "3  2020-08-12T00:00:00Z  xxl freshman|xxl freshmen|2020 xxl freshman|20...   \n",
       "4  2020-08-12T00:00:00Z  The LaBrant Family|DIY|Interior Design|Makeove...   \n",
       "\n",
       "   view_count   likes  dislikes  comment_count  \\\n",
       "0     1514614  156908      5855          35313   \n",
       "1     2381688  146739      2794          16549   \n",
       "2     2038853  353787      2628          40221   \n",
       "3      496771   23251      1856           7647   \n",
       "4     1123889   45802       964           2196   \n",
       "\n",
       "                                   thumbnail_link  comments_disabled  \\\n",
       "0  https://i.ytimg.com/vi/3C66w5Z0ixs/default.jpg              False   \n",
       "1  https://i.ytimg.com/vi/M9Pmf9AB4Mo/default.jpg              False   \n",
       "2  https://i.ytimg.com/vi/J78aPJ3VyNs/default.jpg              False   \n",
       "3  https://i.ytimg.com/vi/kXLn3HkpjaA/default.jpg              False   \n",
       "4  https://i.ytimg.com/vi/VIUo6yapDbc/default.jpg              False   \n",
       "\n",
       "   ratings_disabled                                        description  \n",
       "0             False  SUBSCRIBE to BRAWADIS ▶ http://bit.ly/Subscrib...  \n",
       "1             False  While running her own modding shop, Ramya Pare...  \n",
       "2             False  I left youtube for a month and this is what ha...  \n",
       "3             False  Subscribe to XXL → http://bit.ly/subscribe-xxl...  \n",
       "4             False  Transforming The LaBrant Family's empty white ...  "
      ]
     },
     "execution_count": 5,
     "metadata": {},
     "output_type": "execute_result"
    }
   ],
   "source": [
    "df.head()"
   ]
  },
  {
   "cell_type": "code",
   "execution_count": 6,
   "id": "f29a3dbc",
   "metadata": {},
   "outputs": [
    {
     "name": "stdout",
     "output_type": "stream",
     "text": [
      "<class 'pandas.core.frame.DataFrame'>\n",
      "RangeIndex: 120791 entries, 0 to 120790\n",
      "Data columns (total 16 columns):\n",
      " #   Column             Non-Null Count   Dtype \n",
      "---  ------             --------------   ----- \n",
      " 0   video_id           120791 non-null  object\n",
      " 1   title              120791 non-null  object\n",
      " 2   publishedAt        120791 non-null  object\n",
      " 3   channelId          120791 non-null  object\n",
      " 4   channelTitle       120791 non-null  object\n",
      " 5   categoryId         120791 non-null  int64 \n",
      " 6   trending_date      120791 non-null  object\n",
      " 7   tags               120791 non-null  object\n",
      " 8   view_count         120791 non-null  int64 \n",
      " 9   likes              120791 non-null  int64 \n",
      " 10  dislikes           120791 non-null  int64 \n",
      " 11  comment_count      120791 non-null  int64 \n",
      " 12  thumbnail_link     120791 non-null  object\n",
      " 13  comments_disabled  120791 non-null  bool  \n",
      " 14  ratings_disabled   120791 non-null  bool  \n",
      " 15  description        117339 non-null  object\n",
      "dtypes: bool(2), int64(5), object(9)\n",
      "memory usage: 13.1+ MB\n"
     ]
    }
   ],
   "source": [
    "df.info()"
   ]
  },
  {
   "cell_type": "markdown",
   "id": "eff75009",
   "metadata": {},
   "source": [
    "# DATA PREPARTION\n",
    "\n",
    "Seperation of dataset to non numeric and numeric\n",
    "- Remove the non 2021 year data.\n",
    "- Remove Unwanted columns."
   ]
  },
  {
   "cell_type": "code",
   "execution_count": 7,
   "id": "a99f6e76",
   "metadata": {},
   "outputs": [
    {
     "name": "stdout",
     "output_type": "stream",
     "text": [
      "<class 'pandas.core.frame.DataFrame'>\n",
      "RangeIndex: 120791 entries, 0 to 120790\n",
      "Data columns (total 16 columns):\n",
      " #   Column             Non-Null Count   Dtype \n",
      "---  ------             --------------   ----- \n",
      " 0   video_id           120791 non-null  object\n",
      " 1   title              120791 non-null  object\n",
      " 2   publishedAt        120791 non-null  object\n",
      " 3   channelId          120791 non-null  object\n",
      " 4   channelTitle       120791 non-null  object\n",
      " 5   categoryId         120791 non-null  int64 \n",
      " 6   trending_date      120791 non-null  object\n",
      " 7   tags               120791 non-null  object\n",
      " 8   view_count         120791 non-null  int64 \n",
      " 9   likes              120791 non-null  int64 \n",
      " 10  dislikes           120791 non-null  int64 \n",
      " 11  comment_count      120791 non-null  int64 \n",
      " 12  thumbnail_link     120791 non-null  object\n",
      " 13  comments_disabled  120791 non-null  bool  \n",
      " 14  ratings_disabled   120791 non-null  bool  \n",
      " 15  description        117339 non-null  object\n",
      "dtypes: bool(2), int64(5), object(9)\n",
      "memory usage: 13.1+ MB\n"
     ]
    }
   ],
   "source": [
    "df.info()"
   ]
  },
  {
   "cell_type": "code",
   "execution_count": 8,
   "id": "c4c848f8",
   "metadata": {},
   "outputs": [],
   "source": [
    "df = df[df[\"publishedAt\"].str.contains(\"2020|2022\") == False]\n"
   ]
  },
  {
   "cell_type": "code",
   "execution_count": 9,
   "id": "50757090",
   "metadata": {},
   "outputs": [
    {
     "name": "stdout",
     "output_type": "stream",
     "text": [
      "<class 'pandas.core.frame.DataFrame'>\n",
      "Int64Index: 74225 entries, 27796 to 103589\n",
      "Data columns (total 16 columns):\n",
      " #   Column             Non-Null Count  Dtype \n",
      "---  ------             --------------  ----- \n",
      " 0   video_id           74225 non-null  object\n",
      " 1   title              74225 non-null  object\n",
      " 2   publishedAt        74225 non-null  object\n",
      " 3   channelId          74225 non-null  object\n",
      " 4   channelTitle       74225 non-null  object\n",
      " 5   categoryId         74225 non-null  int64 \n",
      " 6   trending_date      74225 non-null  object\n",
      " 7   tags               74225 non-null  object\n",
      " 8   view_count         74225 non-null  int64 \n",
      " 9   likes              74225 non-null  int64 \n",
      " 10  dislikes           74225 non-null  int64 \n",
      " 11  comment_count      74225 non-null  int64 \n",
      " 12  thumbnail_link     74225 non-null  object\n",
      " 13  comments_disabled  74225 non-null  bool  \n",
      " 14  ratings_disabled   74225 non-null  bool  \n",
      " 15  description        72363 non-null  object\n",
      "dtypes: bool(2), int64(5), object(9)\n",
      "memory usage: 8.6+ MB\n"
     ]
    }
   ],
   "source": [
    "df.info()"
   ]
  },
  {
   "cell_type": "markdown",
   "id": "80192f6d",
   "metadata": {},
   "source": [
    "## To Check if Data only consist of 2020 published videos (74225)"
   ]
  },
  {
   "cell_type": "code",
   "execution_count": 10,
   "id": "2a8905e6",
   "metadata": {},
   "outputs": [
    {
     "data": {
      "image/png": "[encoded data removed]",
      "text/plain": [
       "<Figure size 800x500 with 1 Axes>"
      ]
     },
     "metadata": {},
     "output_type": "display_data"
    }
   ],
   "source": [
    "#cdf contains 2021 data with the year, published, no of videos\n",
    "cdf = df[\"publishedAt\"].apply(lambda x: '' + x[:4]).value_counts() \\\n",
    "            .to_frame().reset_index() \\\n",
    "            .rename(columns={\"index\": \"year\", \"publishedAt\": \"No_of_videos\"})\n",
    "\n",
    "\n",
    "\n",
    "fig, ax = plt.subplots()\n",
    "_ = sns.barplot(x=\"year\", y=\"No_of_videos\", data=cdf, \n",
    "                palette=sns.color_palette(['#ff764a', '#ffa600'], n_colors=7), ax=ax)\n",
    "_ = ax.set(xlabel=\"Year\", ylabel=\"No. of videos\")"
   ]
  },
  {
   "cell_type": "code",
   "execution_count": 11,
   "id": "a0045a91",
   "metadata": {
    "scrolled": true
   },
   "outputs": [
    {
     "data": {
      "text/plain": [
       "2021   0.99\n",
       "2022   0.01\n",
       "Name: trending_date, dtype: float64"
      ]
     },
     "execution_count": 11,
     "metadata": {},
     "output_type": "execute_result"
    }
   ],
   "source": [
    "df[\"publishedAt\"].apply(lambda x: '' + x[:4]).value_counts(normalize=True)\n",
    "df[\"trending_date\"].apply(lambda x: '' + x[:4]).value_counts(normalize=True)\n"
   ]
  },
  {
   "cell_type": "code",
   "execution_count": 12,
   "id": "a03b7249",
   "metadata": {
    "scrolled": true
   },
   "outputs": [
    {
     "data": {
      "text/html": [
       "<div>\n",
       "<style scoped>\n",
       "    .dataframe tbody tr th:only-of-type {\n",
       "        vertical-align: middle;\n",
       "    }\n",
       "\n",
       "    .dataframe tbody tr th {\n",
       "        vertical-align: top;\n",
       "    }\n",
       "\n",
       "    .dataframe thead th {\n",
       "        text-align: right;\n",
       "    }\n",
       "</style>\n",
       "<table border=\"1\" class=\"dataframe\">\n",
       "  <thead>\n",
       "    <tr style=\"text-align: right;\">\n",
       "      <th></th>\n",
       "      <th>title</th>\n",
       "      <th>publishedAt</th>\n",
       "      <th>channelTitle</th>\n",
       "      <th>categoryId</th>\n",
       "      <th>trending_date</th>\n",
       "      <th>tags</th>\n",
       "      <th>view_count</th>\n",
       "      <th>likes</th>\n",
       "      <th>dislikes</th>\n",
       "      <th>comment_count</th>\n",
       "      <th>comments_disabled</th>\n",
       "      <th>ratings_disabled</th>\n",
       "      <th>description</th>\n",
       "    </tr>\n",
       "  </thead>\n",
       "  <tbody>\n",
       "    <tr>\n",
       "      <th>27796</th>\n",
       "      <td>Youtube Rewind 2020, Thank God It's Over</td>\n",
       "      <td>2021-01-01T21:00:03Z</td>\n",
       "      <td>MrBeast</td>\n",
       "      <td>24</td>\n",
       "      <td>2021-01-02T00:00:00Z</td>\n",
       "      <td>[None]</td>\n",
       "      <td>17866867</td>\n",
       "      <td>2862697</td>\n",
       "      <td>19927</td>\n",
       "      <td>224811</td>\n",
       "      <td>False</td>\n",
       "      <td>False</td>\n",
       "      <td>This is what Youtube Rewind would look like if...</td>\n",
       "    </tr>\n",
       "    <tr>\n",
       "      <th>27797</th>\n",
       "      <td>Justin Bieber - Anyone</td>\n",
       "      <td>2021-01-01T05:00:08Z</td>\n",
       "      <td>JustinBieberVEVO</td>\n",
       "      <td>10</td>\n",
       "      <td>2021-01-02T00:00:00Z</td>\n",
       "      <td>Justin|Bieber|Anyone|RBMG/Def|Jam|Pop</td>\n",
       "      <td>11013551</td>\n",
       "      <td>782233</td>\n",
       "      <td>21750</td>\n",
       "      <td>63315</td>\n",
       "      <td>False</td>\n",
       "      <td>False</td>\n",
       "      <td>Anyone out now: https://JustinBieber.lnk.to/An...</td>\n",
       "    </tr>\n",
       "    <tr>\n",
       "      <th>27798</th>\n",
       "      <td>Jennifer Lopez | New Year's Rockin' Eve Perfor...</td>\n",
       "      <td>2021-01-01T09:00:37Z</td>\n",
       "      <td>Jennifer Lopez</td>\n",
       "      <td>10</td>\n",
       "      <td>2021-01-02T00:00:00Z</td>\n",
       "      <td>[None]</td>\n",
       "      <td>2060520</td>\n",
       "      <td>34996</td>\n",
       "      <td>6049</td>\n",
       "      <td>5788</td>\n",
       "      <td>False</td>\n",
       "      <td>False</td>\n",
       "      <td>Jennifer Lopez | New Year's Rockin' Eve Perfor...</td>\n",
       "    </tr>\n",
       "    <tr>\n",
       "      <th>27799</th>\n",
       "      <td>London's 2021 fireworks 🎆 Happy New Year Live!...</td>\n",
       "      <td>2021-01-01T00:13:16Z</td>\n",
       "      <td>BBC</td>\n",
       "      <td>24</td>\n",
       "      <td>2021-01-02T00:00:00Z</td>\n",
       "      <td>fireworks|NYE|new year countdown 2021|firework...</td>\n",
       "      <td>5478680</td>\n",
       "      <td>85416</td>\n",
       "      <td>9242</td>\n",
       "      <td>16876</td>\n",
       "      <td>False</td>\n",
       "      <td>False</td>\n",
       "      <td>Subscribe and 🔔 to OFFICIAL BBC YouTube 👉 http...</td>\n",
       "    </tr>\n",
       "    <tr>\n",
       "      <th>27802</th>\n",
       "      <td>Welcome to BREATH - A 30 Day Yoga Journey  |  ...</td>\n",
       "      <td>2021-01-01T06:00:09Z</td>\n",
       "      <td>Yoga With Adriene</td>\n",
       "      <td>26</td>\n",
       "      <td>2021-01-02T00:00:00Z</td>\n",
       "      <td>breath|breath yoga|30 days of yoga|30 day yoga...</td>\n",
       "      <td>884345</td>\n",
       "      <td>34736</td>\n",
       "      <td>508</td>\n",
       "      <td>4669</td>\n",
       "      <td>False</td>\n",
       "      <td>False</td>\n",
       "      <td>It is happening! Today’s video is a bit of an ...</td>\n",
       "    </tr>\n",
       "    <tr>\n",
       "      <th>...</th>\n",
       "      <td>...</td>\n",
       "      <td>...</td>\n",
       "      <td>...</td>\n",
       "      <td>...</td>\n",
       "      <td>...</td>\n",
       "      <td>...</td>\n",
       "      <td>...</td>\n",
       "      <td>...</td>\n",
       "      <td>...</td>\n",
       "      <td>...</td>\n",
       "      <td>...</td>\n",
       "      <td>...</td>\n",
       "      <td>...</td>\n",
       "    </tr>\n",
       "    <tr>\n",
       "      <th>103571</th>\n",
       "      <td>Part 1’ #short #ricardofloors #stairs</td>\n",
       "      <td>2021-12-29T10:43:30Z</td>\n",
       "      <td>Ricardofloors</td>\n",
       "      <td>26</td>\n",
       "      <td>2022-01-07T00:00:00Z</td>\n",
       "      <td>[None]</td>\n",
       "      <td>3010195</td>\n",
       "      <td>27044</td>\n",
       "      <td>0</td>\n",
       "      <td>338</td>\n",
       "      <td>False</td>\n",
       "      <td>False</td>\n",
       "      <td>NaN</td>\n",
       "    </tr>\n",
       "    <tr>\n",
       "      <th>103575</th>\n",
       "      <td>21 Savage - No Debate / Big Smoke (Official Vi...</td>\n",
       "      <td>2021-12-31T21:00:30Z</td>\n",
       "      <td>21 Savage</td>\n",
       "      <td>10</td>\n",
       "      <td>2022-01-07T00:00:00Z</td>\n",
       "      <td>21 savage|21 savage 2021|21 savage music|21 sa...</td>\n",
       "      <td>2771407</td>\n",
       "      <td>145832</td>\n",
       "      <td>0</td>\n",
       "      <td>6121</td>\n",
       "      <td>False</td>\n",
       "      <td>False</td>\n",
       "      <td>Watch the official video for No Debate / Big S...</td>\n",
       "    </tr>\n",
       "    <tr>\n",
       "      <th>103582</th>\n",
       "      <td>I can't stop buying weird ads (&amp; getting scammed)</td>\n",
       "      <td>2021-12-31T18:57:06Z</td>\n",
       "      <td>Drew Gooden</td>\n",
       "      <td>23</td>\n",
       "      <td>2022-01-07T00:00:00Z</td>\n",
       "      <td>drew gooden|comedy|commentary|reaction|vine|dr...</td>\n",
       "      <td>2537322</td>\n",
       "      <td>179666</td>\n",
       "      <td>0</td>\n",
       "      <td>7810</td>\n",
       "      <td>False</td>\n",
       "      <td>False</td>\n",
       "      <td>Sponsored by Current. Head to https://www.curr...</td>\n",
       "    </tr>\n",
       "    <tr>\n",
       "      <th>103583</th>\n",
       "      <td>Stockholm Syndrome: The Movie</td>\n",
       "      <td>2021-12-31T18:00:03Z</td>\n",
       "      <td>Kurtis Conner</td>\n",
       "      <td>23</td>\n",
       "      <td>2022-01-07T00:00:00Z</td>\n",
       "      <td>kurtis conner|kurtis connor|christmas movie|ba...</td>\n",
       "      <td>1554261</td>\n",
       "      <td>136737</td>\n",
       "      <td>0</td>\n",
       "      <td>5660</td>\n",
       "      <td>False</td>\n",
       "      <td>False</td>\n",
       "      <td>Use code KURTISTOWN16 for up to16 FREE MEALS +...</td>\n",
       "    </tr>\n",
       "    <tr>\n",
       "      <th>103589</th>\n",
       "      <td>JUST PLAY DEAD #shorts #lifehacks</td>\n",
       "      <td>2021-12-31T17:10:03Z</td>\n",
       "      <td>Jack Neel</td>\n",
       "      <td>24</td>\n",
       "      <td>2022-01-07T00:00:00Z</td>\n",
       "      <td>[None]</td>\n",
       "      <td>4238591</td>\n",
       "      <td>537339</td>\n",
       "      <td>0</td>\n",
       "      <td>2074</td>\n",
       "      <td>False</td>\n",
       "      <td>False</td>\n",
       "      <td>NaN</td>\n",
       "    </tr>\n",
       "  </tbody>\n",
       "</table>\n",
       "<p>74225 rows × 13 columns</p>\n",
       "</div>"
      ],
      "text/plain": [
       "                                                    title  \\\n",
       "27796            Youtube Rewind 2020, Thank God It's Over   \n",
       "27797                              Justin Bieber - Anyone   \n",
       "27798   Jennifer Lopez | New Year's Rockin' Eve Perfor...   \n",
       "27799   London's 2021 fireworks 🎆 Happy New Year Live!...   \n",
       "27802   Welcome to BREATH - A 30 Day Yoga Journey  |  ...   \n",
       "...                                                   ...   \n",
       "103571              Part 1’ #short #ricardofloors #stairs   \n",
       "103575  21 Savage - No Debate / Big Smoke (Official Vi...   \n",
       "103582  I can't stop buying weird ads (& getting scammed)   \n",
       "103583                      Stockholm Syndrome: The Movie   \n",
       "103589                  JUST PLAY DEAD #shorts #lifehacks   \n",
       "\n",
       "                 publishedAt       channelTitle  categoryId  \\\n",
       "27796   2021-01-01T21:00:03Z            MrBeast          24   \n",
       "27797   2021-01-01T05:00:08Z   JustinBieberVEVO          10   \n",
       "27798   2021-01-01T09:00:37Z     Jennifer Lopez          10   \n",
       "27799   2021-01-01T00:13:16Z                BBC          24   \n",
       "27802   2021-01-01T06:00:09Z  Yoga With Adriene          26   \n",
       "...                      ...                ...         ...   \n",
       "103571  2021-12-29T10:43:30Z      Ricardofloors          26   \n",
       "103575  2021-12-31T21:00:30Z          21 Savage          10   \n",
       "103582  2021-12-31T18:57:06Z        Drew Gooden          23   \n",
       "103583  2021-12-31T18:00:03Z      Kurtis Conner          23   \n",
       "103589  2021-12-31T17:10:03Z          Jack Neel          24   \n",
       "\n",
       "               trending_date  \\\n",
       "27796   2021-01-02T00:00:00Z   \n",
       "27797   2021-01-02T00:00:00Z   \n",
       "27798   2021-01-02T00:00:00Z   \n",
       "27799   2021-01-02T00:00:00Z   \n",
       "27802   2021-01-02T00:00:00Z   \n",
       "...                      ...   \n",
       "103571  2022-01-07T00:00:00Z   \n",
       "103575  2022-01-07T00:00:00Z   \n",
       "103582  2022-01-07T00:00:00Z   \n",
       "103583  2022-01-07T00:00:00Z   \n",
       "103589  2022-01-07T00:00:00Z   \n",
       "\n",
       "                                                     tags  view_count  \\\n",
       "27796                                              [None]    17866867   \n",
       "27797               Justin|Bieber|Anyone|RBMG/Def|Jam|Pop    11013551   \n",
       "27798                                              [None]     2060520   \n",
       "27799   fireworks|NYE|new year countdown 2021|firework...     5478680   \n",
       "27802   breath|breath yoga|30 days of yoga|30 day yoga...      884345   \n",
       "...                                                   ...         ...   \n",
       "103571                                             [None]     3010195   \n",
       "103575  21 savage|21 savage 2021|21 savage music|21 sa...     2771407   \n",
       "103582  drew gooden|comedy|commentary|reaction|vine|dr...     2537322   \n",
       "103583  kurtis conner|kurtis connor|christmas movie|ba...     1554261   \n",
       "103589                                             [None]     4238591   \n",
       "\n",
       "          likes  dislikes  comment_count  comments_disabled  ratings_disabled  \\\n",
       "27796   2862697     19927         224811              False             False   \n",
       "27797    782233     21750          63315              False             False   \n",
       "27798     34996      6049           5788              False             False   \n",
       "27799     85416      9242          16876              False             False   \n",
       "27802     34736       508           4669              False             False   \n",
       "...         ...       ...            ...                ...               ...   \n",
       "103571    27044         0            338              False             False   \n",
       "103575   145832         0           6121              False             False   \n",
       "103582   179666         0           7810              False             False   \n",
       "103583   136737         0           5660              False             False   \n",
       "103589   537339         0           2074              False             False   \n",
       "\n",
       "                                              description  \n",
       "27796   This is what Youtube Rewind would look like if...  \n",
       "27797   Anyone out now: https://JustinBieber.lnk.to/An...  \n",
       "27798   Jennifer Lopez | New Year's Rockin' Eve Perfor...  \n",
       "27799   Subscribe and 🔔 to OFFICIAL BBC YouTube 👉 http...  \n",
       "27802   It is happening! Today’s video is a bit of an ...  \n",
       "...                                                   ...  \n",
       "103571                                                NaN  \n",
       "103575  Watch the official video for No Debate / Big S...  \n",
       "103582  Sponsored by Current. Head to https://www.curr...  \n",
       "103583  Use code KURTISTOWN16 for up to16 FREE MEALS +...  \n",
       "103589                                                NaN  \n",
       "\n",
       "[74225 rows x 13 columns]"
      ]
     },
     "execution_count": 12,
     "metadata": {},
     "output_type": "execute_result"
    }
   ],
   "source": [
    "df.drop(['channelId', 'video_id','thumbnail_link'], axis=1)"
   ]
  },
  {
   "cell_type": "code",
   "execution_count": 13,
   "id": "6b3a4f93",
   "metadata": {},
   "outputs": [],
   "source": [
    "df['categoryId'] = pd.Categorical(df['categoryId'])"
   ]
  },
  {
   "cell_type": "markdown",
   "id": "d695fef3",
   "metadata": {},
   "source": [
    "# DATA CLEANING\n",
    "checking if any data have NAN "
   ]
  },
  {
   "cell_type": "code",
   "execution_count": 14,
   "id": "e7d14da2",
   "metadata": {
    "scrolled": true
   },
   "outputs": [
    {
     "data": {
      "text/html": [
       "<div>\n",
       "<style scoped>\n",
       "    .dataframe tbody tr th:only-of-type {\n",
       "        vertical-align: middle;\n",
       "    }\n",
       "\n",
       "    .dataframe tbody tr th {\n",
       "        vertical-align: top;\n",
       "    }\n",
       "\n",
       "    .dataframe thead th {\n",
       "        text-align: right;\n",
       "    }\n",
       "</style>\n",
       "<table border=\"1\" class=\"dataframe\">\n",
       "  <thead>\n",
       "    <tr style=\"text-align: right;\">\n",
       "      <th></th>\n",
       "      <th>video_id</th>\n",
       "      <th>title</th>\n",
       "      <th>publishedAt</th>\n",
       "      <th>channelId</th>\n",
       "      <th>channelTitle</th>\n",
       "      <th>categoryId</th>\n",
       "      <th>trending_date</th>\n",
       "      <th>tags</th>\n",
       "      <th>view_count</th>\n",
       "      <th>likes</th>\n",
       "      <th>dislikes</th>\n",
       "      <th>comment_count</th>\n",
       "      <th>thumbnail_link</th>\n",
       "      <th>comments_disabled</th>\n",
       "      <th>ratings_disabled</th>\n",
       "      <th>description</th>\n",
       "    </tr>\n",
       "  </thead>\n",
       "  <tbody>\n",
       "    <tr>\n",
       "      <th>28481</th>\n",
       "      <td>ptndYf5whSU</td>\n",
       "      <td>EXCLUSIVE! WOW! RYAN GARCIA IMMEDIATELY AFTER ...</td>\n",
       "      <td>2021-01-03T01:00:51Z</td>\n",
       "      <td>UCjb7rhCq6GmiW42NRjEgA9g</td>\n",
       "      <td>Fino Boxing</td>\n",
       "      <td>17</td>\n",
       "      <td>2021-01-05T00:00:00Z</td>\n",
       "      <td>Ryan García|Luke Campbell|Fino Boxing|Eddie He...</td>\n",
       "      <td>199291</td>\n",
       "      <td>2499</td>\n",
       "      <td>92</td>\n",
       "      <td>429</td>\n",
       "      <td>https://i.ytimg.com/vi/ptndYf5whSU/default.jpg</td>\n",
       "      <td>False</td>\n",
       "      <td>False</td>\n",
       "      <td>NaN</td>\n",
       "    </tr>\n",
       "    <tr>\n",
       "      <th>28703</th>\n",
       "      <td>ptndYf5whSU</td>\n",
       "      <td>EXCLUSIVE! WOW! RYAN GARCIA IMMEDIATELY AFTER ...</td>\n",
       "      <td>2021-01-03T01:00:51Z</td>\n",
       "      <td>UCjb7rhCq6GmiW42NRjEgA9g</td>\n",
       "      <td>Fino Boxing</td>\n",
       "      <td>17</td>\n",
       "      <td>2021-01-06T00:00:00Z</td>\n",
       "      <td>Ryan García|Luke Campbell|Fino Boxing|Eddie He...</td>\n",
       "      <td>205304</td>\n",
       "      <td>2532</td>\n",
       "      <td>93</td>\n",
       "      <td>442</td>\n",
       "      <td>https://i.ytimg.com/vi/ptndYf5whSU/default.jpg</td>\n",
       "      <td>False</td>\n",
       "      <td>False</td>\n",
       "      <td>NaN</td>\n",
       "    </tr>\n",
       "    <tr>\n",
       "      <th>28924</th>\n",
       "      <td>ptndYf5whSU</td>\n",
       "      <td>EXCLUSIVE! WOW! RYAN GARCIA IMMEDIATELY AFTER ...</td>\n",
       "      <td>2021-01-03T01:00:51Z</td>\n",
       "      <td>UCjb7rhCq6GmiW42NRjEgA9g</td>\n",
       "      <td>Fino Boxing</td>\n",
       "      <td>17</td>\n",
       "      <td>2021-01-07T00:00:00Z</td>\n",
       "      <td>Ryan García|Luke Campbell|Fino Boxing|Eddie He...</td>\n",
       "      <td>208697</td>\n",
       "      <td>2559</td>\n",
       "      <td>95</td>\n",
       "      <td>446</td>\n",
       "      <td>https://i.ytimg.com/vi/ptndYf5whSU/default.jpg</td>\n",
       "      <td>False</td>\n",
       "      <td>False</td>\n",
       "      <td>NaN</td>\n",
       "    </tr>\n",
       "  </tbody>\n",
       "</table>\n",
       "</div>"
      ],
      "text/plain": [
       "          video_id                                              title  \\\n",
       "28481  ptndYf5whSU  EXCLUSIVE! WOW! RYAN GARCIA IMMEDIATELY AFTER ...   \n",
       "28703  ptndYf5whSU  EXCLUSIVE! WOW! RYAN GARCIA IMMEDIATELY AFTER ...   \n",
       "28924  ptndYf5whSU  EXCLUSIVE! WOW! RYAN GARCIA IMMEDIATELY AFTER ...   \n",
       "\n",
       "                publishedAt                 channelId channelTitle categoryId  \\\n",
       "28481  2021-01-03T01:00:51Z  UCjb7rhCq6GmiW42NRjEgA9g  Fino Boxing         17   \n",
       "28703  2021-01-03T01:00:51Z  UCjb7rhCq6GmiW42NRjEgA9g  Fino Boxing         17   \n",
       "28924  2021-01-03T01:00:51Z  UCjb7rhCq6GmiW42NRjEgA9g  Fino Boxing         17   \n",
       "\n",
       "              trending_date  \\\n",
       "28481  2021-01-05T00:00:00Z   \n",
       "28703  2021-01-06T00:00:00Z   \n",
       "28924  2021-01-07T00:00:00Z   \n",
       "\n",
       "                                                    tags  view_count  likes  \\\n",
       "28481  Ryan García|Luke Campbell|Fino Boxing|Eddie He...      199291   2499   \n",
       "28703  Ryan García|Luke Campbell|Fino Boxing|Eddie He...      205304   2532   \n",
       "28924  Ryan García|Luke Campbell|Fino Boxing|Eddie He...      208697   2559   \n",
       "\n",
       "       dislikes  comment_count  \\\n",
       "28481        92            429   \n",
       "28703        93            442   \n",
       "28924        95            446   \n",
       "\n",
       "                                       thumbnail_link  comments_disabled  \\\n",
       "28481  https://i.ytimg.com/vi/ptndYf5whSU/default.jpg              False   \n",
       "28703  https://i.ytimg.com/vi/ptndYf5whSU/default.jpg              False   \n",
       "28924  https://i.ytimg.com/vi/ptndYf5whSU/default.jpg              False   \n",
       "\n",
       "       ratings_disabled description  \n",
       "28481             False         NaN  \n",
       "28703             False         NaN  \n",
       "28924             False         NaN  "
      ]
     },
     "execution_count": 14,
     "metadata": {},
     "output_type": "execute_result"
    }
   ],
   "source": [
    "df[df[\"description\"].apply(lambda x: pd.isna(x))].head(3)"
   ]
  },
  {
   "cell_type": "markdown",
   "id": "38bf856d",
   "metadata": {},
   "source": [
    "# Data Analysis\n",
    " - numeric variables\n",
    " - non numeric variables\n",
    " \n",
    "How does it affects the view/ how trendy the video is"
   ]
  },
  {
   "cell_type": "markdown",
   "id": "0f33c9ba",
   "metadata": {},
   "source": [
    "- Numeric Variables ( View count, likes, dislikes, comments)"
   ]
  },
  {
   "cell_type": "code",
   "execution_count": 23,
   "id": "e2d8ffe0",
   "metadata": {},
   "outputs": [
    {
     "data": {
      "text/html": [
       "<div>\n",
       "<style scoped>\n",
       "    .dataframe tbody tr th:only-of-type {\n",
       "        vertical-align: middle;\n",
       "    }\n",
       "\n",
       "    .dataframe tbody tr th {\n",
       "        vertical-align: top;\n",
       "    }\n",
       "\n",
       "    .dataframe thead th {\n",
       "        text-align: right;\n",
       "    }\n",
       "</style>\n",
       "<table border=\"1\" class=\"dataframe\">\n",
       "  <thead>\n",
       "    <tr style=\"text-align: right;\">\n",
       "      <th></th>\n",
       "      <th>view_count</th>\n",
       "      <th>likes</th>\n",
       "      <th>dislikes</th>\n",
       "      <th>comment_count</th>\n",
       "    </tr>\n",
       "  </thead>\n",
       "  <tbody>\n",
       "    <tr>\n",
       "      <th>count</th>\n",
       "      <td>74225.00</td>\n",
       "      <td>74225.00</td>\n",
       "      <td>74225.00</td>\n",
       "      <td>74225.00</td>\n",
       "    </tr>\n",
       "    <tr>\n",
       "      <th>mean</th>\n",
       "      <td>2816360.38</td>\n",
       "      <td>151165.17</td>\n",
       "      <td>2626.26</td>\n",
       "      <td>11614.17</td>\n",
       "    </tr>\n",
       "    <tr>\n",
       "      <th>std</th>\n",
       "      <td>7401596.38</td>\n",
       "      <td>412975.45</td>\n",
       "      <td>8693.65</td>\n",
       "      <td>72802.02</td>\n",
       "    </tr>\n",
       "    <tr>\n",
       "      <th>min</th>\n",
       "      <td>0.00</td>\n",
       "      <td>0.00</td>\n",
       "      <td>0.00</td>\n",
       "      <td>0.00</td>\n",
       "    </tr>\n",
       "    <tr>\n",
       "      <th>25%</th>\n",
       "      <td>543832.00</td>\n",
       "      <td>22131.00</td>\n",
       "      <td>304.00</td>\n",
       "      <td>1544.00</td>\n",
       "    </tr>\n",
       "    <tr>\n",
       "      <th>50%</th>\n",
       "      <td>1125213.00</td>\n",
       "      <td>52328.00</td>\n",
       "      <td>744.00</td>\n",
       "      <td>3531.00</td>\n",
       "    </tr>\n",
       "    <tr>\n",
       "      <th>75%</th>\n",
       "      <td>2502593.00</td>\n",
       "      <td>132000.00</td>\n",
       "      <td>1944.00</td>\n",
       "      <td>8402.00</td>\n",
       "    </tr>\n",
       "    <tr>\n",
       "      <th>max</th>\n",
       "      <td>264407389.00</td>\n",
       "      <td>16021534.00</td>\n",
       "      <td>290208.00</td>\n",
       "      <td>6738537.00</td>\n",
       "    </tr>\n",
       "  </tbody>\n",
       "</table>\n",
       "</div>"
      ],
      "text/plain": [
       "        view_count       likes  dislikes  comment_count\n",
       "count     74225.00    74225.00  74225.00       74225.00\n",
       "mean    2816360.38   151165.17   2626.26       11614.17\n",
       "std     7401596.38   412975.45   8693.65       72802.02\n",
       "min           0.00        0.00      0.00           0.00\n",
       "25%      543832.00    22131.00    304.00        1544.00\n",
       "50%     1125213.00    52328.00    744.00        3531.00\n",
       "75%     2502593.00   132000.00   1944.00        8402.00\n",
       "max   264407389.00 16021534.00 290208.00     6738537.00"
      ]
     },
     "execution_count": 23,
     "metadata": {},
     "output_type": "execute_result"
    }
   ],
   "source": [
    "df.describe()"
   ]
  },
  {
   "cell_type": "markdown",
   "id": "f3031a15",
   "metadata": {},
   "source": [
    "From the dataset above, we observe that the mean and median of the datasets differs by a large extent.\n",
    "\n",
    "The mean view of a trending video in 2021 is about 2 816 360 views.\n",
    "The median view is much lower at 1 125 213, less than half of the average views.\n",
    "\n",
    "The mean likes of a trending video is 151 165.\n",
    "The median likes is also much lower than the mean at 52328.\n",
    "\n",
    "The mean comments of a trending video is 11 614.\n",
    "The median comments is 3 531 which too is much lower than the mean."
   ]
  },
  {
   "cell_type": "markdown",
   "id": "74dfa216",
   "metadata": {},
   "source": [
    "Here we will be looking deeper into the views of trending videos"
   ]
  },
  {
   "cell_type": "code",
   "execution_count": 70,
   "id": "96bb187c",
   "metadata": {},
   "outputs": [
    {
     "data": {
      "image/png": "[encoded data removed]",
      "text/plain": [
       "<Figure size 800x500 with 1 Axes>"
      ]
     },
     "metadata": {},
     "output_type": "display_data"
    }
   ],
   "source": [
    "fig, ax = plt.subplots()\n",
    "_ = sns.distplot(df[\"view_count\"], kde=False, color=PLOT_COLORS[4], \n",
    "                 hist_kws={'alpha': 1}, bins=np.linspace(0, 2.3e8, 47), ax=ax)\n",
    "_ = ax.set(xlabel=\"view_count\", ylabel=\"Number of videos\", xticks=np.arange(0, 2.4e8, 1e7))\n",
    "_ = ax.set_xlim(right=2.5e8)\n",
    "_ = plt.xticks(rotation=90)"
   ]
  },
  {
   "cell_type": "markdown",
   "id": "37ee7081",
   "metadata": {},
   "source": [
    "From this histogram, we can observe the general distribution of what's most of the view count for trending views are. However, we can dig even deeper and how many % of the videos has similar view count."
   ]
  },
  {
   "cell_type": "code",
   "execution_count": 54,
   "id": "80e1771f",
   "metadata": {},
   "outputs": [
    {
     "data": {
      "text/plain": [
       "46.109801279892224"
      ]
     },
     "execution_count": 54,
     "metadata": {},
     "output_type": "execute_result"
    }
   ],
   "source": [
    "df[df['view_count'] < 1e6]['view_count'].count() / df['view_count'].count() * 100"
   ]
  },
  {
   "cell_type": "markdown",
   "id": "883ba606",
   "metadata": {},
   "source": [
    "Using the formula above, we can observe that about 45% of videos have less than a million view."
   ]
  },
  {
   "cell_type": "code",
   "execution_count": 59,
   "id": "ca99cdb9",
   "metadata": {},
   "outputs": [
    {
     "data": {
      "text/plain": [
       "59.516335466487035"
      ]
     },
     "execution_count": 59,
     "metadata": {},
     "output_type": "execute_result"
    }
   ],
   "source": [
    "df[df['view_count'] < 1.5e6]['view_count'].count() / df['view_count'].count() * 100"
   ]
  },
  {
   "cell_type": "markdown",
   "id": "2d1c1364",
   "metadata": {},
   "source": [
    "With the same formula, we observed that about 60% which is over half of the trending videos have views less than 1 500 000 views."
   ]
  },
  {
   "cell_type": "code",
   "execution_count": 66,
   "id": "7e74c566",
   "metadata": {},
   "outputs": [
    {
     "data": {
      "text/plain": [
       "0.8218255304816466"
      ]
     },
     "execution_count": 66,
     "metadata": {},
     "output_type": "execute_result"
    }
   ],
   "source": [
    "df[df['view_count'] < 2.85e6]['view_count'].count() / df['view_count'].count() * 100 - df[df['view_count'] < 2.75e6]['view_count'].count() / df['view_count'].count() * 100"
   ]
  },
  {
   "cell_type": "markdown",
   "id": "7af594be",
   "metadata": {},
   "source": [
    "With the mean at about 2 800 000 views, we see that only about 0.8% of the videos fall within +/- 500 000 range of the mean. Thus a median is actually a better tool than median."
   ]
  },
  {
   "cell_type": "markdown",
   "id": "bd224a30",
   "metadata": {},
   "source": [
    "Here we will be looking deeper into the likes of trending videos"
   ]
  },
  {
   "cell_type": "code",
   "execution_count": 71,
   "id": "08e6a56c",
   "metadata": {},
   "outputs": [
    {
     "data": {
      "image/png": "[encoded data removed]",
      "text/plain": [
       "<Figure size 800x500 with 1 Axes>"
      ]
     },
     "metadata": {},
     "output_type": "display_data"
    }
   ],
   "source": [
    "plt.rc('figure.subplot', wspace=0.9)\n",
    "fig, ax = plt.subplots()\n",
    "_ = sns.distplot(df[\"likes\"], kde=False, \n",
    "                 color=PLOT_COLORS[4], hist_kws={'alpha': 1}, \n",
    "                 bins=np.linspace(0, 6e6, 61), ax=ax)\n",
    "_ = ax.set(xlabel=\"Likes\", ylabel=\"Number of videos\")\n",
    "_ = plt.xticks(rotation=90)"
   ]
  },
  {
   "cell_type": "markdown",
   "id": "48c94fdf",
   "metadata": {},
   "source": [
    "From the distribution of this graph, we can observe that the data is slightly more evenly distributed than that of views. We will dive deeper and see how the distribution is like."
   ]
  },
  {
   "cell_type": "code",
   "execution_count": 74,
   "id": "f5aba7ca",
   "metadata": {},
   "outputs": [
    {
     "data": {
      "text/plain": [
       "78.0464802963961"
      ]
     },
     "execution_count": 74,
     "metadata": {},
     "output_type": "execute_result"
    }
   ],
   "source": [
    "df[df['likes'] < 151165]['likes'].count() / df['likes'].count() * 100"
   ]
  },
  {
   "cell_type": "code",
   "execution_count": 75,
   "id": "8c6bbdae",
   "metadata": {},
   "outputs": [
    {
     "data": {
      "text/plain": [
       "49.999326372516"
      ]
     },
     "execution_count": 75,
     "metadata": {},
     "output_type": "execute_result"
    }
   ],
   "source": [
    "df[df['likes'] < 52328]['likes'].count() / df['likes'].count() * 100"
   ]
  },
  {
   "cell_type": "markdown",
   "id": "e7df2ebb",
   "metadata": {},
   "source": [
    "With the mean at 151 165 likes and median at 52 328 likes, we observe that 50% of data fall below the median and thus the other 50% above the median. For the mean, it covers about 78% of the data which is much better than the mean of the view count."
   ]
  },
  {
   "cell_type": "markdown",
   "id": "b304d96f",
   "metadata": {},
   "source": [
    "Here we will be looking deeper into the number of comments of trending videos"
   ]
  },
  {
   "cell_type": "code",
   "execution_count": 77,
   "id": "2c233b4b",
   "metadata": {},
   "outputs": [
    {
     "data": {
      "image/png": "[encoded data removed]",
      "text/plain": [
       "<Figure size 800x500 with 1 Axes>"
      ]
     },
     "metadata": {},
     "output_type": "display_data"
    }
   ],
   "source": [
    "fig, ax = plt.subplots()\n",
    "_ = sns.distplot(df[\"comment_count\"], kde=False, rug=False, \n",
    "                 color=PLOT_COLORS[4], hist_kws={'alpha': 1}, ax=ax)\n",
    "_ = ax.set(xlabel=\"Number of comments\", ylabel=\"Number of videos\")"
   ]
  },
  {
   "cell_type": "markdown",
   "id": "8afe7370",
   "metadata": {},
   "source": [
    "The distribution here is very small and thus it is very difficult for us to observe anything, but we observe that most of the data is below 3 so we will take a deeper look by only observing the entries that are below 300 000."
   ]
  },
  {
   "cell_type": "code",
   "execution_count": 80,
   "id": "927e74b8",
   "metadata": {},
   "outputs": [
    {
     "data": {
      "image/png": "[encoded data removed]",
      "text/plain": [
       "<Figure size 800x500 with 1 Axes>"
      ]
     },
     "metadata": {},
     "output_type": "display_data"
    }
   ],
   "source": [
    "fig, ax = plt.subplots()\n",
    "_ = sns.distplot(df[df[\"comment_count\"] < 200000][\"comment_count\"], kde=False, rug=False, \n",
    "                 color=PLOT_COLORS[4], hist_kws={'alpha': 1}, \n",
    "                 bins=np.linspace(0, 2e5, 49), ax=ax)\n",
    "_ = ax.set(xlabel=\"Number of comments\", ylabel=\"No. of videos\")"
   ]
  },
  {
   "cell_type": "markdown",
   "id": "66c4ab36",
   "metadata": {},
   "source": [
    "With this new enlarged view, we can now see a better distribution. There is a better trend to observe too where the number of comments are inversely proportionate to the number of videos."
   ]
  },
  {
   "cell_type": "markdown",
   "id": "fb6d4979",
   "metadata": {},
   "source": [
    "The mean comments of a trending video is 11 614. The median comments is 3 531 which too is much lower than the mean."
   ]
  },
  {
   "cell_type": "code",
   "execution_count": 82,
   "id": "36872c60",
   "metadata": {},
   "outputs": [
    {
     "data": {
      "text/plain": [
       "81.9575614685079"
      ]
     },
     "execution_count": 82,
     "metadata": {},
     "output_type": "execute_result"
    }
   ],
   "source": [
    "df[df['comment_count'] < 11614]['comment_count'].count() / df['comment_count'].count() * 100"
   ]
  },
  {
   "cell_type": "code",
   "execution_count": 83,
   "id": "105facfb",
   "metadata": {},
   "outputs": [
    {
     "data": {
      "text/plain": [
       "49.99528460761199"
      ]
     },
     "execution_count": 83,
     "metadata": {},
     "output_type": "execute_result"
    }
   ],
   "source": [
    "df[df['comment_count'] < 3531]['comment_count'].count() / df['comment_count'].count() * 100"
   ]
  },
  {
   "cell_type": "markdown",
   "id": "022fe421",
   "metadata": {},
   "source": [
    "We can see about 80% of the trending videos fall below the mean whereas for the medium, about 50% falls below and the other 50% falls above."
   ]
  },
  {
   "cell_type": "markdown",
   "id": "15a395d0",
   "metadata": {},
   "source": [
    "Comparing the dstribution of the number of comments and likes using median and mean, both have similar statistics. However, there are more common span and bots that contribute to the comments than the likes which we are unable to filter out. This will lead to higher inaccuracy in the dataset over the likes dataset. Therefore we will use the number of likes to attempt to model a linear regression against Number of trending videos."
   ]
  },
  {
   "cell_type": "code",
   "execution_count": null,
   "id": "ae0e70e2",
   "metadata": {},
   "outputs": [],
   "source": []
  },
  {
   "cell_type": "markdown",
   "id": "968d9221",
   "metadata": {},
   "source": [
    "## What insights from data analysis (My insights is under data analysis above :P )"
   ]
  },
  {
   "cell_type": "code",
   "execution_count": null,
   "id": "e12ac324",
   "metadata": {},
   "outputs": [],
   "source": []
  },
  {
   "cell_type": "code",
   "execution_count": null,
   "id": "51592a2a",
   "metadata": {},
   "outputs": [],
   "source": []
  },
  {
   "cell_type": "code",
   "execution_count": null,
   "id": "bba0a927",
   "metadata": {},
   "outputs": [],
   "source": []
  },
  {
   "cell_type": "markdown",
   "id": "07e5397b",
   "metadata": {},
   "source": [
    "# Machine Learning"
   ]
  },
  {
   "cell_type": "code",
   "execution_count": null,
   "id": "15d7bef8",
   "metadata": {},
   "outputs": [],
   "source": []
  },
  {
   "cell_type": "code",
   "execution_count": null,
   "id": "73a2c951",
   "metadata": {},
   "outputs": [],
   "source": []
  },
  {
   "cell_type": "markdown",
   "id": "dc2b4d98",
   "metadata": {},
   "source": [
    "# Data analysis for what type of videos it more likely to be trendy"
   ]
  },
  {
   "cell_type": "markdown",
   "id": "978cbc47",
   "metadata": {},
   "source": [
    "### Majority of people watch?"
   ]
  },
  {
   "cell_type": "code",
   "execution_count": 17,
   "id": "0a775696",
   "metadata": {},
   "outputs": [
    {
     "ename": "ModuleNotFoundError",
     "evalue": "No module named 'wordcloud'",
     "output_type": "error",
     "traceback": [
      "\u001b[1;31m---------------------------------------------------------------------------\u001b[0m",
      "\u001b[1;31mModuleNotFoundError\u001b[0m                       Traceback (most recent call last)",
      "\u001b[1;32m~\\AppData\\Local\\Temp/ipykernel_10700/1075876394.py\u001b[0m in \u001b[0;36m<module>\u001b[1;34m\u001b[0m\n\u001b[0;32m      3\u001b[0m \u001b[1;33m\u001b[0m\u001b[0m\n\u001b[0;32m      4\u001b[0m \u001b[1;33m\u001b[0m\u001b[0m\n\u001b[1;32m----> 5\u001b[1;33m \u001b[1;32mfrom\u001b[0m \u001b[0mwordcloud\u001b[0m \u001b[1;32mimport\u001b[0m \u001b[0mWordCloud\u001b[0m\u001b[1;33m\u001b[0m\u001b[1;33m\u001b[0m\u001b[0m\n\u001b[0m\u001b[0;32m      6\u001b[0m \u001b[0mwords_1_joined\u001b[0m\u001b[1;33m=\u001b[0m\u001b[1;33m(\u001b[0m\u001b[1;34m\" \"\u001b[0m\u001b[1;33m)\u001b[0m\u001b[1;33m.\u001b[0m\u001b[0mjoin\u001b[0m\u001b[1;33m(\u001b[0m\u001b[0mwords_1\u001b[0m\u001b[1;33m)\u001b[0m\u001b[1;33m\u001b[0m\u001b[1;33m\u001b[0m\u001b[0m\n\u001b[0;32m      7\u001b[0m \u001b[0mwordcloud\u001b[0m \u001b[1;33m=\u001b[0m \u001b[0mWordCloud\u001b[0m\u001b[1;33m(\u001b[0m\u001b[0mwidth\u001b[0m \u001b[1;33m=\u001b[0m \u001b[1;36m1000\u001b[0m\u001b[1;33m,\u001b[0m \u001b[0mheight\u001b[0m \u001b[1;33m=\u001b[0m \u001b[1;36m500\u001b[0m\u001b[1;33m)\u001b[0m\u001b[1;33m.\u001b[0m\u001b[0mgenerate\u001b[0m\u001b[1;33m(\u001b[0m\u001b[0mwords_1_joined\u001b[0m\u001b[1;33m)\u001b[0m\u001b[1;33m\u001b[0m\u001b[1;33m\u001b[0m\u001b[0m\n",
      "\u001b[1;31mModuleNotFoundError\u001b[0m: No module named 'wordcloud'"
     ]
    }
   ],
   "source": [
    "titles_1 = df.loc[df['view_count'] > 1000].sort_values('view_count', ascending=False)['title'][1:].tolist()\n",
    "words_1 = [word for titles_1 in titles_1 for word in titles_1.split()]\n",
    "\n",
    "\n",
    "from wordcloud import WordCloud\n",
    "words_1_joined=(\" \").join(words_1)\n",
    "wordcloud = WordCloud(width = 1000, height = 500).generate(words_1_joined)\n",
    "plt.figure(figsize=(15,8))\n",
    "plt.imshow(wordcloud)\n",
    "plt.axis(\"off\")\n",
    "plt.show()\n",
    "plt.close()"
   ]
  },
  {
   "cell_type": "code",
   "execution_count": null,
   "id": "a4e1f938",
   "metadata": {},
   "outputs": [],
   "source": [
    "title_words = list(df[\"title\"].apply(lambda x: x.split()))\n",
    "title_words = [x for y in title_words for x in y]\n",
    "Counter(title_words).most_common(25)"
   ]
  },
  {
   "cell_type": "code",
   "execution_count": null,
   "id": "8ed6b91c",
   "metadata": {},
   "outputs": [],
   "source": []
  },
  {
   "cell_type": "markdown",
   "id": "0b0f87d3",
   "metadata": {},
   "source": [
    "# What people don’t watch \n",
    "\n",
    "View count vs tags"
   ]
  },
  {
   "cell_type": "code",
   "execution_count": null,
   "id": "97a653ad",
   "metadata": {},
   "outputs": [],
   "source": [
    "titles_1 = df.loc[df['view_count'] < ].sort_values('view_count', ascending=False)['title'][1:].tolist()\n",
    "words_1 = [word for titles_1 in titles_1 for word in titles_1.split()]\n",
    "\n",
    "\n",
    "from wordcloud import WordCloud\n",
    "words_1_joined=(\" \").join(words_1)\n",
    "wordcloud = WordCloud(width = 1000, height = 500).generate(words_1_joined)\n",
    "plt.figure(figsize=(15,8))\n",
    "plt.imshow(wordcloud)\n",
    "plt.axis(\"off\")\n",
    "plt.show()\n",
    "plt.close()"
   ]
  },
  {
   "cell_type": "code",
   "execution_count": null,
   "id": "84661740",
   "metadata": {},
   "outputs": [],
   "source": []
  }
 ],
 "metadata": {
  "kernelspec": {
   "display_name": "Python 3 (ipykernel)",
   "language": "python",
   "name": "python3"
  },
  "language_info": {
   "codemirror_mode": {
    "name": "ipython",
    "version": 3
   },
   "file_extension": ".py",
   "mimetype": "text/x-python",
   "name": "python",
   "nbconvert_exporter": "python",
   "pygments_lexer": "ipython3",
   "version": "3.9.7"
  }
 },
 "nbformat": 4,
 "nbformat_minor": 5
}
