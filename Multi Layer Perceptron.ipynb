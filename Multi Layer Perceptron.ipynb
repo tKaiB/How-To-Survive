{
 "cells": [
  {
   "cell_type": "markdown",
   "id": "21514762",
   "metadata": {},
   "source": [
    "# Multi Layer Perceptron Classifier"
   ]
  },
  {
   "cell_type": "code",
   "execution_count": 1,
   "id": "30996be4",
   "metadata": {},
   "outputs": [],
   "source": [
    "import pandas as pd\n",
    "import numpy as np\n",
    "import matplotlib as mpl\n",
    "from matplotlib import pyplot as plt\n",
    "import seaborn as sb\n",
    "\n",
    "import warnings\n",
    "from collections import Counter\n",
    "import datetime\n",
    "\n",
    "\n",
    "from sklearn.neural_network import MLPClassifier\n",
    "from sklearn.metrics import classification_report\n",
    "from sklearn.model_selection import train_test_split\n",
    "from sklearn.preprocessing import StandardScaler\n",
    "from sklearn.metrics import confusion_matrix\n",
    "\n",
    "def accuracy(confusion_matrix):\n",
    "   diagonal_sum = confusion_matrix.trace()\n",
    "   sum_of_all_elements = confusion_matrix.sum()\n",
    "   return diagonal_sum / sum_of_all_elements"
   ]
  },
  {
   "cell_type": "markdown",
   "id": "de1db2f4",
   "metadata": {},
   "source": [
    "# Importing cleaned dataset with relevant features"
   ]
  },
  {
   "cell_type": "markdown",
   "id": "ecd01919",
   "metadata": {},
   "source": [
    "This new dataset only include 2020 onwards data with features such as the video category, views, likes, comments"
   ]
  },
  {
   "cell_type": "code",
   "execution_count": 2,
   "id": "e577ab4a",
   "metadata": {},
   "outputs": [],
   "source": [
    "df = pd.read_csv(\"same_publishing_timing.csv\")"
   ]
  },
  {
   "cell_type": "code",
   "execution_count": 3,
   "id": "fde29a44",
   "metadata": {},
   "outputs": [
    {
     "name": "stdout",
     "output_type": "stream",
     "text": [
      "<class 'pandas.core.frame.DataFrame'>\n",
      "RangeIndex: 21513 entries, 0 to 21512\n",
      "Data columns (total 10 columns):\n",
      " #   Column                     Non-Null Count  Dtype \n",
      "---  ------                     --------------  ----- \n",
      " 0   title                      21513 non-null  object\n",
      " 1   publishedAt                21513 non-null  object\n",
      " 2   categoryId                 21513 non-null  int64 \n",
      " 3   trending_date              21513 non-null  object\n",
      " 4   view_count                 21513 non-null  int64 \n",
      " 5   likes                      21513 non-null  int64 \n",
      " 6   dislikes                   21513 non-null  int64 \n",
      " 7   comment_count              21513 non-null  int64 \n",
      " 8   comments_disabled          21513 non-null  bool  \n",
      " 9   Number_of_days_it_trended  21513 non-null  int64 \n",
      "dtypes: bool(1), int64(6), object(3)\n",
      "memory usage: 1.5+ MB\n"
     ]
    }
   ],
   "source": [
    "df.info()"
   ]
  },
  {
   "cell_type": "code",
   "execution_count": 4,
   "id": "9df76386",
   "metadata": {
    "scrolled": true
   },
   "outputs": [],
   "source": [
    "dataset = df[['categoryId','view_count', 'likes', 'comment_count']]\n",
    "target = df[['Number_of_days_it_trended']]"
   ]
  },
  {
   "cell_type": "markdown",
   "id": "b25ba64e",
   "metadata": {},
   "source": [
    "Splitting the prepared data to train and test data randomly at 3:1 ratio"
   ]
  },
  {
   "cell_type": "code",
   "execution_count": 5,
   "id": "6fcf3bef",
   "metadata": {},
   "outputs": [],
   "source": [
    "#Setting 2 hidden layer sizes\n",
    "num_neurons = 100"
   ]
  },
  {
   "cell_type": "code",
   "execution_count": 6,
   "id": "6505286c",
   "metadata": {},
   "outputs": [
    {
     "name": "stderr",
     "output_type": "stream",
     "text": [
      "C:\\Users\\user\\anaconda3\\lib\\site-packages\\sklearn\\utils\\validation.py:63: DataConversionWarning: A column-vector y was passed when a 1d array was expected. Please change the shape of y to (n_samples, ), for example using ravel().\n",
      "  return f(*args, **kwargs)\n"
     ]
    },
    {
     "name": "stdout",
     "output_type": "stream",
     "text": [
      "Accuracy of MLPClassifier :  17.4 \b% (rounded to 1 decimal place)\n"
     ]
    }
   ],
   "source": [
    "classifier = MLPClassifier(hidden_layer_sizes=num_neurons, max_iter=35, activation='relu', solver='sgd', random_state=762, learning_rate='invscaling')\n",
    "dataset_train, dataset_test, target_train, target_test = train_test_split(dataset, target, test_size=0.25)\n",
    "classifier.fit(dataset_train, target_train)\n",
    "target_test_predicted = classifier.predict(dataset_test)\n",
    "cm = confusion_matrix(target_test_predicted, target_test)\n",
    "\n",
    "#Printing the accuracy\n",
    "print(\"Accuracy of MLPClassifier : \",round(accuracy(cm)*100, 1), '\\b% (rounded to 1 decimal place)')"
   ]
  },
  {
   "cell_type": "markdown",
   "id": "698635ee",
   "metadata": {},
   "source": [
    "We observe that the accuracy of this machine learning with this dataset is considerably low at 25%. This may be because our target spread is large where the trending days range from 1 to 47. Hence we will attempt to reduce the spread by further cleaning our dataset to include only videos that trended for 10 days and below."
   ]
  },
  {
   "cell_type": "code",
   "execution_count": 7,
   "id": "fe579424",
   "metadata": {},
   "outputs": [],
   "source": [
    "df_15days = df[df['Number_of_days_it_trended'] < 15]\n",
    "dataset_15days = df_15days[['categoryId','view_count', 'likes', 'comment_count']]\n",
    "target_15days = df_15days[['Number_of_days_it_trended']]"
   ]
  },
  {
   "cell_type": "code",
   "execution_count": 8,
   "id": "ba5be8c9",
   "metadata": {},
   "outputs": [
    {
     "name": "stderr",
     "output_type": "stream",
     "text": [
      "C:\\Users\\user\\anaconda3\\lib\\site-packages\\sklearn\\utils\\validation.py:63: DataConversionWarning: A column-vector y was passed when a 1d array was expected. Please change the shape of y to (n_samples, ), for example using ravel().\n",
      "  return f(*args, **kwargs)\n"
     ]
    },
    {
     "name": "stdout",
     "output_type": "stream",
     "text": [
      "Accuracy of MLPClassifier :  22.6 \b% (rounded to 1 decimal place)\n"
     ]
    }
   ],
   "source": [
    "classifier = MLPClassifier(hidden_layer_sizes=num_neurons, max_iter=35, activation='relu', solver='sgd', random_state=762, learning_rate='invscaling')\n",
    "dataset_train, dataset_test, target_train, target_test = train_test_split(dataset_15days, target_15days, test_size=0.25)\n",
    "classifier.fit(dataset_train, target_train)\n",
    "target_test_predicted = classifier.predict(dataset_test)\n",
    "cm = confusion_matrix(target_test_predicted, target_test)\n",
    "\n",
    "#Printing the accuracy\n",
    "print(\"Accuracy of MLPClassifier : \",round(accuracy(cm)*100, 1), '\\b% (rounded to 1 decimal place)')"
   ]
  },
  {
   "cell_type": "markdown",
   "id": "0ed788cd",
   "metadata": {},
   "source": [
    "Even though we reduced the target spread, the accuracy did not improve, we will further reduce the target spread to 10"
   ]
  },
  {
   "cell_type": "code",
   "execution_count": 9,
   "id": "50e0f981",
   "metadata": {},
   "outputs": [],
   "source": [
    "df_10days = df[df['Number_of_days_it_trended'] < 10]\n",
    "dataset_10days = df_10days[['categoryId','view_count', 'likes', 'comment_count']]\n",
    "target_10days = df_10days[['Number_of_days_it_trended']]"
   ]
  },
  {
   "cell_type": "code",
   "execution_count": 10,
   "id": "02423452",
   "metadata": {
    "scrolled": true
   },
   "outputs": [
    {
     "name": "stderr",
     "output_type": "stream",
     "text": [
      "C:\\Users\\user\\anaconda3\\lib\\site-packages\\sklearn\\utils\\validation.py:63: DataConversionWarning: A column-vector y was passed when a 1d array was expected. Please change the shape of y to (n_samples, ), for example using ravel().\n",
      "  return f(*args, **kwargs)\n"
     ]
    },
    {
     "name": "stdout",
     "output_type": "stream",
     "text": [
      "Accuracy of MLPClassifier :  22.6 \b% (rounded to 1 decimal place)\n"
     ]
    }
   ],
   "source": [
    "classifier = MLPClassifier(hidden_layer_sizes=num_neurons, max_iter=35, activation='relu', solver='sgd', random_state=762, learning_rate='invscaling')\n",
    "dataset_train, dataset_test, target_train, target_test = train_test_split(dataset_10days, target_10days, test_size=0.25)\n",
    "classifier.fit(dataset_train, target_train)\n",
    "target_test_predicted = classifier.predict(dataset_test)\n",
    "cm = confusion_matrix(target_test_predicted, target_test)\n",
    "\n",
    "#Printing the accuracy\n",
    "print(\"Accuracy of MLPClassifier : \",round(accuracy(cm)*100, 1), '\\b% (rounded to 1 decimal place)')"
   ]
  },
  {
   "cell_type": "markdown",
   "id": "195d4bfe",
   "metadata": {},
   "source": [
    "We now see a better accuracy compared to the previous 2 datasets. We will try to reduce the dataset target spread to below 5 days"
   ]
  },
  {
   "cell_type": "code",
   "execution_count": 11,
   "id": "c6f74564",
   "metadata": {},
   "outputs": [],
   "source": [
    "df_5days = df[df['Number_of_days_it_trended'] < 5]\n",
    "dataset_5days = df_5days[['categoryId','view_count', 'likes', 'comment_count']]\n",
    "target_5days = df_5days[['Number_of_days_it_trended']]"
   ]
  },
  {
   "cell_type": "code",
   "execution_count": 12,
   "id": "6bfaa059",
   "metadata": {},
   "outputs": [
    {
     "name": "stdout",
     "output_type": "stream",
     "text": [
      "Accuracy of MLPClassifier :  22.4 \b% (rounded to 1 decimal place)\n"
     ]
    },
    {
     "name": "stderr",
     "output_type": "stream",
     "text": [
      "C:\\Users\\user\\anaconda3\\lib\\site-packages\\sklearn\\utils\\validation.py:63: DataConversionWarning: A column-vector y was passed when a 1d array was expected. Please change the shape of y to (n_samples, ), for example using ravel().\n",
      "  return f(*args, **kwargs)\n"
     ]
    }
   ],
   "source": [
    "classifier = MLPClassifier(hidden_layer_sizes=num_neurons, max_iter=35, activation='relu', solver='sgd', random_state=762, learning_rate='invscaling')\n",
    "dataset_train, dataset_test, target_train, target_test = train_test_split(dataset_5days, target_5days, test_size=0.25)\n",
    "classifier.fit(dataset_train, target_train)\n",
    "target_test_predicted = classifier.predict(dataset_test)\n",
    "cm = confusion_matrix(target_test_predicted, target_test)\n",
    "\n",
    "#Printing the accuracy\n",
    "print(\"Accuracy of MLPClassifier : \",round(accuracy(cm)*100, 1), '\\b% (rounded to 1 decimal place)')"
   ]
  },
  {
   "cell_type": "markdown",
   "id": "ed7b1f03",
   "metadata": {},
   "source": [
    "We see a bigger improvement in our accuracy to our model now after limiting the our target spread to just 5 days and below."
   ]
  },
  {
   "cell_type": "markdown",
   "id": "2e3ab7b5",
   "metadata": {},
   "source": [
    "# Improving our model"
   ]
  },
  {
   "cell_type": "markdown",
   "id": "b370bdfe",
   "metadata": {},
   "source": [
    "Even though reducing the target spread has improved the accuracy of the predictions of trending days, a 25% accuracy rate is still too low. Therefore, we will now attempt to increase our hidden layers to 10000 from 100 which was used in the above model.\n",
    "\n",
    "We will also calculate the accuracy for this new model with 10000 layers with maximum target trending days of below 5, 10, 15, 20, 25, 30, 35, 40, 45, 50 and check how the accuracy varies using a simple graph plot."
   ]
  },
  {
   "cell_type": "code",
   "execution_count": 13,
   "id": "323bae4e",
   "metadata": {
    "scrolled": true
   },
   "outputs": [
    {
     "name": "stderr",
     "output_type": "stream",
     "text": [
      "C:\\Users\\user\\anaconda3\\lib\\site-packages\\sklearn\\utils\\validation.py:63: DataConversionWarning: A column-vector y was passed when a 1d array was expected. Please change the shape of y to (n_samples, ), for example using ravel().\n",
      "  return f(*args, **kwargs)\n",
      "C:\\Users\\user\\anaconda3\\lib\\site-packages\\sklearn\\utils\\validation.py:63: DataConversionWarning: A column-vector y was passed when a 1d array was expected. Please change the shape of y to (n_samples, ), for example using ravel().\n",
      "  return f(*args, **kwargs)\n",
      "C:\\Users\\user\\anaconda3\\lib\\site-packages\\sklearn\\utils\\validation.py:63: DataConversionWarning: A column-vector y was passed when a 1d array was expected. Please change the shape of y to (n_samples, ), for example using ravel().\n",
      "  return f(*args, **kwargs)\n",
      "C:\\Users\\user\\anaconda3\\lib\\site-packages\\sklearn\\utils\\validation.py:63: DataConversionWarning: A column-vector y was passed when a 1d array was expected. Please change the shape of y to (n_samples, ), for example using ravel().\n",
      "  return f(*args, **kwargs)\n",
      "C:\\Users\\user\\anaconda3\\lib\\site-packages\\sklearn\\utils\\validation.py:63: DataConversionWarning: A column-vector y was passed when a 1d array was expected. Please change the shape of y to (n_samples, ), for example using ravel().\n",
      "  return f(*args, **kwargs)\n",
      "C:\\Users\\user\\anaconda3\\lib\\site-packages\\sklearn\\utils\\validation.py:63: DataConversionWarning: A column-vector y was passed when a 1d array was expected. Please change the shape of y to (n_samples, ), for example using ravel().\n",
      "  return f(*args, **kwargs)\n",
      "C:\\Users\\user\\anaconda3\\lib\\site-packages\\sklearn\\utils\\validation.py:63: DataConversionWarning: A column-vector y was passed when a 1d array was expected. Please change the shape of y to (n_samples, ), for example using ravel().\n",
      "  return f(*args, **kwargs)\n",
      "C:\\Users\\user\\anaconda3\\lib\\site-packages\\sklearn\\utils\\validation.py:63: DataConversionWarning: A column-vector y was passed when a 1d array was expected. Please change the shape of y to (n_samples, ), for example using ravel().\n",
      "  return f(*args, **kwargs)\n",
      "C:\\Users\\user\\anaconda3\\lib\\site-packages\\sklearn\\utils\\validation.py:63: DataConversionWarning: A column-vector y was passed when a 1d array was expected. Please change the shape of y to (n_samples, ), for example using ravel().\n",
      "  return f(*args, **kwargs)\n",
      "C:\\Users\\user\\anaconda3\\lib\\site-packages\\sklearn\\utils\\validation.py:63: DataConversionWarning: A column-vector y was passed when a 1d array was expected. Please change the shape of y to (n_samples, ), for example using ravel().\n",
      "  return f(*args, **kwargs)\n"
     ]
    }
   ],
   "source": [
    "# We will see how the accuracy differs when adjusting the spread for the maximum trend days we want to predict\n",
    "max_trend_days = [5, 10, 15, 20, 25, 30, 35, 40, 45, 50]\n",
    "\n",
    "#we will model the accuracy for each of this and store it in another list with its respective index in max_trend_days\n",
    "accuracy_result = []\n",
    "\n",
    "for x in max_trend_days:\n",
    "    df2 = df[df['Number_of_days_it_trended'] < x]\n",
    "    dataset = df2[['categoryId','view_count', 'likes', 'comment_count']]\n",
    "    target = df2[['Number_of_days_it_trended']]\n",
    "    classifier = MLPClassifier(hidden_layer_sizes=10000, max_iter=35, activation='relu', solver='sgd', random_state=762, learning_rate='invscaling')\n",
    "    \n",
    "    dataset_train, dataset_test, target_train, target_test = train_test_split(dataset, target, test_size=0.25)\n",
    "    \n",
    "    classifier.fit(dataset_train, target_train)\n",
    "    target_test_predicted = classifier.predict(dataset_test)\n",
    "    cm = confusion_matrix(target_test_predicted, target_test)\n",
    "    \n",
    "    accuracy_result.append(accuracy(cm))"
   ]
  },
  {
   "cell_type": "code",
   "execution_count": 14,
   "id": "8e5406a2",
   "metadata": {
    "scrolled": true
   },
   "outputs": [
    {
     "data": {
      "image/png": "[encoded data removed]",
      "text/plain": [
       "<Figure size 720x432 with 1 Axes>"
      ]
     },
     "metadata": {
      "needs_background": "light"
     },
     "output_type": "display_data"
    }
   ],
   "source": [
    "for k in (accuracy_result):\n",
    "    k = k*100\n",
    "    k = round(k, 1)\n",
    "    \n",
    "\n",
    "\n",
    "fig, ax = plt.subplots(figsize=(10, 6))\n",
    "ax.plot(max_trend_days, accuracy_result)\n",
    "_ = ax.set(xlabel=\"Predict Number of Trend Days or less\", ylabel=\"Accuracy (in %)\")"
   ]
  },
  {
   "cell_type": "code",
   "execution_count": 17,
   "id": "fa11fb3b",
   "metadata": {},
   "outputs": [
    {
     "name": "stdout",
     "output_type": "stream",
     "text": [
      "63.1 \b%\n"
     ]
    }
   ],
   "source": [
    "print(round(accuracy_result[0]*100, 1), \"\\b%\")"
   ]
  },
  {
   "cell_type": "markdown",
   "id": "a31450ef",
   "metadata": {},
   "source": []
  },
  {
   "cell_type": "markdown",
   "id": "50f1a271",
   "metadata": {},
   "source": [
    "From the simple graph plot above, we notice a sharp increase in accuracy when our target trending days to predict is cap at 10. Beyond that, the accuracy of that is very much similar to that of the previous model with 100 hidden layers. Although with 10000 layers, we now are able to better predict the youtube videos trending days cap at 10."
   ]
  },
  {
   "cell_type": "markdown",
   "id": "403bed80",
   "metadata": {},
   "source": [
    "# Conclusion"
   ]
  },
  {
   "cell_type": "markdown",
   "id": "80a7e0c4",
   "metadata": {},
   "source": [
    "Predicting the trend of a video is more than just looking at its views, comments, categories and likes. The most important parts of a youtube video which makes it go viral may be its thumbnail and its video content which we are unable to use to train our machine learning model. Therefore, the capabilities of our machine learning model to model a video's ability to maintain its trending status is limited. However that does not mean we are completely unable to do so, a trending video should still have some basic characteristics such as high likes, comments and views which means the video may be actively being shared between viewers' social circle which can make it trend more, this may be especially so for videos in the news category which may be trending for a few days and slowly fade away. This explains why there is a steep decline in the accuracy of our model as the trending days to predict increases."
   ]
  }
 ],
 "metadata": {
  "kernelspec": {
   "display_name": "Python 3 (ipykernel)",
   "language": "python",
   "name": "python3"
  },
  "language_info": {
   "codemirror_mode": {
    "name": "ipython",
    "version": 3
   },
   "file_extension": ".py",
   "mimetype": "text/x-python",
   "name": "python",
   "nbconvert_exporter": "python",
   "pygments_lexer": "ipython3",
   "version": "3.9.7"
  }
 },
 "nbformat": 4,
 "nbformat_minor": 5
}
