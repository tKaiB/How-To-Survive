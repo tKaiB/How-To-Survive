{
 "cells": [
  {
   "cell_type": "code",
   "execution_count": 1,
   "id": "68ccd517",
   "metadata": {},
   "outputs": [],
   "source": [
    "import pandas as pd\n",
    "import numpy as np\n",
    "import matplotlib as mpl\n",
    "from matplotlib import pyplot as plt\n",
    "import seaborn as sb\n",
    "\n",
    "import warnings\n",
    "from collections import Counter\n",
    "import datetime\n",
    "\n",
    "#import wordcloud\n",
    "import json"
   ]
  },
  {
   "cell_type": "code",
   "execution_count": 2,
   "id": "ef43ac0a",
   "metadata": {},
   "outputs": [],
   "source": [
    "df = pd.read_csv(\"US_youtube_trending_data.csv\")"
   ]
  },
  {
   "cell_type": "code",
   "execution_count": 3,
   "id": "35b9ddf2",
   "metadata": {},
   "outputs": [],
   "source": [
    "PLOT_COLORS = [\"#268bd2\", \"#0052CC\", \"#FF5722\", \"#b58900\", \"#003f5c\"]\n",
    "pd.options.display.float_format = '{:.2f}'.format\n",
    "sb.set(style=\"ticks\")\n",
    "plt.rc('figure', figsize=(8, 5), dpi=100)\n",
    "plt.rc('axes', labelpad=20, facecolor=\"#ffffff\", linewidth=0.4, grid=True, labelsize=14)\n",
    "plt.rc('patch', linewidth=0)\n",
    "plt.rc('xtick.major', width=0.2)\n",
    "plt.rc('ytick.major', width=0.2)\n",
    "plt.rc('grid', color='#9E9E9E', linewidth=0.4)\n",
    "plt.rc('font', family='Arial', weight='400', size=10)\n",
    "plt.rc('text', color='#282828')\n",
    "plt.rc('savefig', pad_inches=0.3, dpi=300)"
   ]
  },
  {
   "cell_type": "code",
   "execution_count": 4,
   "id": "c535160d",
   "metadata": {},
   "outputs": [
    {
     "data": {
      "text/html": [
       "<div>\n",
       "<style scoped>\n",
       "    .dataframe tbody tr th:only-of-type {\n",
       "        vertical-align: middle;\n",
       "    }\n",
       "\n",
       "    .dataframe tbody tr th {\n",
       "        vertical-align: top;\n",
       "    }\n",
       "\n",
       "    .dataframe thead th {\n",
       "        text-align: right;\n",
       "    }\n",
       "</style>\n",
       "<table border=\"1\" class=\"dataframe\">\n",
       "  <thead>\n",
       "    <tr style=\"text-align: right;\">\n",
       "      <th></th>\n",
       "      <th>video_id</th>\n",
       "      <th>title</th>\n",
       "      <th>publishedAt</th>\n",
       "      <th>channelId</th>\n",
       "      <th>channelTitle</th>\n",
       "      <th>categoryId</th>\n",
       "      <th>trending_date</th>\n",
       "      <th>tags</th>\n",
       "      <th>view_count</th>\n",
       "      <th>likes</th>\n",
       "      <th>dislikes</th>\n",
       "      <th>comment_count</th>\n",
       "      <th>thumbnail_link</th>\n",
       "      <th>comments_disabled</th>\n",
       "      <th>ratings_disabled</th>\n",
       "      <th>description</th>\n",
       "    </tr>\n",
       "  </thead>\n",
       "  <tbody>\n",
       "    <tr>\n",
       "      <th>0</th>\n",
       "      <td>3C66w5Z0ixs</td>\n",
       "      <td>I ASKED HER TO BE MY GIRLFRIEND...</td>\n",
       "      <td>2020-08-11T19:20:14Z</td>\n",
       "      <td>UCvtRTOMP2TqYqu51xNrqAzg</td>\n",
       "      <td>Brawadis</td>\n",
       "      <td>22</td>\n",
       "      <td>2020-08-12T00:00:00Z</td>\n",
       "      <td>brawadis|prank|basketball|skits|ghost|funny vi...</td>\n",
       "      <td>1514614</td>\n",
       "      <td>156908</td>\n",
       "      <td>5855</td>\n",
       "      <td>35313</td>\n",
       "      <td>https://i.ytimg.com/vi/3C66w5Z0ixs/default.jpg</td>\n",
       "      <td>False</td>\n",
       "      <td>False</td>\n",
       "      <td>SUBSCRIBE to BRAWADIS ▶ http://bit.ly/Subscrib...</td>\n",
       "    </tr>\n",
       "    <tr>\n",
       "      <th>1</th>\n",
       "      <td>M9Pmf9AB4Mo</td>\n",
       "      <td>Apex Legends | Stories from the Outlands – “Th...</td>\n",
       "      <td>2020-08-11T17:00:10Z</td>\n",
       "      <td>UC0ZV6M2THA81QT9hrVWJG3A</td>\n",
       "      <td>Apex Legends</td>\n",
       "      <td>20</td>\n",
       "      <td>2020-08-12T00:00:00Z</td>\n",
       "      <td>Apex Legends|Apex Legends characters|new Apex ...</td>\n",
       "      <td>2381688</td>\n",
       "      <td>146739</td>\n",
       "      <td>2794</td>\n",
       "      <td>16549</td>\n",
       "      <td>https://i.ytimg.com/vi/M9Pmf9AB4Mo/default.jpg</td>\n",
       "      <td>False</td>\n",
       "      <td>False</td>\n",
       "      <td>While running her own modding shop, Ramya Pare...</td>\n",
       "    </tr>\n",
       "    <tr>\n",
       "      <th>2</th>\n",
       "      <td>J78aPJ3VyNs</td>\n",
       "      <td>I left youtube for a month and THIS is what ha...</td>\n",
       "      <td>2020-08-11T16:34:06Z</td>\n",
       "      <td>UCYzPXprvl5Y-Sf0g4vX-m6g</td>\n",
       "      <td>jacksepticeye</td>\n",
       "      <td>24</td>\n",
       "      <td>2020-08-12T00:00:00Z</td>\n",
       "      <td>jacksepticeye|funny|funny meme|memes|jacksepti...</td>\n",
       "      <td>2038853</td>\n",
       "      <td>353787</td>\n",
       "      <td>2628</td>\n",
       "      <td>40221</td>\n",
       "      <td>https://i.ytimg.com/vi/J78aPJ3VyNs/default.jpg</td>\n",
       "      <td>False</td>\n",
       "      <td>False</td>\n",
       "      <td>I left youtube for a month and this is what ha...</td>\n",
       "    </tr>\n",
       "    <tr>\n",
       "      <th>3</th>\n",
       "      <td>kXLn3HkpjaA</td>\n",
       "      <td>XXL 2020 Freshman Class Revealed - Official An...</td>\n",
       "      <td>2020-08-11T16:38:55Z</td>\n",
       "      <td>UCbg_UMjlHJg_19SZckaKajg</td>\n",
       "      <td>XXL</td>\n",
       "      <td>10</td>\n",
       "      <td>2020-08-12T00:00:00Z</td>\n",
       "      <td>xxl freshman|xxl freshmen|2020 xxl freshman|20...</td>\n",
       "      <td>496771</td>\n",
       "      <td>23251</td>\n",
       "      <td>1856</td>\n",
       "      <td>7647</td>\n",
       "      <td>https://i.ytimg.com/vi/kXLn3HkpjaA/default.jpg</td>\n",
       "      <td>False</td>\n",
       "      <td>False</td>\n",
       "      <td>Subscribe to XXL → http://bit.ly/subscribe-xxl...</td>\n",
       "    </tr>\n",
       "    <tr>\n",
       "      <th>4</th>\n",
       "      <td>VIUo6yapDbc</td>\n",
       "      <td>Ultimate DIY Home Movie Theater for The LaBran...</td>\n",
       "      <td>2020-08-11T15:10:05Z</td>\n",
       "      <td>UCDVPcEbVLQgLZX0Rt6jo34A</td>\n",
       "      <td>Mr. Kate</td>\n",
       "      <td>26</td>\n",
       "      <td>2020-08-12T00:00:00Z</td>\n",
       "      <td>The LaBrant Family|DIY|Interior Design|Makeove...</td>\n",
       "      <td>1123889</td>\n",
       "      <td>45802</td>\n",
       "      <td>964</td>\n",
       "      <td>2196</td>\n",
       "      <td>https://i.ytimg.com/vi/VIUo6yapDbc/default.jpg</td>\n",
       "      <td>False</td>\n",
       "      <td>False</td>\n",
       "      <td>Transforming The LaBrant Family's empty white ...</td>\n",
       "    </tr>\n",
       "  </tbody>\n",
       "</table>\n",
       "</div>"
      ],
      "text/plain": [
       "      video_id                                              title  \\\n",
       "0  3C66w5Z0ixs                 I ASKED HER TO BE MY GIRLFRIEND...   \n",
       "1  M9Pmf9AB4Mo  Apex Legends | Stories from the Outlands – “Th...   \n",
       "2  J78aPJ3VyNs  I left youtube for a month and THIS is what ha...   \n",
       "3  kXLn3HkpjaA  XXL 2020 Freshman Class Revealed - Official An...   \n",
       "4  VIUo6yapDbc  Ultimate DIY Home Movie Theater for The LaBran...   \n",
       "\n",
       "            publishedAt                 channelId   channelTitle  categoryId  \\\n",
       "0  2020-08-11T19:20:14Z  UCvtRTOMP2TqYqu51xNrqAzg       Brawadis          22   \n",
       "1  2020-08-11T17:00:10Z  UC0ZV6M2THA81QT9hrVWJG3A   Apex Legends          20   \n",
       "2  2020-08-11T16:34:06Z  UCYzPXprvl5Y-Sf0g4vX-m6g  jacksepticeye          24   \n",
       "3  2020-08-11T16:38:55Z  UCbg_UMjlHJg_19SZckaKajg            XXL          10   \n",
       "4  2020-08-11T15:10:05Z  UCDVPcEbVLQgLZX0Rt6jo34A       Mr. Kate          26   \n",
       "\n",
       "          trending_date                                               tags  \\\n",
       "0  2020-08-12T00:00:00Z  brawadis|prank|basketball|skits|ghost|funny vi...   \n",
       "1  2020-08-12T00:00:00Z  Apex Legends|Apex Legends characters|new Apex ...   \n",
       "2  2020-08-12T00:00:00Z  jacksepticeye|funny|funny meme|memes|jacksepti...   \n",
       "3  2020-08-12T00:00:00Z  xxl freshman|xxl freshmen|2020 xxl freshman|20...   \n",
       "4  2020-08-12T00:00:00Z  The LaBrant Family|DIY|Interior Design|Makeove...   \n",
       "\n",
       "   view_count   likes  dislikes  comment_count  \\\n",
       "0     1514614  156908      5855          35313   \n",
       "1     2381688  146739      2794          16549   \n",
       "2     2038853  353787      2628          40221   \n",
       "3      496771   23251      1856           7647   \n",
       "4     1123889   45802       964           2196   \n",
       "\n",
       "                                   thumbnail_link  comments_disabled  \\\n",
       "0  https://i.ytimg.com/vi/3C66w5Z0ixs/default.jpg              False   \n",
       "1  https://i.ytimg.com/vi/M9Pmf9AB4Mo/default.jpg              False   \n",
       "2  https://i.ytimg.com/vi/J78aPJ3VyNs/default.jpg              False   \n",
       "3  https://i.ytimg.com/vi/kXLn3HkpjaA/default.jpg              False   \n",
       "4  https://i.ytimg.com/vi/VIUo6yapDbc/default.jpg              False   \n",
       "\n",
       "   ratings_disabled                                        description  \n",
       "0             False  SUBSCRIBE to BRAWADIS ▶ http://bit.ly/Subscrib...  \n",
       "1             False  While running her own modding shop, Ramya Pare...  \n",
       "2             False  I left youtube for a month and this is what ha...  \n",
       "3             False  Subscribe to XXL → http://bit.ly/subscribe-xxl...  \n",
       "4             False  Transforming The LaBrant Family's empty white ...  "
      ]
     },
     "execution_count": 4,
     "metadata": {},
     "output_type": "execute_result"
    }
   ],
   "source": [
    "df.head()"
   ]
  },
  {
   "cell_type": "code",
   "execution_count": 5,
   "id": "f29a3dbc",
   "metadata": {},
   "outputs": [
    {
     "name": "stdout",
     "output_type": "stream",
     "text": [
      "<class 'pandas.core.frame.DataFrame'>\n",
      "RangeIndex: 120791 entries, 0 to 120790\n",
      "Data columns (total 16 columns):\n",
      " #   Column             Non-Null Count   Dtype \n",
      "---  ------             --------------   ----- \n",
      " 0   video_id           120791 non-null  object\n",
      " 1   title              120791 non-null  object\n",
      " 2   publishedAt        120791 non-null  object\n",
      " 3   channelId          120791 non-null  object\n",
      " 4   channelTitle       120791 non-null  object\n",
      " 5   categoryId         120791 non-null  int64 \n",
      " 6   trending_date      120791 non-null  object\n",
      " 7   tags               120791 non-null  object\n",
      " 8   view_count         120791 non-null  int64 \n",
      " 9   likes              120791 non-null  int64 \n",
      " 10  dislikes           120791 non-null  int64 \n",
      " 11  comment_count      120791 non-null  int64 \n",
      " 12  thumbnail_link     120791 non-null  object\n",
      " 13  comments_disabled  120791 non-null  bool  \n",
      " 14  ratings_disabled   120791 non-null  bool  \n",
      " 15  description        117339 non-null  object\n",
      "dtypes: bool(2), int64(5), object(9)\n",
      "memory usage: 13.1+ MB\n"
     ]
    }
   ],
   "source": [
    "df.info()"
   ]
  },
  {
   "cell_type": "markdown",
   "id": "7fb2767d",
   "metadata": {},
   "source": [
    "# DATA PREPARTION\n",
    "\n",
    "Seperation of dataset to non numeric and numeric\n",
    "- Remove the non 2021 year data.\n",
    "- Remove Unwanted columns."
   ]
  },
  {
   "cell_type": "code",
   "execution_count": 6,
   "id": "4a7b567d",
   "metadata": {},
   "outputs": [
    {
     "name": "stdout",
     "output_type": "stream",
     "text": [
      "<class 'pandas.core.frame.DataFrame'>\n",
      "RangeIndex: 120791 entries, 0 to 120790\n",
      "Data columns (total 16 columns):\n",
      " #   Column             Non-Null Count   Dtype \n",
      "---  ------             --------------   ----- \n",
      " 0   video_id           120791 non-null  object\n",
      " 1   title              120791 non-null  object\n",
      " 2   publishedAt        120791 non-null  object\n",
      " 3   channelId          120791 non-null  object\n",
      " 4   channelTitle       120791 non-null  object\n",
      " 5   categoryId         120791 non-null  int64 \n",
      " 6   trending_date      120791 non-null  object\n",
      " 7   tags               120791 non-null  object\n",
      " 8   view_count         120791 non-null  int64 \n",
      " 9   likes              120791 non-null  int64 \n",
      " 10  dislikes           120791 non-null  int64 \n",
      " 11  comment_count      120791 non-null  int64 \n",
      " 12  thumbnail_link     120791 non-null  object\n",
      " 13  comments_disabled  120791 non-null  bool  \n",
      " 14  ratings_disabled   120791 non-null  bool  \n",
      " 15  description        117339 non-null  object\n",
      "dtypes: bool(2), int64(5), object(9)\n",
      "memory usage: 13.1+ MB\n"
     ]
    }
   ],
   "source": [
    "df.info()"
   ]
  },
  {
   "cell_type": "code",
   "execution_count": 7,
   "id": "9ef8a9a2",
   "metadata": {},
   "outputs": [],
   "source": [
    "df = df[df[\"publishedAt\"].str.contains(\"2020|2022\") == False]"
   ]
  },
  {
   "cell_type": "code",
   "execution_count": 8,
   "id": "2314388b",
   "metadata": {},
   "outputs": [
    {
     "name": "stdout",
     "output_type": "stream",
     "text": [
      "<class 'pandas.core.frame.DataFrame'>\n",
      "Int64Index: 74225 entries, 27796 to 103589\n",
      "Data columns (total 16 columns):\n",
      " #   Column             Non-Null Count  Dtype \n",
      "---  ------             --------------  ----- \n",
      " 0   video_id           74225 non-null  object\n",
      " 1   title              74225 non-null  object\n",
      " 2   publishedAt        74225 non-null  object\n",
      " 3   channelId          74225 non-null  object\n",
      " 4   channelTitle       74225 non-null  object\n",
      " 5   categoryId         74225 non-null  int64 \n",
      " 6   trending_date      74225 non-null  object\n",
      " 7   tags               74225 non-null  object\n",
      " 8   view_count         74225 non-null  int64 \n",
      " 9   likes              74225 non-null  int64 \n",
      " 10  dislikes           74225 non-null  int64 \n",
      " 11  comment_count      74225 non-null  int64 \n",
      " 12  thumbnail_link     74225 non-null  object\n",
      " 13  comments_disabled  74225 non-null  bool  \n",
      " 14  ratings_disabled   74225 non-null  bool  \n",
      " 15  description        72363 non-null  object\n",
      "dtypes: bool(2), int64(5), object(9)\n",
      "memory usage: 8.6+ MB\n"
     ]
    }
   ],
   "source": [
    "df.info()"
   ]
  },
  {
   "cell_type": "markdown",
   "id": "43a02c26",
   "metadata": {},
   "source": [
    "## To Check if Data only consist of 2021 published videos (74225)"
   ]
  },
  {
   "cell_type": "code",
   "execution_count": 9,
   "id": "4f6200cc",
   "metadata": {},
   "outputs": [
    {
     "data": {
      "image/png": "[encoded data removed]",
      "text/plain": [
       "<Figure size 800x500 with 1 Axes>"
      ]
     },
     "metadata": {},
     "output_type": "display_data"
    }
   ],
   "source": [
    "cdf = df[\"publishedAt\"].apply(lambda x: '' + x[:4]).value_counts() \\\n",
    "            .to_frame().reset_index() \\\n",
    "            .rename(columns={\"index\": \"year\", \"publishedAt\": \"No_of_videos\"})\n",
    "\n",
    "fig, ax = plt.subplots()\n",
    "_ = sb.barplot(x=\"year\", y=\"No_of_videos\", data=cdf, \n",
    "                palette=sb.color_palette(['#ff764a', '#ffa600'], n_colors=7), ax=ax)\n",
    "_ = ax.set(xlabel=\"Year\", ylabel=\"No. of videos\")"
   ]
  },
  {
   "cell_type": "code",
   "execution_count": 10,
   "id": "e77f45a7",
   "metadata": {
    "scrolled": true
   },
   "outputs": [
    {
     "data": {
      "text/plain": [
       "2021   0.99\n",
       "2022   0.01\n",
       "Name: trending_date, dtype: float64"
      ]
     },
     "execution_count": 10,
     "metadata": {},
     "output_type": "execute_result"
    }
   ],
   "source": [
    "df[\"publishedAt\"].apply(lambda x: '' + x[:4]).value_counts(normalize=True)\n",
    "df[\"trending_date\"].apply(lambda x: '' + x[:4]).value_counts(normalize=True)\n"
   ]
  },
  {
   "cell_type": "code",
   "execution_count": 11,
   "id": "583871c9",
   "metadata": {
    "scrolled": true
   },
   "outputs": [
    {
     "data": {
      "text/html": [
       "<div>\n",
       "<style scoped>\n",
       "    .dataframe tbody tr th:only-of-type {\n",
       "        vertical-align: middle;\n",
       "    }\n",
       "\n",
       "    .dataframe tbody tr th {\n",
       "        vertical-align: top;\n",
       "    }\n",
       "\n",
       "    .dataframe thead th {\n",
       "        text-align: right;\n",
       "    }\n",
       "</style>\n",
       "<table border=\"1\" class=\"dataframe\">\n",
       "  <thead>\n",
       "    <tr style=\"text-align: right;\">\n",
       "      <th></th>\n",
       "      <th>title</th>\n",
       "      <th>publishedAt</th>\n",
       "      <th>channelTitle</th>\n",
       "      <th>categoryId</th>\n",
       "      <th>trending_date</th>\n",
       "      <th>tags</th>\n",
       "      <th>view_count</th>\n",
       "      <th>likes</th>\n",
       "      <th>dislikes</th>\n",
       "      <th>comment_count</th>\n",
       "      <th>comments_disabled</th>\n",
       "      <th>ratings_disabled</th>\n",
       "      <th>description</th>\n",
       "    </tr>\n",
       "  </thead>\n",
       "  <tbody>\n",
       "    <tr>\n",
       "      <th>27796</th>\n",
       "      <td>Youtube Rewind 2020, Thank God It's Over</td>\n",
       "      <td>2021-01-01T21:00:03Z</td>\n",
       "      <td>MrBeast</td>\n",
       "      <td>24</td>\n",
       "      <td>2021-01-02T00:00:00Z</td>\n",
       "      <td>[None]</td>\n",
       "      <td>17866867</td>\n",
       "      <td>2862697</td>\n",
       "      <td>19927</td>\n",
       "      <td>224811</td>\n",
       "      <td>False</td>\n",
       "      <td>False</td>\n",
       "      <td>This is what Youtube Rewind would look like if...</td>\n",
       "    </tr>\n",
       "    <tr>\n",
       "      <th>27797</th>\n",
       "      <td>Justin Bieber - Anyone</td>\n",
       "      <td>2021-01-01T05:00:08Z</td>\n",
       "      <td>JustinBieberVEVO</td>\n",
       "      <td>10</td>\n",
       "      <td>2021-01-02T00:00:00Z</td>\n",
       "      <td>Justin|Bieber|Anyone|RBMG/Def|Jam|Pop</td>\n",
       "      <td>11013551</td>\n",
       "      <td>782233</td>\n",
       "      <td>21750</td>\n",
       "      <td>63315</td>\n",
       "      <td>False</td>\n",
       "      <td>False</td>\n",
       "      <td>Anyone out now: https://JustinBieber.lnk.to/An...</td>\n",
       "    </tr>\n",
       "    <tr>\n",
       "      <th>27798</th>\n",
       "      <td>Jennifer Lopez | New Year's Rockin' Eve Perfor...</td>\n",
       "      <td>2021-01-01T09:00:37Z</td>\n",
       "      <td>Jennifer Lopez</td>\n",
       "      <td>10</td>\n",
       "      <td>2021-01-02T00:00:00Z</td>\n",
       "      <td>[None]</td>\n",
       "      <td>2060520</td>\n",
       "      <td>34996</td>\n",
       "      <td>6049</td>\n",
       "      <td>5788</td>\n",
       "      <td>False</td>\n",
       "      <td>False</td>\n",
       "      <td>Jennifer Lopez | New Year's Rockin' Eve Perfor...</td>\n",
       "    </tr>\n",
       "    <tr>\n",
       "      <th>27799</th>\n",
       "      <td>London's 2021 fireworks 🎆 Happy New Year Live!...</td>\n",
       "      <td>2021-01-01T00:13:16Z</td>\n",
       "      <td>BBC</td>\n",
       "      <td>24</td>\n",
       "      <td>2021-01-02T00:00:00Z</td>\n",
       "      <td>fireworks|NYE|new year countdown 2021|firework...</td>\n",
       "      <td>5478680</td>\n",
       "      <td>85416</td>\n",
       "      <td>9242</td>\n",
       "      <td>16876</td>\n",
       "      <td>False</td>\n",
       "      <td>False</td>\n",
       "      <td>Subscribe and 🔔 to OFFICIAL BBC YouTube 👉 http...</td>\n",
       "    </tr>\n",
       "    <tr>\n",
       "      <th>27802</th>\n",
       "      <td>Welcome to BREATH - A 30 Day Yoga Journey  |  ...</td>\n",
       "      <td>2021-01-01T06:00:09Z</td>\n",
       "      <td>Yoga With Adriene</td>\n",
       "      <td>26</td>\n",
       "      <td>2021-01-02T00:00:00Z</td>\n",
       "      <td>breath|breath yoga|30 days of yoga|30 day yoga...</td>\n",
       "      <td>884345</td>\n",
       "      <td>34736</td>\n",
       "      <td>508</td>\n",
       "      <td>4669</td>\n",
       "      <td>False</td>\n",
       "      <td>False</td>\n",
       "      <td>It is happening! Today’s video is a bit of an ...</td>\n",
       "    </tr>\n",
       "    <tr>\n",
       "      <th>...</th>\n",
       "      <td>...</td>\n",
       "      <td>...</td>\n",
       "      <td>...</td>\n",
       "      <td>...</td>\n",
       "      <td>...</td>\n",
       "      <td>...</td>\n",
       "      <td>...</td>\n",
       "      <td>...</td>\n",
       "      <td>...</td>\n",
       "      <td>...</td>\n",
       "      <td>...</td>\n",
       "      <td>...</td>\n",
       "      <td>...</td>\n",
       "    </tr>\n",
       "    <tr>\n",
       "      <th>103571</th>\n",
       "      <td>Part 1’ #short #ricardofloors #stairs</td>\n",
       "      <td>2021-12-29T10:43:30Z</td>\n",
       "      <td>Ricardofloors</td>\n",
       "      <td>26</td>\n",
       "      <td>2022-01-07T00:00:00Z</td>\n",
       "      <td>[None]</td>\n",
       "      <td>3010195</td>\n",
       "      <td>27044</td>\n",
       "      <td>0</td>\n",
       "      <td>338</td>\n",
       "      <td>False</td>\n",
       "      <td>False</td>\n",
       "      <td>NaN</td>\n",
       "    </tr>\n",
       "    <tr>\n",
       "      <th>103575</th>\n",
       "      <td>21 Savage - No Debate / Big Smoke (Official Vi...</td>\n",
       "      <td>2021-12-31T21:00:30Z</td>\n",
       "      <td>21 Savage</td>\n",
       "      <td>10</td>\n",
       "      <td>2022-01-07T00:00:00Z</td>\n",
       "      <td>21 savage|21 savage 2021|21 savage music|21 sa...</td>\n",
       "      <td>2771407</td>\n",
       "      <td>145832</td>\n",
       "      <td>0</td>\n",
       "      <td>6121</td>\n",
       "      <td>False</td>\n",
       "      <td>False</td>\n",
       "      <td>Watch the official video for No Debate / Big S...</td>\n",
       "    </tr>\n",
       "    <tr>\n",
       "      <th>103582</th>\n",
       "      <td>I can't stop buying weird ads (&amp; getting scammed)</td>\n",
       "      <td>2021-12-31T18:57:06Z</td>\n",
       "      <td>Drew Gooden</td>\n",
       "      <td>23</td>\n",
       "      <td>2022-01-07T00:00:00Z</td>\n",
       "      <td>drew gooden|comedy|commentary|reaction|vine|dr...</td>\n",
       "      <td>2537322</td>\n",
       "      <td>179666</td>\n",
       "      <td>0</td>\n",
       "      <td>7810</td>\n",
       "      <td>False</td>\n",
       "      <td>False</td>\n",
       "      <td>Sponsored by Current. Head to https://www.curr...</td>\n",
       "    </tr>\n",
       "    <tr>\n",
       "      <th>103583</th>\n",
       "      <td>Stockholm Syndrome: The Movie</td>\n",
       "      <td>2021-12-31T18:00:03Z</td>\n",
       "      <td>Kurtis Conner</td>\n",
       "      <td>23</td>\n",
       "      <td>2022-01-07T00:00:00Z</td>\n",
       "      <td>kurtis conner|kurtis connor|christmas movie|ba...</td>\n",
       "      <td>1554261</td>\n",
       "      <td>136737</td>\n",
       "      <td>0</td>\n",
       "      <td>5660</td>\n",
       "      <td>False</td>\n",
       "      <td>False</td>\n",
       "      <td>Use code KURTISTOWN16 for up to16 FREE MEALS +...</td>\n",
       "    </tr>\n",
       "    <tr>\n",
       "      <th>103589</th>\n",
       "      <td>JUST PLAY DEAD #shorts #lifehacks</td>\n",
       "      <td>2021-12-31T17:10:03Z</td>\n",
       "      <td>Jack Neel</td>\n",
       "      <td>24</td>\n",
       "      <td>2022-01-07T00:00:00Z</td>\n",
       "      <td>[None]</td>\n",
       "      <td>4238591</td>\n",
       "      <td>537339</td>\n",
       "      <td>0</td>\n",
       "      <td>2074</td>\n",
       "      <td>False</td>\n",
       "      <td>False</td>\n",
       "      <td>NaN</td>\n",
       "    </tr>\n",
       "  </tbody>\n",
       "</table>\n",
       "<p>74225 rows × 13 columns</p>\n",
       "</div>"
      ],
      "text/plain": [
       "                                                    title  \\\n",
       "27796            Youtube Rewind 2020, Thank God It's Over   \n",
       "27797                              Justin Bieber - Anyone   \n",
       "27798   Jennifer Lopez | New Year's Rockin' Eve Perfor...   \n",
       "27799   London's 2021 fireworks 🎆 Happy New Year Live!...   \n",
       "27802   Welcome to BREATH - A 30 Day Yoga Journey  |  ...   \n",
       "...                                                   ...   \n",
       "103571              Part 1’ #short #ricardofloors #stairs   \n",
       "103575  21 Savage - No Debate / Big Smoke (Official Vi...   \n",
       "103582  I can't stop buying weird ads (& getting scammed)   \n",
       "103583                      Stockholm Syndrome: The Movie   \n",
       "103589                  JUST PLAY DEAD #shorts #lifehacks   \n",
       "\n",
       "                 publishedAt       channelTitle  categoryId  \\\n",
       "27796   2021-01-01T21:00:03Z            MrBeast          24   \n",
       "27797   2021-01-01T05:00:08Z   JustinBieberVEVO          10   \n",
       "27798   2021-01-01T09:00:37Z     Jennifer Lopez          10   \n",
       "27799   2021-01-01T00:13:16Z                BBC          24   \n",
       "27802   2021-01-01T06:00:09Z  Yoga With Adriene          26   \n",
       "...                      ...                ...         ...   \n",
       "103571  2021-12-29T10:43:30Z      Ricardofloors          26   \n",
       "103575  2021-12-31T21:00:30Z          21 Savage          10   \n",
       "103582  2021-12-31T18:57:06Z        Drew Gooden          23   \n",
       "103583  2021-12-31T18:00:03Z      Kurtis Conner          23   \n",
       "103589  2021-12-31T17:10:03Z          Jack Neel          24   \n",
       "\n",
       "               trending_date  \\\n",
       "27796   2021-01-02T00:00:00Z   \n",
       "27797   2021-01-02T00:00:00Z   \n",
       "27798   2021-01-02T00:00:00Z   \n",
       "27799   2021-01-02T00:00:00Z   \n",
       "27802   2021-01-02T00:00:00Z   \n",
       "...                      ...   \n",
       "103571  2022-01-07T00:00:00Z   \n",
       "103575  2022-01-07T00:00:00Z   \n",
       "103582  2022-01-07T00:00:00Z   \n",
       "103583  2022-01-07T00:00:00Z   \n",
       "103589  2022-01-07T00:00:00Z   \n",
       "\n",
       "                                                     tags  view_count  \\\n",
       "27796                                              [None]    17866867   \n",
       "27797               Justin|Bieber|Anyone|RBMG/Def|Jam|Pop    11013551   \n",
       "27798                                              [None]     2060520   \n",
       "27799   fireworks|NYE|new year countdown 2021|firework...     5478680   \n",
       "27802   breath|breath yoga|30 days of yoga|30 day yoga...      884345   \n",
       "...                                                   ...         ...   \n",
       "103571                                             [None]     3010195   \n",
       "103575  21 savage|21 savage 2021|21 savage music|21 sa...     2771407   \n",
       "103582  drew gooden|comedy|commentary|reaction|vine|dr...     2537322   \n",
       "103583  kurtis conner|kurtis connor|christmas movie|ba...     1554261   \n",
       "103589                                             [None]     4238591   \n",
       "\n",
       "          likes  dislikes  comment_count  comments_disabled  ratings_disabled  \\\n",
       "27796   2862697     19927         224811              False             False   \n",
       "27797    782233     21750          63315              False             False   \n",
       "27798     34996      6049           5788              False             False   \n",
       "27799     85416      9242          16876              False             False   \n",
       "27802     34736       508           4669              False             False   \n",
       "...         ...       ...            ...                ...               ...   \n",
       "103571    27044         0            338              False             False   \n",
       "103575   145832         0           6121              False             False   \n",
       "103582   179666         0           7810              False             False   \n",
       "103583   136737         0           5660              False             False   \n",
       "103589   537339         0           2074              False             False   \n",
       "\n",
       "                                              description  \n",
       "27796   This is what Youtube Rewind would look like if...  \n",
       "27797   Anyone out now: https://JustinBieber.lnk.to/An...  \n",
       "27798   Jennifer Lopez | New Year's Rockin' Eve Perfor...  \n",
       "27799   Subscribe and 🔔 to OFFICIAL BBC YouTube 👉 http...  \n",
       "27802   It is happening! Today’s video is a bit of an ...  \n",
       "...                                                   ...  \n",
       "103571                                                NaN  \n",
       "103575  Watch the official video for No Debate / Big S...  \n",
       "103582  Sponsored by Current. Head to https://www.curr...  \n",
       "103583  Use code KURTISTOWN16 for up to16 FREE MEALS +...  \n",
       "103589                                                NaN  \n",
       "\n",
       "[74225 rows x 13 columns]"
      ]
     },
     "execution_count": 11,
     "metadata": {},
     "output_type": "execute_result"
    }
   ],
   "source": [
    "df.drop(['channelId', 'video_id','thumbnail_link'], axis=1)"
   ]
  },
  {
   "cell_type": "code",
   "execution_count": 12,
   "id": "33fcddc6",
   "metadata": {},
   "outputs": [],
   "source": [
    "df['categoryId'] = pd.Categorical(df['categoryId'])"
   ]
  },
  {
   "cell_type": "markdown",
   "id": "6819cd27",
   "metadata": {},
   "source": [
    "# Data Cleaning\n",
    "- checking if any data have NAN \n",
    "- trending videos with <10000 doesnt make sense"
   ]
  },
  {
   "cell_type": "code",
   "execution_count": 13,
   "id": "e7d14da2",
   "metadata": {
    "scrolled": false
   },
   "outputs": [
    {
     "data": {
      "text/html": [
       "<div>\n",
       "<style scoped>\n",
       "    .dataframe tbody tr th:only-of-type {\n",
       "        vertical-align: middle;\n",
       "    }\n",
       "\n",
       "    .dataframe tbody tr th {\n",
       "        vertical-align: top;\n",
       "    }\n",
       "\n",
       "    .dataframe thead th {\n",
       "        text-align: right;\n",
       "    }\n",
       "</style>\n",
       "<table border=\"1\" class=\"dataframe\">\n",
       "  <thead>\n",
       "    <tr style=\"text-align: right;\">\n",
       "      <th></th>\n",
       "      <th>video_id</th>\n",
       "      <th>title</th>\n",
       "      <th>publishedAt</th>\n",
       "      <th>channelId</th>\n",
       "      <th>channelTitle</th>\n",
       "      <th>categoryId</th>\n",
       "      <th>trending_date</th>\n",
       "      <th>tags</th>\n",
       "      <th>view_count</th>\n",
       "      <th>likes</th>\n",
       "      <th>dislikes</th>\n",
       "      <th>comment_count</th>\n",
       "      <th>thumbnail_link</th>\n",
       "      <th>comments_disabled</th>\n",
       "      <th>ratings_disabled</th>\n",
       "      <th>description</th>\n",
       "    </tr>\n",
       "  </thead>\n",
       "  <tbody>\n",
       "    <tr>\n",
       "      <th>28481</th>\n",
       "      <td>ptndYf5whSU</td>\n",
       "      <td>EXCLUSIVE! WOW! RYAN GARCIA IMMEDIATELY AFTER ...</td>\n",
       "      <td>2021-01-03T01:00:51Z</td>\n",
       "      <td>UCjb7rhCq6GmiW42NRjEgA9g</td>\n",
       "      <td>Fino Boxing</td>\n",
       "      <td>17</td>\n",
       "      <td>2021-01-05T00:00:00Z</td>\n",
       "      <td>Ryan García|Luke Campbell|Fino Boxing|Eddie He...</td>\n",
       "      <td>199291</td>\n",
       "      <td>2499</td>\n",
       "      <td>92</td>\n",
       "      <td>429</td>\n",
       "      <td>https://i.ytimg.com/vi/ptndYf5whSU/default.jpg</td>\n",
       "      <td>False</td>\n",
       "      <td>False</td>\n",
       "      <td>NaN</td>\n",
       "    </tr>\n",
       "    <tr>\n",
       "      <th>28703</th>\n",
       "      <td>ptndYf5whSU</td>\n",
       "      <td>EXCLUSIVE! WOW! RYAN GARCIA IMMEDIATELY AFTER ...</td>\n",
       "      <td>2021-01-03T01:00:51Z</td>\n",
       "      <td>UCjb7rhCq6GmiW42NRjEgA9g</td>\n",
       "      <td>Fino Boxing</td>\n",
       "      <td>17</td>\n",
       "      <td>2021-01-06T00:00:00Z</td>\n",
       "      <td>Ryan García|Luke Campbell|Fino Boxing|Eddie He...</td>\n",
       "      <td>205304</td>\n",
       "      <td>2532</td>\n",
       "      <td>93</td>\n",
       "      <td>442</td>\n",
       "      <td>https://i.ytimg.com/vi/ptndYf5whSU/default.jpg</td>\n",
       "      <td>False</td>\n",
       "      <td>False</td>\n",
       "      <td>NaN</td>\n",
       "    </tr>\n",
       "    <tr>\n",
       "      <th>28924</th>\n",
       "      <td>ptndYf5whSU</td>\n",
       "      <td>EXCLUSIVE! WOW! RYAN GARCIA IMMEDIATELY AFTER ...</td>\n",
       "      <td>2021-01-03T01:00:51Z</td>\n",
       "      <td>UCjb7rhCq6GmiW42NRjEgA9g</td>\n",
       "      <td>Fino Boxing</td>\n",
       "      <td>17</td>\n",
       "      <td>2021-01-07T00:00:00Z</td>\n",
       "      <td>Ryan García|Luke Campbell|Fino Boxing|Eddie He...</td>\n",
       "      <td>208697</td>\n",
       "      <td>2559</td>\n",
       "      <td>95</td>\n",
       "      <td>446</td>\n",
       "      <td>https://i.ytimg.com/vi/ptndYf5whSU/default.jpg</td>\n",
       "      <td>False</td>\n",
       "      <td>False</td>\n",
       "      <td>NaN</td>\n",
       "    </tr>\n",
       "  </tbody>\n",
       "</table>\n",
       "</div>"
      ],
      "text/plain": [
       "          video_id                                              title  \\\n",
       "28481  ptndYf5whSU  EXCLUSIVE! WOW! RYAN GARCIA IMMEDIATELY AFTER ...   \n",
       "28703  ptndYf5whSU  EXCLUSIVE! WOW! RYAN GARCIA IMMEDIATELY AFTER ...   \n",
       "28924  ptndYf5whSU  EXCLUSIVE! WOW! RYAN GARCIA IMMEDIATELY AFTER ...   \n",
       "\n",
       "                publishedAt                 channelId channelTitle categoryId  \\\n",
       "28481  2021-01-03T01:00:51Z  UCjb7rhCq6GmiW42NRjEgA9g  Fino Boxing         17   \n",
       "28703  2021-01-03T01:00:51Z  UCjb7rhCq6GmiW42NRjEgA9g  Fino Boxing         17   \n",
       "28924  2021-01-03T01:00:51Z  UCjb7rhCq6GmiW42NRjEgA9g  Fino Boxing         17   \n",
       "\n",
       "              trending_date  \\\n",
       "28481  2021-01-05T00:00:00Z   \n",
       "28703  2021-01-06T00:00:00Z   \n",
       "28924  2021-01-07T00:00:00Z   \n",
       "\n",
       "                                                    tags  view_count  likes  \\\n",
       "28481  Ryan García|Luke Campbell|Fino Boxing|Eddie He...      199291   2499   \n",
       "28703  Ryan García|Luke Campbell|Fino Boxing|Eddie He...      205304   2532   \n",
       "28924  Ryan García|Luke Campbell|Fino Boxing|Eddie He...      208697   2559   \n",
       "\n",
       "       dislikes  comment_count  \\\n",
       "28481        92            429   \n",
       "28703        93            442   \n",
       "28924        95            446   \n",
       "\n",
       "                                       thumbnail_link  comments_disabled  \\\n",
       "28481  https://i.ytimg.com/vi/ptndYf5whSU/default.jpg              False   \n",
       "28703  https://i.ytimg.com/vi/ptndYf5whSU/default.jpg              False   \n",
       "28924  https://i.ytimg.com/vi/ptndYf5whSU/default.jpg              False   \n",
       "\n",
       "       ratings_disabled description  \n",
       "28481             False         NaN  \n",
       "28703             False         NaN  \n",
       "28924             False         NaN  "
      ]
     },
     "execution_count": 13,
     "metadata": {},
     "output_type": "execute_result"
    }
   ],
   "source": [
    "df[df[\"description\"].apply(lambda x: pd.isna(x))].head(3)"
   ]
  },
  {
   "cell_type": "markdown",
   "id": "7b98c306",
   "metadata": {},
   "source": [
    "# Data Analysis\n",
    " - numeric variables\n",
    " - catagory variables\n",
    " \n",
    "How does it affects the view/ how trendy the video is\n",
    "- Numeric Variables ( View count, likes, dislikes, comments)"
   ]
  },
  {
   "cell_type": "code",
   "execution_count": 14,
   "id": "460826c8",
   "metadata": {
    "scrolled": true
   },
   "outputs": [
    {
     "data": {
      "text/html": [
       "<div>\n",
       "<style scoped>\n",
       "    .dataframe tbody tr th:only-of-type {\n",
       "        vertical-align: middle;\n",
       "    }\n",
       "\n",
       "    .dataframe tbody tr th {\n",
       "        vertical-align: top;\n",
       "    }\n",
       "\n",
       "    .dataframe thead th {\n",
       "        text-align: right;\n",
       "    }\n",
       "</style>\n",
       "<table border=\"1\" class=\"dataframe\">\n",
       "  <thead>\n",
       "    <tr style=\"text-align: right;\">\n",
       "      <th></th>\n",
       "      <th>view_count</th>\n",
       "      <th>likes</th>\n",
       "      <th>dislikes</th>\n",
       "      <th>comment_count</th>\n",
       "    </tr>\n",
       "  </thead>\n",
       "  <tbody>\n",
       "    <tr>\n",
       "      <th>count</th>\n",
       "      <td>74225.00</td>\n",
       "      <td>74225.00</td>\n",
       "      <td>74225.00</td>\n",
       "      <td>74225.00</td>\n",
       "    </tr>\n",
       "    <tr>\n",
       "      <th>mean</th>\n",
       "      <td>2816360.38</td>\n",
       "      <td>151165.17</td>\n",
       "      <td>2626.26</td>\n",
       "      <td>11614.17</td>\n",
       "    </tr>\n",
       "    <tr>\n",
       "      <th>std</th>\n",
       "      <td>7401596.38</td>\n",
       "      <td>412975.45</td>\n",
       "      <td>8693.65</td>\n",
       "      <td>72802.02</td>\n",
       "    </tr>\n",
       "    <tr>\n",
       "      <th>min</th>\n",
       "      <td>0.00</td>\n",
       "      <td>0.00</td>\n",
       "      <td>0.00</td>\n",
       "      <td>0.00</td>\n",
       "    </tr>\n",
       "    <tr>\n",
       "      <th>25%</th>\n",
       "      <td>543832.00</td>\n",
       "      <td>22131.00</td>\n",
       "      <td>304.00</td>\n",
       "      <td>1544.00</td>\n",
       "    </tr>\n",
       "    <tr>\n",
       "      <th>50%</th>\n",
       "      <td>1125213.00</td>\n",
       "      <td>52328.00</td>\n",
       "      <td>744.00</td>\n",
       "      <td>3531.00</td>\n",
       "    </tr>\n",
       "    <tr>\n",
       "      <th>75%</th>\n",
       "      <td>2502593.00</td>\n",
       "      <td>132000.00</td>\n",
       "      <td>1944.00</td>\n",
       "      <td>8402.00</td>\n",
       "    </tr>\n",
       "    <tr>\n",
       "      <th>max</th>\n",
       "      <td>264407389.00</td>\n",
       "      <td>16021534.00</td>\n",
       "      <td>290208.00</td>\n",
       "      <td>6738537.00</td>\n",
       "    </tr>\n",
       "  </tbody>\n",
       "</table>\n",
       "</div>"
      ],
      "text/plain": [
       "        view_count       likes  dislikes  comment_count\n",
       "count     74225.00    74225.00  74225.00       74225.00\n",
       "mean    2816360.38   151165.17   2626.26       11614.17\n",
       "std     7401596.38   412975.45   8693.65       72802.02\n",
       "min           0.00        0.00      0.00           0.00\n",
       "25%      543832.00    22131.00    304.00        1544.00\n",
       "50%     1125213.00    52328.00    744.00        3531.00\n",
       "75%     2502593.00   132000.00   1944.00        8402.00\n",
       "max   264407389.00 16021534.00 290208.00     6738537.00"
      ]
     },
     "execution_count": 14,
     "metadata": {},
     "output_type": "execute_result"
    }
   ],
   "source": [
    "df.describe()\n"
   ]
  },
  {
   "cell_type": "markdown",
   "id": "bfb2508d",
   "metadata": {},
   "source": [
    "# Numeric "
   ]
  },
  {
   "cell_type": "markdown",
   "id": "05213813",
   "metadata": {},
   "source": [
    "From the dataset above, we observe that the mean and median of the datasets differs by a large extent.\n",
    "\n",
    "The mean view of a trending video in 2021 is about 2 816 360 views.\n",
    "The median view is much lower at 1 125 213, less than half of the average views.\n",
    "\n",
    "The mean likes of a trending video is 151 165.\n",
    "The median likes is also much lower than the mean at 52328.\n",
    "\n",
    "The mean comments of a trending video is 11 614.\n",
    "The median comments is 3 531 which too is much lower than the mean."
   ]
  },
  {
   "cell_type": "code",
   "execution_count": 15,
   "id": "b529b272",
   "metadata": {},
   "outputs": [
    {
     "name": "stderr",
     "output_type": "stream",
     "text": [
      "C:\\Users\\user\\anaconda3\\lib\\site-packages\\seaborn\\distributions.py:2619: FutureWarning: `distplot` is a deprecated function and will be removed in a future version. Please adapt your code to use either `displot` (a figure-level function with similar flexibility) or `histplot` (an axes-level function for histograms).\n",
      "  warnings.warn(msg, FutureWarning)\n"
     ]
    },
    {
     "data": {
      "image/png": "[encoded data removed]",
      "text/plain": [
       "<Figure size 800x500 with 1 Axes>"
      ]
     },
     "metadata": {},
     "output_type": "display_data"
    }
   ],
   "source": [
    "fig, ax = plt.subplots()\n",
    "_ = sb.distplot(df[\"view_count\"], kde=False, color=PLOT_COLORS[4], \n",
    "                 hist_kws={'alpha': 1}, bins=np.linspace(0, 2.3e8, 47), ax=ax)\n",
    "_ = ax.set(xlabel=\"view_count\", ylabel=\"Number of videos\", xticks=np.arange(0, 2.4e8, 1e7))\n",
    "_ = ax.set_xlim(right=2.5e8)\n",
    "_ = plt.xticks(rotation=90)"
   ]
  },
  {
   "cell_type": "markdown",
   "id": "afc37ef9",
   "metadata": {},
   "source": [
    "From this histogram, we can observe the general distribution of what's most of the view count for trending views are. However, we can dig even deeper and how many % of the videos has similar view count."
   ]
  },
  {
   "cell_type": "code",
   "execution_count": 16,
   "id": "70bb49e2",
   "metadata": {},
   "outputs": [
    {
     "data": {
      "text/plain": [
       "46.109801279892224"
      ]
     },
     "execution_count": 16,
     "metadata": {},
     "output_type": "execute_result"
    }
   ],
   "source": [
    "df[df['view_count'] < 1e6]['view_count'].count() / df['view_count'].count() * 100"
   ]
  },
  {
   "cell_type": "markdown",
   "id": "a9e6808b",
   "metadata": {},
   "source": [
    "Using the formula above, we can observe that about 45% of videos have less than a million view."
   ]
  },
  {
   "cell_type": "code",
   "execution_count": 17,
   "id": "5a276cb5",
   "metadata": {},
   "outputs": [
    {
     "data": {
      "text/plain": [
       "59.516335466487035"
      ]
     },
     "execution_count": 17,
     "metadata": {},
     "output_type": "execute_result"
    }
   ],
   "source": [
    "df[df['view_count'] < 1.5e6]['view_count'].count() / df['view_count'].count() * 100"
   ]
  },
  {
   "cell_type": "markdown",
   "id": "581815fe",
   "metadata": {},
   "source": [
    "With the same formula, we observed that about 60% which is over half of the trending videos have views less than 1 500 000 views."
   ]
  },
  {
   "cell_type": "code",
   "execution_count": 18,
   "id": "a0b613d9",
   "metadata": {},
   "outputs": [
    {
     "data": {
      "text/plain": [
       "0.8218255304816466"
      ]
     },
     "execution_count": 18,
     "metadata": {},
     "output_type": "execute_result"
    }
   ],
   "source": [
    "df[df['view_count'] < 2.85e6]['view_count'].count() / df['view_count'].count() * 100 - df[df['view_count'] < 2.75e6]['view_count'].count() / df['view_count'].count() * 100"
   ]
  },
  {
   "cell_type": "markdown",
   "id": "fde46cc1",
   "metadata": {},
   "source": [
    "With the mean at about 2 800 000 views, we see that only about 0.8% of the videos fall within +/- 500 000 range of the mean. Thus a median is actually a better tool than median."
   ]
  },
  {
   "cell_type": "markdown",
   "id": "dbce7822",
   "metadata": {},
   "source": [
    "Here we will be looking deeper into the likes of trending videos"
   ]
  },
  {
   "cell_type": "code",
   "execution_count": 19,
   "id": "d0d7f739",
   "metadata": {},
   "outputs": [
    {
     "data": {
      "image/png": "[encoded data removed]",
      "text/plain": [
       "<Figure size 800x500 with 1 Axes>"
      ]
     },
     "metadata": {},
     "output_type": "display_data"
    }
   ],
   "source": [
    "plt.rc('figure.subplot', wspace=0.9)\n",
    "fig, ax = plt.subplots()\n",
    "_ = sb.distplot(df[\"likes\"], kde=False, \n",
    "                 color=PLOT_COLORS[4], hist_kws={'alpha': 1}, \n",
    "                 bins=np.linspace(0, 6e6, 61), ax=ax)\n",
    "_ = ax.set(xlabel=\"Likes\", ylabel=\"Number of videos\")\n",
    "_ = plt.xticks(rotation=90)"
   ]
  },
  {
   "cell_type": "markdown",
   "id": "ec9bfe35",
   "metadata": {},
   "source": [
    "From the distribution of this graph, we can observe that the data is slightly more evenly distributed than that of views. We will dive deeper and see how the distribution is like."
   ]
  },
  {
   "cell_type": "code",
   "execution_count": 20,
   "id": "24842433",
   "metadata": {},
   "outputs": [
    {
     "data": {
      "text/plain": [
       "78.0464802963961"
      ]
     },
     "execution_count": 20,
     "metadata": {},
     "output_type": "execute_result"
    }
   ],
   "source": [
    "df[df['likes'] < 151165]['likes'].count() / df['likes'].count() * 100"
   ]
  },
  {
   "cell_type": "code",
   "execution_count": 21,
   "id": "c4e4a5eb",
   "metadata": {},
   "outputs": [
    {
     "data": {
      "text/plain": [
       "49.999326372516"
      ]
     },
     "execution_count": 21,
     "metadata": {},
     "output_type": "execute_result"
    }
   ],
   "source": [
    "df[df['likes'] < 52328]['likes'].count() / df['likes'].count() * 100"
   ]
  },
  {
   "cell_type": "markdown",
   "id": "55d4f6dc",
   "metadata": {},
   "source": [
    "With the mean at 151 165 likes and median at 52 328 likes, we observe that 50% of data fall below the median and thus the other 50% above the median. For the mean, it covers about 78% of the data which is much better than the mean of the view count."
   ]
  },
  {
   "cell_type": "markdown",
   "id": "13db2112",
   "metadata": {},
   "source": [
    "Here we will be looking deeper into the number of comments of trending videos"
   ]
  },
  {
   "cell_type": "code",
   "execution_count": 22,
   "id": "7bdfebb0",
   "metadata": {},
   "outputs": [
    {
     "data": {
      "image/png": "[encoded data removed]",
      "text/plain": [
       "<Figure size 800x500 with 1 Axes>"
      ]
     },
     "metadata": {},
     "output_type": "display_data"
    }
   ],
   "source": [
    "fig, ax = plt.subplots()\n",
    "_ = sb.distplot(df[\"comment_count\"], kde=False, rug=False, \n",
    "                 color=PLOT_COLORS[4], hist_kws={'alpha': 1}, ax=ax)\n",
    "_ = ax.set(xlabel=\"Number of comments\", ylabel=\"Number of videos\")"
   ]
  },
  {
   "cell_type": "markdown",
   "id": "530a7ff4",
   "metadata": {},
   "source": [
    "The distribution here is very small and thus it is very difficult for us to observe anything, but we observe that most of the data is below 3 so we will take a deeper look by only observing the entries that are below 300 000."
   ]
  },
  {
   "cell_type": "code",
   "execution_count": 23,
   "id": "aa96fb12",
   "metadata": {},
   "outputs": [
    {
     "data": {
      "image/png": "[encoded data removed]",
      "text/plain": [
       "<Figure size 800x500 with 1 Axes>"
      ]
     },
     "metadata": {},
     "output_type": "display_data"
    }
   ],
   "source": [
    "fig, ax = plt.subplots()\n",
    "_ = sb.distplot(df[df[\"comment_count\"] < 200000][\"comment_count\"], kde=False, rug=False, \n",
    "                 color=PLOT_COLORS[4], hist_kws={'alpha': 1}, \n",
    "                 bins=np.linspace(0, 2e5, 49), ax=ax)\n",
    "_ = ax.set(xlabel=\"Number of comments\", ylabel=\"No. of videos\")"
   ]
  },
  {
   "cell_type": "markdown",
   "id": "09508dfa",
   "metadata": {},
   "source": [
    "With this new enlarged view, we can now see a better distribution. There is a better trend to observe too where the number of comments are inversely proportionate to the number of videos."
   ]
  },
  {
   "cell_type": "markdown",
   "id": "59e95617",
   "metadata": {},
   "source": [
    "The mean comments of a trending video is 11 614. The median comments is 3 531 which too is much lower than the mean."
   ]
  },
  {
   "cell_type": "code",
   "execution_count": 24,
   "id": "79f12e36",
   "metadata": {},
   "outputs": [
    {
     "data": {
      "text/plain": [
       "81.9575614685079"
      ]
     },
     "execution_count": 24,
     "metadata": {},
     "output_type": "execute_result"
    }
   ],
   "source": [
    "df[df['comment_count'] < 11614]['comment_count'].count() / df['comment_count'].count() * 100"
   ]
  },
  {
   "cell_type": "code",
   "execution_count": 25,
   "id": "a82a4ae2",
   "metadata": {},
   "outputs": [
    {
     "data": {
      "text/plain": [
       "49.99528460761199"
      ]
     },
     "execution_count": 25,
     "metadata": {},
     "output_type": "execute_result"
    }
   ],
   "source": [
    "df[df['comment_count'] < 3531]['comment_count'].count() / df['comment_count'].count() * 100"
   ]
  },
  {
   "cell_type": "markdown",
   "id": "ece80b7d",
   "metadata": {},
   "source": [
    "We can see about 80% of the trending videos fall below the mean whereas for the medium, about 50% falls below and the other 50% falls above."
   ]
  },
  {
   "cell_type": "markdown",
   "id": "01a3efee",
   "metadata": {},
   "source": [
    "Comparing the dstribution of the number of comments and likes using median and mean, both have similar statistics. However, there are more common span and bots that contribute to the comments than the likes which we are unable to filter out. This will lead to higher inaccuracy in the dataset over the likes dataset. Therefore we will use the number of likes to attempt to model a linear regression against Number of trending videos."
   ]
  },
  {
   "cell_type": "code",
   "execution_count": null,
   "id": "30bc849a",
   "metadata": {},
   "outputs": [],
   "source": []
  },
  {
   "cell_type": "code",
   "execution_count": null,
   "id": "a68fb294",
   "metadata": {},
   "outputs": [],
   "source": []
  },
  {
   "cell_type": "markdown",
   "id": "21a57a62",
   "metadata": {},
   "source": [
    "# Does category affect the view?"
   ]
  },
  {
   "cell_type": "code",
   "execution_count": 26,
   "id": "d62d6234",
   "metadata": {},
   "outputs": [
    {
     "data": {
      "text/plain": [
       "<AxesSubplot:xlabel='categoryId', ylabel='view_count'>"
      ]
     },
     "execution_count": 26,
     "metadata": {},
     "output_type": "execute_result"
    },
    {
     "data": {
      "image/png": "[encoded data removed]",
      "text/plain": [
       "<Figure size 800x500 with 1 Axes>"
      ]
     },
     "metadata": {},
     "output_type": "display_data"
    }
   ],
   "source": [
    "sb.boxplot( x = df['categoryId'], y= df['view_count'])"
   ]
  },
  {
   "cell_type": "code",
   "execution_count": 27,
   "id": "a9099892",
   "metadata": {},
   "outputs": [],
   "source": [
    "cleanCat = df"
   ]
  },
  {
   "cell_type": "code",
   "execution_count": 28,
   "id": "1d4dcdd3",
   "metadata": {},
   "outputs": [],
   "source": [
    "with open(\"US_category_id.json\") as f:\n",
    "    categories = json.load(f)[\"items\"]\n",
    "cat_dict = {}\n",
    "for cat in categories:\n",
    "    cat_dict[int(cat[\"id\"])] = cat[\"snippet\"][\"title\"]\n",
    "df['category_name'] = df['categoryId'].map(cat_dict)\n"
   ]
  },
  {
   "cell_type": "markdown",
   "id": "9fd480c4",
   "metadata": {},
   "source": [
    "### By dropping out the video id, channel id, which doesn't help us much in finding out the trend that we need.\n",
    "### By extracting the information from the JSON file, we are able to see what each of the categoryId mean"
   ]
  },
  {
   "cell_type": "code",
   "execution_count": 29,
   "id": "85ebc888",
   "metadata": {},
   "outputs": [
    {
     "data": {
      "text/html": [
       "<div>\n",
       "<style scoped>\n",
       "    .dataframe tbody tr th:only-of-type {\n",
       "        vertical-align: middle;\n",
       "    }\n",
       "\n",
       "    .dataframe tbody tr th {\n",
       "        vertical-align: top;\n",
       "    }\n",
       "\n",
       "    .dataframe thead th {\n",
       "        text-align: right;\n",
       "    }\n",
       "</style>\n",
       "<table border=\"1\" class=\"dataframe\">\n",
       "  <thead>\n",
       "    <tr style=\"text-align: right;\">\n",
       "      <th></th>\n",
       "      <th>video_id</th>\n",
       "      <th>title</th>\n",
       "      <th>publishedAt</th>\n",
       "      <th>channelId</th>\n",
       "      <th>channelTitle</th>\n",
       "      <th>categoryId</th>\n",
       "      <th>trending_date</th>\n",
       "      <th>tags</th>\n",
       "      <th>view_count</th>\n",
       "      <th>likes</th>\n",
       "      <th>dislikes</th>\n",
       "      <th>comment_count</th>\n",
       "      <th>thumbnail_link</th>\n",
       "      <th>comments_disabled</th>\n",
       "      <th>ratings_disabled</th>\n",
       "      <th>description</th>\n",
       "      <th>category_name</th>\n",
       "    </tr>\n",
       "  </thead>\n",
       "  <tbody>\n",
       "    <tr>\n",
       "      <th>27796</th>\n",
       "      <td>PKtnafFtfEo</td>\n",
       "      <td>Youtube Rewind 2020, Thank God It's Over</td>\n",
       "      <td>2021-01-01T21:00:03Z</td>\n",
       "      <td>UCX6OQ3DkcsbYNE6H8uQQuVA</td>\n",
       "      <td>MrBeast</td>\n",
       "      <td>24</td>\n",
       "      <td>2021-01-02T00:00:00Z</td>\n",
       "      <td>[None]</td>\n",
       "      <td>17866867</td>\n",
       "      <td>2862697</td>\n",
       "      <td>19927</td>\n",
       "      <td>224811</td>\n",
       "      <td>https://i.ytimg.com/vi/PKtnafFtfEo/default.jpg</td>\n",
       "      <td>False</td>\n",
       "      <td>False</td>\n",
       "      <td>This is what Youtube Rewind would look like if...</td>\n",
       "      <td>Entertainment</td>\n",
       "    </tr>\n",
       "    <tr>\n",
       "      <th>27797</th>\n",
       "      <td>KIK3azN4w34</td>\n",
       "      <td>Justin Bieber - Anyone</td>\n",
       "      <td>2021-01-01T05:00:08Z</td>\n",
       "      <td>UCHkj014U2CQ2Nv0UZeYpE_A</td>\n",
       "      <td>JustinBieberVEVO</td>\n",
       "      <td>10</td>\n",
       "      <td>2021-01-02T00:00:00Z</td>\n",
       "      <td>Justin|Bieber|Anyone|RBMG/Def|Jam|Pop</td>\n",
       "      <td>11013551</td>\n",
       "      <td>782233</td>\n",
       "      <td>21750</td>\n",
       "      <td>63315</td>\n",
       "      <td>https://i.ytimg.com/vi/KIK3azN4w34/default.jpg</td>\n",
       "      <td>False</td>\n",
       "      <td>False</td>\n",
       "      <td>Anyone out now: https://JustinBieber.lnk.to/An...</td>\n",
       "      <td>Music</td>\n",
       "    </tr>\n",
       "    <tr>\n",
       "      <th>27798</th>\n",
       "      <td>tXZ0Qq_Nbc0</td>\n",
       "      <td>Jennifer Lopez | New Year's Rockin' Eve Perfor...</td>\n",
       "      <td>2021-01-01T09:00:37Z</td>\n",
       "      <td>UCr8RjWUQ_9KYcIPmWiqBroQ</td>\n",
       "      <td>Jennifer Lopez</td>\n",
       "      <td>10</td>\n",
       "      <td>2021-01-02T00:00:00Z</td>\n",
       "      <td>[None]</td>\n",
       "      <td>2060520</td>\n",
       "      <td>34996</td>\n",
       "      <td>6049</td>\n",
       "      <td>5788</td>\n",
       "      <td>https://i.ytimg.com/vi/tXZ0Qq_Nbc0/default.jpg</td>\n",
       "      <td>False</td>\n",
       "      <td>False</td>\n",
       "      <td>Jennifer Lopez | New Year's Rockin' Eve Perfor...</td>\n",
       "      <td>Music</td>\n",
       "    </tr>\n",
       "    <tr>\n",
       "      <th>27799</th>\n",
       "      <td>MpJIg_3DnLk</td>\n",
       "      <td>London's 2021 fireworks 🎆 Happy New Year Live!...</td>\n",
       "      <td>2021-01-01T00:13:16Z</td>\n",
       "      <td>UCCj956IF62FbT7Gouszaj9w</td>\n",
       "      <td>BBC</td>\n",
       "      <td>24</td>\n",
       "      <td>2021-01-02T00:00:00Z</td>\n",
       "      <td>fireworks|NYE|new year countdown 2021|firework...</td>\n",
       "      <td>5478680</td>\n",
       "      <td>85416</td>\n",
       "      <td>9242</td>\n",
       "      <td>16876</td>\n",
       "      <td>https://i.ytimg.com/vi/MpJIg_3DnLk/default.jpg</td>\n",
       "      <td>False</td>\n",
       "      <td>False</td>\n",
       "      <td>Subscribe and 🔔 to OFFICIAL BBC YouTube 👉 http...</td>\n",
       "      <td>Entertainment</td>\n",
       "    </tr>\n",
       "    <tr>\n",
       "      <th>27802</th>\n",
       "      <td>AjhvRX57XkE</td>\n",
       "      <td>Welcome to BREATH - A 30 Day Yoga Journey  |  ...</td>\n",
       "      <td>2021-01-01T06:00:09Z</td>\n",
       "      <td>UCFKE7WVJfvaHW5q283SxchA</td>\n",
       "      <td>Yoga With Adriene</td>\n",
       "      <td>26</td>\n",
       "      <td>2021-01-02T00:00:00Z</td>\n",
       "      <td>breath|breath yoga|30 days of yoga|30 day yoga...</td>\n",
       "      <td>884345</td>\n",
       "      <td>34736</td>\n",
       "      <td>508</td>\n",
       "      <td>4669</td>\n",
       "      <td>https://i.ytimg.com/vi/AjhvRX57XkE/default.jpg</td>\n",
       "      <td>False</td>\n",
       "      <td>False</td>\n",
       "      <td>It is happening! Today’s video is a bit of an ...</td>\n",
       "      <td>Howto &amp; Style</td>\n",
       "    </tr>\n",
       "    <tr>\n",
       "      <th>27803</th>\n",
       "      <td>mviuNd0l680</td>\n",
       "      <td>Phish Dinner And A Rematch Madison Square Gard...</td>\n",
       "      <td>2021-01-01T06:50:44Z</td>\n",
       "      <td>UCDEPOd0RCvw8iSTqFpSBZLA</td>\n",
       "      <td>Phish</td>\n",
       "      <td>10</td>\n",
       "      <td>2021-01-02T00:00:00Z</td>\n",
       "      <td>Phish|LivePhish|Trey Anastasio|Mike Gordon|Jon...</td>\n",
       "      <td>294736</td>\n",
       "      <td>2433</td>\n",
       "      <td>195</td>\n",
       "      <td>194</td>\n",
       "      <td>https://i.ytimg.com/vi/mviuNd0l680/default.jpg</td>\n",
       "      <td>False</td>\n",
       "      <td>False</td>\n",
       "      <td>Exactly 25 years after the audience tied the b...</td>\n",
       "      <td>Music</td>\n",
       "    </tr>\n",
       "    <tr>\n",
       "      <th>27804</th>\n",
       "      <td>OK_ChvMo1BQ</td>\n",
       "      <td>Hello 2021 Americas | YouTube NYE Celebration</td>\n",
       "      <td>2021-01-01T03:29:11Z</td>\n",
       "      <td>UCqVDpXKLmKeBU_yyt_QkItQ</td>\n",
       "      <td>YouTube Originals</td>\n",
       "      <td>24</td>\n",
       "      <td>2021-01-02T00:00:00Z</td>\n",
       "      <td>Hello 2021 Americas|Hello 2021|Hello 2021 YouT...</td>\n",
       "      <td>559669</td>\n",
       "      <td>23671</td>\n",
       "      <td>2644</td>\n",
       "      <td>3469</td>\n",
       "      <td>https://i.ytimg.com/vi/OK_ChvMo1BQ/default.jpg</td>\n",
       "      <td>False</td>\n",
       "      <td>False</td>\n",
       "      <td>Celebrate the most anticipated New Year in mod...</td>\n",
       "      <td>Entertainment</td>\n",
       "    </tr>\n",
       "    <tr>\n",
       "      <th>27805</th>\n",
       "      <td>9XQ6EZrQYng</td>\n",
       "      <td>Bud Light Seltzer Sessions Presents: New Years...</td>\n",
       "      <td>2021-01-01T07:09:24Z</td>\n",
       "      <td>UC1O6nGbccGhl2akEVaSpKsA</td>\n",
       "      <td>Bud Light</td>\n",
       "      <td>10</td>\n",
       "      <td>2021-01-02T00:00:00Z</td>\n",
       "      <td>[None]</td>\n",
       "      <td>279147</td>\n",
       "      <td>7312</td>\n",
       "      <td>382</td>\n",
       "      <td>718</td>\n",
       "      <td>https://i.ytimg.com/vi/9XQ6EZrQYng/default.jpg</td>\n",
       "      <td>False</td>\n",
       "      <td>False</td>\n",
       "      <td>Bud Light Seltzer Sessions presents New Year's...</td>\n",
       "      <td>Music</td>\n",
       "    </tr>\n",
       "    <tr>\n",
       "      <th>27813</th>\n",
       "      <td>wxuQfkyHcUs</td>\n",
       "      <td>Celebrate New Year's Eve with Fantasy in the S...</td>\n",
       "      <td>2021-01-01T04:45:04Z</td>\n",
       "      <td>UC1xwwLwm6WSMbUn_Tp597hQ</td>\n",
       "      <td>Disney Parks</td>\n",
       "      <td>19</td>\n",
       "      <td>2021-01-02T00:00:00Z</td>\n",
       "      <td>Disney Fireworks|Disney World Fireworks|Disney...</td>\n",
       "      <td>260438</td>\n",
       "      <td>2782</td>\n",
       "      <td>173</td>\n",
       "      <td>229</td>\n",
       "      <td>https://i.ytimg.com/vi/wxuQfkyHcUs/default.jpg</td>\n",
       "      <td>False</td>\n",
       "      <td>False</td>\n",
       "      <td>Countdown again with us as we revisit the spec...</td>\n",
       "      <td>Travel &amp; Events</td>\n",
       "    </tr>\n",
       "    <tr>\n",
       "      <th>27814</th>\n",
       "      <td>9X6hH-Z1Tyw</td>\n",
       "      <td>David Guetta | United at Home - Paris Edition ...</td>\n",
       "      <td>2021-01-01T00:27:24Z</td>\n",
       "      <td>UC1l7wYrva1qCH-wgqcHaaRg</td>\n",
       "      <td>David Guetta</td>\n",
       "      <td>10</td>\n",
       "      <td>2021-01-02T00:00:00Z</td>\n",
       "      <td>david guetta|Paris|new years eve|david guetta ...</td>\n",
       "      <td>1816230</td>\n",
       "      <td>78324</td>\n",
       "      <td>1210</td>\n",
       "      <td>2538</td>\n",
       "      <td>https://i.ytimg.com/vi/9X6hH-Z1Tyw/default.jpg</td>\n",
       "      <td>False</td>\n",
       "      <td>False</td>\n",
       "      <td>DONATE NOW on https://davidguetta.com/donateIn...</td>\n",
       "      <td>Music</td>\n",
       "    </tr>\n",
       "  </tbody>\n",
       "</table>\n",
       "</div>"
      ],
      "text/plain": [
       "          video_id                                              title  \\\n",
       "27796  PKtnafFtfEo           Youtube Rewind 2020, Thank God It's Over   \n",
       "27797  KIK3azN4w34                             Justin Bieber - Anyone   \n",
       "27798  tXZ0Qq_Nbc0  Jennifer Lopez | New Year's Rockin' Eve Perfor...   \n",
       "27799  MpJIg_3DnLk  London's 2021 fireworks 🎆 Happy New Year Live!...   \n",
       "27802  AjhvRX57XkE  Welcome to BREATH - A 30 Day Yoga Journey  |  ...   \n",
       "27803  mviuNd0l680  Phish Dinner And A Rematch Madison Square Gard...   \n",
       "27804  OK_ChvMo1BQ      Hello 2021 Americas | YouTube NYE Celebration   \n",
       "27805  9XQ6EZrQYng  Bud Light Seltzer Sessions Presents: New Years...   \n",
       "27813  wxuQfkyHcUs  Celebrate New Year's Eve with Fantasy in the S...   \n",
       "27814  9X6hH-Z1Tyw  David Guetta | United at Home - Paris Edition ...   \n",
       "\n",
       "                publishedAt                 channelId       channelTitle  \\\n",
       "27796  2021-01-01T21:00:03Z  UCX6OQ3DkcsbYNE6H8uQQuVA            MrBeast   \n",
       "27797  2021-01-01T05:00:08Z  UCHkj014U2CQ2Nv0UZeYpE_A   JustinBieberVEVO   \n",
       "27798  2021-01-01T09:00:37Z  UCr8RjWUQ_9KYcIPmWiqBroQ     Jennifer Lopez   \n",
       "27799  2021-01-01T00:13:16Z  UCCj956IF62FbT7Gouszaj9w                BBC   \n",
       "27802  2021-01-01T06:00:09Z  UCFKE7WVJfvaHW5q283SxchA  Yoga With Adriene   \n",
       "27803  2021-01-01T06:50:44Z  UCDEPOd0RCvw8iSTqFpSBZLA              Phish   \n",
       "27804  2021-01-01T03:29:11Z  UCqVDpXKLmKeBU_yyt_QkItQ  YouTube Originals   \n",
       "27805  2021-01-01T07:09:24Z  UC1O6nGbccGhl2akEVaSpKsA          Bud Light   \n",
       "27813  2021-01-01T04:45:04Z  UC1xwwLwm6WSMbUn_Tp597hQ       Disney Parks   \n",
       "27814  2021-01-01T00:27:24Z  UC1l7wYrva1qCH-wgqcHaaRg       David Guetta   \n",
       "\n",
       "      categoryId         trending_date  \\\n",
       "27796         24  2021-01-02T00:00:00Z   \n",
       "27797         10  2021-01-02T00:00:00Z   \n",
       "27798         10  2021-01-02T00:00:00Z   \n",
       "27799         24  2021-01-02T00:00:00Z   \n",
       "27802         26  2021-01-02T00:00:00Z   \n",
       "27803         10  2021-01-02T00:00:00Z   \n",
       "27804         24  2021-01-02T00:00:00Z   \n",
       "27805         10  2021-01-02T00:00:00Z   \n",
       "27813         19  2021-01-02T00:00:00Z   \n",
       "27814         10  2021-01-02T00:00:00Z   \n",
       "\n",
       "                                                    tags  view_count    likes  \\\n",
       "27796                                             [None]    17866867  2862697   \n",
       "27797              Justin|Bieber|Anyone|RBMG/Def|Jam|Pop    11013551   782233   \n",
       "27798                                             [None]     2060520    34996   \n",
       "27799  fireworks|NYE|new year countdown 2021|firework...     5478680    85416   \n",
       "27802  breath|breath yoga|30 days of yoga|30 day yoga...      884345    34736   \n",
       "27803  Phish|LivePhish|Trey Anastasio|Mike Gordon|Jon...      294736     2433   \n",
       "27804  Hello 2021 Americas|Hello 2021|Hello 2021 YouT...      559669    23671   \n",
       "27805                                             [None]      279147     7312   \n",
       "27813  Disney Fireworks|Disney World Fireworks|Disney...      260438     2782   \n",
       "27814  david guetta|Paris|new years eve|david guetta ...     1816230    78324   \n",
       "\n",
       "       dislikes  comment_count  \\\n",
       "27796     19927         224811   \n",
       "27797     21750          63315   \n",
       "27798      6049           5788   \n",
       "27799      9242          16876   \n",
       "27802       508           4669   \n",
       "27803       195            194   \n",
       "27804      2644           3469   \n",
       "27805       382            718   \n",
       "27813       173            229   \n",
       "27814      1210           2538   \n",
       "\n",
       "                                       thumbnail_link  comments_disabled  \\\n",
       "27796  https://i.ytimg.com/vi/PKtnafFtfEo/default.jpg              False   \n",
       "27797  https://i.ytimg.com/vi/KIK3azN4w34/default.jpg              False   \n",
       "27798  https://i.ytimg.com/vi/tXZ0Qq_Nbc0/default.jpg              False   \n",
       "27799  https://i.ytimg.com/vi/MpJIg_3DnLk/default.jpg              False   \n",
       "27802  https://i.ytimg.com/vi/AjhvRX57XkE/default.jpg              False   \n",
       "27803  https://i.ytimg.com/vi/mviuNd0l680/default.jpg              False   \n",
       "27804  https://i.ytimg.com/vi/OK_ChvMo1BQ/default.jpg              False   \n",
       "27805  https://i.ytimg.com/vi/9XQ6EZrQYng/default.jpg              False   \n",
       "27813  https://i.ytimg.com/vi/wxuQfkyHcUs/default.jpg              False   \n",
       "27814  https://i.ytimg.com/vi/9X6hH-Z1Tyw/default.jpg              False   \n",
       "\n",
       "       ratings_disabled                                        description  \\\n",
       "27796             False  This is what Youtube Rewind would look like if...   \n",
       "27797             False  Anyone out now: https://JustinBieber.lnk.to/An...   \n",
       "27798             False  Jennifer Lopez | New Year's Rockin' Eve Perfor...   \n",
       "27799             False  Subscribe and 🔔 to OFFICIAL BBC YouTube 👉 http...   \n",
       "27802             False  It is happening! Today’s video is a bit of an ...   \n",
       "27803             False  Exactly 25 years after the audience tied the b...   \n",
       "27804             False  Celebrate the most anticipated New Year in mod...   \n",
       "27805             False  Bud Light Seltzer Sessions presents New Year's...   \n",
       "27813             False  Countdown again with us as we revisit the spec...   \n",
       "27814             False  DONATE NOW on https://davidguetta.com/donateIn...   \n",
       "\n",
       "         category_name  \n",
       "27796    Entertainment  \n",
       "27797            Music  \n",
       "27798            Music  \n",
       "27799    Entertainment  \n",
       "27802    Howto & Style  \n",
       "27803            Music  \n",
       "27804    Entertainment  \n",
       "27805            Music  \n",
       "27813  Travel & Events  \n",
       "27814            Music  "
      ]
     },
     "execution_count": 29,
     "metadata": {},
     "output_type": "execute_result"
    }
   ],
   "source": [
    "cleanCat.head(10)"
   ]
  },
  {
   "cell_type": "markdown",
   "id": "4463c0ef",
   "metadata": {},
   "source": [
    "### Now we need to find the total number of videos per category \n",
    "### By rotating the x axis labels, it is easier to see each category "
   ]
  },
  {
   "cell_type": "code",
   "execution_count": 30,
   "id": "bbeaa56a",
   "metadata": {},
   "outputs": [
    {
     "data": {
      "image/png": "[encoded data removed]",
      "text/plain": [
       "<Figure size 800x500 with 1 Axes>"
      ]
     },
     "metadata": {},
     "output_type": "display_data"
    }
   ],
   "source": [
    "cdf = df[\"category_name\"].value_counts().to_frame().reset_index()\n",
    "cdf.rename(columns={\"index\": \"category_name\", \"category_name\": \"No_of_videos\"}, inplace=True)\n",
    "fig, ax = plt.subplots()\n",
    "_ = sb.barplot(x=\"category_name\", y=\"No_of_videos\", data=cdf, \n",
    "        palette=sb.cubehelix_palette(n_colors=16, reverse=True), ax=ax)\n",
    "_ = ax.set_xticklabels(ax.get_xticklabels(), rotation=90)\n",
    "_ = ax.set(xlabel=\"Category\", ylabel=\"No. of videos\")"
   ]
  },
  {
   "cell_type": "markdown",
   "id": "87a13f9a",
   "metadata": {},
   "source": [
    "### As can be seen from the bar plot, it can be seen that both gaming and entertainment are the two top categories on Youtube that are trending in 2021."
   ]
  },
  {
   "cell_type": "code",
   "execution_count": 31,
   "id": "2a2a1f58",
   "metadata": {},
   "outputs": [],
   "source": [
    "df[\"publishing_day\"] = df[\"publishedAt\"].apply(\n",
    "    lambda x: datetime.datetime.strptime(x[:10], \"%Y-%m-%d\").date().strftime('%a'))\n",
    "df[\"publishing_hour\"] = df[\"publishedAt\"].apply(lambda x: x[11:13])\n",
    "df.drop(labels='publishedAt', axis=1, inplace=True)"
   ]
  },
  {
   "cell_type": "code",
   "execution_count": 32,
   "id": "2436707d",
   "metadata": {},
   "outputs": [
    {
     "data": {
      "image/png": "[encoded data removed]",
      "text/plain": [
       "<Figure size 800x500 with 1 Axes>"
      ]
     },
     "metadata": {},
     "output_type": "display_data"
    }
   ],
   "source": [
    "cdf = df[\"publishing_day\"].value_counts()\\\n",
    "        .to_frame().reset_index().rename(columns={\"index\": \"publishing_day\", \"publishing_day\": \"No_of_videos\"})\n",
    "fig, ax = plt.subplots()\n",
    "_ = sb.barplot(x=\"publishing_day\", y=\"No_of_videos\", data=cdf, \n",
    "                palette=sb.color_palette(['#003f5c', '#374c80', '#7a5195', \n",
    "                                           '#bc5090', '#ef5675', '#ff764a', '#ffa600'], n_colors=7), ax=ax)\n",
    "_ = ax.set(xlabel=\"Publishing Day\", ylabel=\"No. of videos\")"
   ]
  },
  {
   "cell_type": "code",
   "execution_count": 33,
   "id": "2acca940",
   "metadata": {},
   "outputs": [
    {
     "data": {
      "image/png": "[encoded data removed]",
      "text/plain": [
       "<Figure size 800x500 with 1 Axes>"
      ]
     },
     "metadata": {},
     "output_type": "display_data"
    }
   ],
   "source": [
    "cdf = df[\"publishing_hour\"].value_counts().to_frame().reset_index()\\\n",
    "        .rename(columns={\"index\": \"publishing_hour\", \"publishing_hour\": \"No_of_videos\"})\n",
    "fig, ax = plt.subplots()\n",
    "_ = sb.barplot(x=\"publishing_hour\", y=\"No_of_videos\", data=cdf, \n",
    "                palette=sb.cubehelix_palette(n_colors=25), ax=ax)\n",
    "_ = ax.set(xlabel=\"Publishing Hour\", ylabel=\"No. of videos\")"
   ]
  },
  {
   "cell_type": "markdown",
   "id": "903b8bd1",
   "metadata": {},
   "source": [
    "## What insights from data analysis"
   ]
  },
  {
   "cell_type": "markdown",
   "id": "d23a9a78",
   "metadata": {},
   "source": [
    "From the histogram we plotted for number of trending videos against categories. We see distinct differences between different categories, by partitioning them to different categories as the first layer of a classification tree. We can then use different categorical variables for different video categories at subsequent classification tree layers which may be more effective in differentiating trending vs non trending videos for our dataset."
   ]
  },
  {
   "cell_type": "markdown",
   "id": "2a4ebcb7",
   "metadata": {},
   "source": [
    "## Partitioning trending dataset to different categories"
   ]
  },
  {
   "cell_type": "code",
   "execution_count": 48,
   "id": "103b6411",
   "metadata": {},
   "outputs": [],
   "source": [
    "cdf = df[\"category_name\"].value_counts().to_frame().reset_index()\n",
    "\n",
    "filmAndAnimation_dataset_trending = cdf[cdf==\"Film & Animation\"]  \n",
    "autosAndVehicles_dataset_trending = cdf[cdf==\"Autos & Vehicles\"]\n",
    "music_dataset_trending = cdf[cdf==\"Music\"]\n",
    "petsAndAnimals_dataset_trending = cdf[cdf==\"Pets & Animals\"]\n",
    "sports_dataset_trending = cdf[cdf==\"Sports\"]\n",
    "travelAndEvents_dataset_trending = cdf[cdf==\"Travel & Events\"]\n",
    "gaming_dataset_trending = cdf[cdf==\"Gaming\"]\n",
    "peopleAndBlogs_dataset_trending = cdf[cdf==\"People & Blogs\"]\n",
    "comedy_dataset_trending = cdf[cdf==\"Comedy\"]\n",
    "entertainment_dataset_trending = cdf[cdf==\"Entertainment\"]\n",
    "newsAndPolitics_dataset_trending = cdf[cdf==\"News & Politics\"]\n",
    "howtoAndStyle_dataset_trending = cdf[cdf==\"Howto & Style\"]\n",
    "education_dataset_trending = cdf[cdf==\"Education\"]\n",
    "scienceAndTechnology_dataset_trending = cdf[cdf==\"Science & Technology\"]\n",
    "nonprofitsAndActivism_dataset_trending = cdf[cdf==\"Nonprofits & Activism\"]"
   ]
  },
  {
   "cell_type": "code",
   "execution_count": null,
   "id": "3d8be328",
   "metadata": {},
   "outputs": [],
   "source": []
  },
  {
   "cell_type": "markdown",
   "id": "53c5af3e",
   "metadata": {},
   "source": [
    "# Machine Learning to answer questions\n",
    "## Predicting View_Count using 3 different  different regression techniques\n",
    "- Linear Regression\n",
    "- Random Forest Regression\n",
    "- XGBoost Regression( Open-Source Regression Technique)"
   ]
  },
  {
   "cell_type": "code",
   "execution_count": null,
   "id": "a24b956d",
   "metadata": {},
   "outputs": [],
   "source": [
    "# Import essential models and functions from sklearn\n",
    "from sklearn.model_selection import train_test_split\n",
    "\n",
    "# Extract Response and Predictors\n",
    "y = pd.DataFrame(df['view_count'])\n",
    "X = pd.DataFrame(df['likes'])\n",
    "\n",
    "# Split the Dataset into Train and Test\n",
    "X_train, X_test, y_train, y_test = train_test_split(X, y, test_size = 0.3)\n",
    "\n",
    "# Import RandomForestClassifier model from Scikit-Learn\n",
    "from sklearn.ensemble import RandomForestClassifier\n",
    "\n",
    "# Create the Random Forest object\n",
    "rforest = RandomForestClassifier(n_estimators = 80000,  # CHANGE AND EXPERIMENT\n",
    "                                 max_depth = 4)       # CHANGE AND EXPERIMENT\n",
    "\n",
    "# Fit Random Forest on Train Data\n",
    "rforest.fit(X_train.likes.ravel(), y_train.view_count.ravel())"
   ]
  },
  {
   "cell_type": "code",
   "execution_count": null,
   "id": "4f464e38",
   "metadata": {},
   "outputs": [],
   "source": [
    "# Import confusion_matrix from Scikit-Learn\n",
    "from sklearn.metrics import confusion_matrix\n",
    "\n",
    "# Predict the Response corresponding to Predictors\n",
    "y_train_pred = rforest.predict(X_train)\n",
    "\n",
    "# Print the Classification Accuracy\n",
    "print(\"Train Data\")\n",
    "print(\"Accuracy  :\\t\", rforest.score(X_train, y_train))\n",
    "print()\n",
    "\n",
    "# Print the Accuracy Measures from the Confusion Matrix\n",
    "cmTrain = confusion_matrix(y_train, y_train_pred)\n",
    "tpTrain = cmTrain[1][1] # True Positives : Good (1) predicted Good (1)\n",
    "fpTrain = cmTrain[0][1] # False Positives : Bad (0) predicted Good (1)\n",
    "tnTrain = cmTrain[0][0] # True Negatives : Bad (0) predicted Bad (0)\n",
    "fnTrain = cmTrain[1][0] # False Negatives : Good (1) predicted Bad (0)\n",
    "\n",
    "print(\"TPR Train :\\t\", (tpTrain/(tpTrain + fnTrain)))\n",
    "print(\"TNR Train :\\t\", (tnTrain/(tnTrain + fpTrain)))\n",
    "print()\n",
    "\n",
    "print(\"FPR Train :\\t\", (fpTrain/(tnTrain + fpTrain)))\n",
    "print(\"FNR Train :\\t\", (fnTrain/(tpTrain + fnTrain)))\n",
    "\n",
    "# Plot the two-way Confusion Matrix\n",
    "sb.heatmap(confusion_matrix(y_train, y_train_pred), \n",
    "           annot = True, fmt=\".0f\", annot_kws={\"size\": 18})"
   ]
  },
  {
   "cell_type": "code",
   "execution_count": null,
   "id": "bab401aa",
   "metadata": {},
   "outputs": [],
   "source": []
  },
  {
   "cell_type": "markdown",
   "id": "53b2463d",
   "metadata": {},
   "source": [
    "# Data analysis for what type of videos it more likely to be trendy"
   ]
  },
  {
   "cell_type": "code",
   "execution_count": null,
   "id": "0621528f",
   "metadata": {},
   "outputs": [],
   "source": [
    "title_words = list(df[\"title\"].apply(lambda x: x.split()))\n",
    "title_words = [x for y in title_words for x in y]\n",
    "Counter(title_words).most_common(25)"
   ]
  },
  {
   "cell_type": "markdown",
   "id": "978cbc47",
   "metadata": {},
   "source": [
    "### Majority of people watch?"
   ]
  },
  {
   "cell_type": "code",
   "execution_count": null,
   "id": "0a775696",
   "metadata": {},
   "outputs": [],
   "source": [
    "titles_1 = df.loc[df['view_count'] > 10000].sort_values('view_count', ascending=False)['title'][1:].tolist()\n",
    "words_1 = [word for titles_1 in titles_1 for word in titles_1.split()]\n",
    "\n",
    "\n",
    "from wordcloud import WordCloud\n",
    "words_1_joined=(\" \").join(words_1)\n",
    "wordcloud = WordCloud(width = 1000, height = 500).generate(words_1_joined)\n",
    "plt.figure(figsize=(15,8))\n",
    "plt.imshow(wordcloud)\n",
    "plt.axis(\"off\")\n",
    "plt.show()\n",
    "plt.close()"
   ]
  },
  {
   "cell_type": "markdown",
   "id": "0b0f87d3",
   "metadata": {},
   "source": [
    "# What people don’t watch \n",
    "\n",
    "View count vs tags"
   ]
  },
  {
   "cell_type": "code",
   "execution_count": null,
   "id": "97a653ad",
   "metadata": {},
   "outputs": [],
   "source": [
    "titles_1 = df.loc[df['view_count'] < 5000 ].sort_values('view_count', ascending=False)['title'][1:].tolist()\n",
    "words_1 = [word for titles_1 in titles_1 for word in titles_1.split()]\n",
    "\n",
    "\n",
    "from wordcloud import WordCloud\n",
    "words_1_joined=(\" \").join(words_1)\n",
    "wordcloud = WordCloud(width = 1000, height = 500).generate(words_1_joined)\n",
    "plt.figure(figsize=(15,8))\n",
    "plt.imshow(wordcloud)\n",
    "plt.axis(\"off\")\n",
    "plt.show()\n",
    "plt.close()"
   ]
  },
  {
   "cell_type": "code",
   "execution_count": null,
   "id": "84661740",
   "metadata": {},
   "outputs": [],
   "source": []
  }
 ],
 "metadata": {
  "kernelspec": {
   "display_name": "Python 3 (ipykernel)",
   "language": "python",
   "name": "python3"
  },
  "language_info": {
   "codemirror_mode": {
    "name": "ipython",
    "version": 3
   },
   "file_extension": ".py",
   "mimetype": "text/x-python",
   "name": "python",
   "nbconvert_exporter": "python",
   "pygments_lexer": "ipython3",
   "version": "3.9.7"
  }
 },
 "nbformat": 4,
 "nbformat_minor": 5
}
