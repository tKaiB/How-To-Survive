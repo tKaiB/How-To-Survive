{
 "cells": [
  {
   "cell_type": "code",
   "execution_count": 1,
   "id": "68ccd517",
   "metadata": {
    "scrolled": true
   },
   "outputs": [],
   "source": [
    "#Load Packages\n",
    "import numpy as np # linear algebra\n",
    "import matplotlib.pyplot as plt\n",
    "import pandas as pd\n",
    "import seaborn as sb\n",
    "\n",
    "# Import train_test_split function\n",
    "from sklearn.model_selection import train_test_split\n",
    "#Importing confusion matrix\n",
    "from sklearn.metrics import confusion_matrix, f1_score, accuracy_score,classification_report\n",
    "#Import Random Forest Model\n",
    "from sklearn.ensemble import RandomForestClassifier"
   ]
  },
  {
   "cell_type": "code",
   "execution_count": 2,
   "id": "ef43ac0a",
   "metadata": {},
   "outputs": [],
   "source": [
    "df = pd.read_csv(\"same_publishing_timing.csv\")"
   ]
  },
  {
   "cell_type": "markdown",
   "id": "79db78fe",
   "metadata": {},
   "source": [
    "# Random Forest\n",
    "### First MODEL with trending days up to 46 days\n"
   ]
  },
  {
   "cell_type": "markdown",
   "id": "27c07cb7",
   "metadata": {},
   "source": [
    "#### Train test split"
   ]
  },
  {
   "cell_type": "code",
   "execution_count": 3,
   "id": "8ab996d7",
   "metadata": {},
   "outputs": [
    {
     "data": {
      "text/html": [
       "<div>\n",
       "<style scoped>\n",
       "    .dataframe tbody tr th:only-of-type {\n",
       "        vertical-align: middle;\n",
       "    }\n",
       "\n",
       "    .dataframe tbody tr th {\n",
       "        vertical-align: top;\n",
       "    }\n",
       "\n",
       "    .dataframe thead th {\n",
       "        text-align: right;\n",
       "    }\n",
       "</style>\n",
       "<table border=\"1\" class=\"dataframe\">\n",
       "  <thead>\n",
       "    <tr style=\"text-align: right;\">\n",
       "      <th></th>\n",
       "      <th>categoryId</th>\n",
       "      <th>view_count</th>\n",
       "      <th>likes</th>\n",
       "      <th>dislikes</th>\n",
       "      <th>comment_count</th>\n",
       "      <th>Number_of_days_it_trended</th>\n",
       "    </tr>\n",
       "  </thead>\n",
       "  <tbody>\n",
       "    <tr>\n",
       "      <th>count</th>\n",
       "      <td>21513.000000</td>\n",
       "      <td>2.151300e+04</td>\n",
       "      <td>2.151300e+04</td>\n",
       "      <td>21513.000000</td>\n",
       "      <td>2.151300e+04</td>\n",
       "      <td>21513.000000</td>\n",
       "    </tr>\n",
       "    <tr>\n",
       "      <th>mean</th>\n",
       "      <td>18.840422</td>\n",
       "      <td>2.889315e+06</td>\n",
       "      <td>1.464757e+05</td>\n",
       "      <td>2549.975875</td>\n",
       "      <td>1.168235e+04</td>\n",
       "      <td>5.516943</td>\n",
       "    </tr>\n",
       "    <tr>\n",
       "      <th>std</th>\n",
       "      <td>6.709795</td>\n",
       "      <td>7.098768e+06</td>\n",
       "      <td>4.092569e+05</td>\n",
       "      <td>12139.271975</td>\n",
       "      <td>8.967709e+04</td>\n",
       "      <td>1.991966</td>\n",
       "    </tr>\n",
       "    <tr>\n",
       "      <th>min</th>\n",
       "      <td>1.000000</td>\n",
       "      <td>4.347200e+04</td>\n",
       "      <td>0.000000e+00</td>\n",
       "      <td>0.000000</td>\n",
       "      <td>0.000000e+00</td>\n",
       "      <td>1.000000</td>\n",
       "    </tr>\n",
       "    <tr>\n",
       "      <th>25%</th>\n",
       "      <td>17.000000</td>\n",
       "      <td>5.971490e+05</td>\n",
       "      <td>2.135800e+04</td>\n",
       "      <td>150.000000</td>\n",
       "      <td>1.538000e+03</td>\n",
       "      <td>4.000000</td>\n",
       "    </tr>\n",
       "    <tr>\n",
       "      <th>50%</th>\n",
       "      <td>20.000000</td>\n",
       "      <td>1.218600e+06</td>\n",
       "      <td>5.216500e+04</td>\n",
       "      <td>605.000000</td>\n",
       "      <td>3.432000e+03</td>\n",
       "      <td>5.000000</td>\n",
       "    </tr>\n",
       "    <tr>\n",
       "      <th>75%</th>\n",
       "      <td>24.000000</td>\n",
       "      <td>2.667572e+06</td>\n",
       "      <td>1.325160e+05</td>\n",
       "      <td>1754.000000</td>\n",
       "      <td>8.052000e+03</td>\n",
       "      <td>6.000000</td>\n",
       "    </tr>\n",
       "    <tr>\n",
       "      <th>max</th>\n",
       "      <td>29.000000</td>\n",
       "      <td>2.644074e+08</td>\n",
       "      <td>1.602153e+07</td>\n",
       "      <td>879354.000000</td>\n",
       "      <td>6.738537e+06</td>\n",
       "      <td>36.000000</td>\n",
       "    </tr>\n",
       "  </tbody>\n",
       "</table>\n",
       "</div>"
      ],
      "text/plain": [
       "         categoryId    view_count         likes       dislikes  comment_count  \\\n",
       "count  21513.000000  2.151300e+04  2.151300e+04   21513.000000   2.151300e+04   \n",
       "mean      18.840422  2.889315e+06  1.464757e+05    2549.975875   1.168235e+04   \n",
       "std        6.709795  7.098768e+06  4.092569e+05   12139.271975   8.967709e+04   \n",
       "min        1.000000  4.347200e+04  0.000000e+00       0.000000   0.000000e+00   \n",
       "25%       17.000000  5.971490e+05  2.135800e+04     150.000000   1.538000e+03   \n",
       "50%       20.000000  1.218600e+06  5.216500e+04     605.000000   3.432000e+03   \n",
       "75%       24.000000  2.667572e+06  1.325160e+05    1754.000000   8.052000e+03   \n",
       "max       29.000000  2.644074e+08  1.602153e+07  879354.000000   6.738537e+06   \n",
       "\n",
       "       Number_of_days_it_trended  \n",
       "count               21513.000000  \n",
       "mean                    5.516943  \n",
       "std                     1.991966  \n",
       "min                     1.000000  \n",
       "25%                     4.000000  \n",
       "50%                     5.000000  \n",
       "75%                     6.000000  \n",
       "max                    36.000000  "
      ]
     },
     "execution_count": 3,
     "metadata": {},
     "output_type": "execute_result"
    }
   ],
   "source": [
    "df.describe()"
   ]
  },
  {
   "cell_type": "code",
   "execution_count": 4,
   "id": "9e32899f",
   "metadata": {
    "scrolled": false
   },
   "outputs": [
    {
     "name": "stdout",
     "output_type": "stream",
     "text": [
      "Accuracy of Random Forest Classifier:  23.2 \b% (rounded to 1 decimal place)\n"
     ]
    },
    {
     "name": "stderr",
     "output_type": "stream",
     "text": [
      "C:\\Users\\jefft\\juypter\\lib\\site-packages\\sklearn\\metrics\\_classification.py:1248: UndefinedMetricWarning: Precision and F-score are ill-defined and being set to 0.0 in labels with no predicted samples. Use `zero_division` parameter to control this behavior.\n",
      "  _warn_prf(average, modifier, msg_start, len(result))\n",
      "C:\\Users\\jefft\\juypter\\lib\\site-packages\\sklearn\\metrics\\_classification.py:1248: UndefinedMetricWarning: Recall and F-score are ill-defined and being set to 0.0 in labels with no true samples. Use `zero_division` parameter to control this behavior.\n",
      "  _warn_prf(average, modifier, msg_start, len(result))\n",
      "C:\\Users\\jefft\\juypter\\lib\\site-packages\\sklearn\\metrics\\_classification.py:1248: UndefinedMetricWarning: Precision and F-score are ill-defined and being set to 0.0 in labels with no predicted samples. Use `zero_division` parameter to control this behavior.\n",
      "  _warn_prf(average, modifier, msg_start, len(result))\n",
      "C:\\Users\\jefft\\juypter\\lib\\site-packages\\sklearn\\metrics\\_classification.py:1248: UndefinedMetricWarning: Recall and F-score are ill-defined and being set to 0.0 in labels with no true samples. Use `zero_division` parameter to control this behavior.\n",
      "  _warn_prf(average, modifier, msg_start, len(result))\n",
      "C:\\Users\\jefft\\juypter\\lib\\site-packages\\sklearn\\metrics\\_classification.py:1248: UndefinedMetricWarning: Precision and F-score are ill-defined and being set to 0.0 in labels with no predicted samples. Use `zero_division` parameter to control this behavior.\n",
      "  _warn_prf(average, modifier, msg_start, len(result))\n",
      "C:\\Users\\jefft\\juypter\\lib\\site-packages\\sklearn\\metrics\\_classification.py:1248: UndefinedMetricWarning: Recall and F-score are ill-defined and being set to 0.0 in labels with no true samples. Use `zero_division` parameter to control this behavior.\n",
      "  _warn_prf(average, modifier, msg_start, len(result))\n"
     ]
    },
    {
     "name": "stdout",
     "output_type": "stream",
     "text": [
      "              precision    recall  f1-score   support\n",
      "\n",
      "           1       0.10      0.08      0.09        93\n",
      "           2       0.04      0.02      0.03       121\n",
      "           3       0.10      0.06      0.07       359\n",
      "           4       0.24      0.25      0.24       920\n",
      "           5       0.29      0.36      0.32      1376\n",
      "           6       0.25      0.27      0.26      1212\n",
      "           7       0.20      0.18      0.19       693\n",
      "           8       0.13      0.09      0.11       326\n",
      "           9       0.07      0.03      0.05       121\n",
      "          10       0.04      0.01      0.02        72\n",
      "          11       0.00      0.00      0.00        24\n",
      "          12       0.00      0.00      0.00        33\n",
      "          13       0.00      0.00      0.00         7\n",
      "          14       0.00      0.00      0.00        13\n",
      "          15       0.00      0.00      0.00         1\n",
      "          16       0.00      0.00      0.00         3\n",
      "          17       0.00      0.00      0.00         2\n",
      "          23       0.00      0.00      0.00         0\n",
      "          24       0.00      0.00      0.00         1\n",
      "          27       0.00      0.00      0.00         1\n",
      "          31       0.00      0.00      0.00         1\n",
      "\n",
      "    accuracy                           0.23      5379\n",
      "   macro avg       0.07      0.06      0.07      5379\n",
      "weighted avg       0.21      0.23      0.22      5379\n",
      "\n"
     ]
    },
    {
     "data": {
      "image/png": "[encoded data removed]",
      "text/plain": [
       "<Figure size 432x288 with 2 Axes>"
      ]
     },
     "metadata": {
      "needs_background": "light"
     },
     "output_type": "display_data"
    }
   ],
   "source": [
    "X=df[['view_count', 'categoryId', 'comment_count']]  # Features\n",
    "y=df['Number_of_days_it_trended']  # Labels\n",
    "\n",
    "# Split dataset into training set and test set\n",
    "X_train, X_test, y_train, y_test = train_test_split(X, y, test_size=0.25) # 75% training and 25% test\n",
    "X_train.shape, X_test.shape\n",
    "\n",
    "#Create a Gaussian Classifier\n",
    "clf=RandomForestClassifier(n_estimators=100)\n",
    "\n",
    "#Train the model using the training sets y_pred=clf.predict(X_test)\n",
    "clf.fit(X_train,y_train)\n",
    "\n",
    "# Create our predictions\n",
    "prediction = clf.predict(X_test)\n",
    "\n",
    "# Display accuracy score\n",
    "print(\"Accuracy of Random Forest Classifier: \",round(accuracy_score(y_test, prediction)*100,1), '\\b% (rounded to 1 decimal place)')\n",
    "\n",
    "sb.heatmap(confusion_matrix(y_test, prediction), annot = True, fmt=\".0f\", annot_kws={\"size\": 10})\n",
    "print(classification_report(y_test, prediction))"
   ]
  },
  {
   "cell_type": "code",
   "execution_count": null,
   "id": "62d29ffb",
   "metadata": {},
   "outputs": [],
   "source": []
  },
  {
   "cell_type": "markdown",
   "id": "c521c937",
   "metadata": {},
   "source": [
    "## Second Model up to 10 days"
   ]
  },
  {
   "cell_type": "markdown",
   "id": "8d62be03",
   "metadata": {},
   "source": [
    "### change the number of days it trended to < 10 days"
   ]
  },
  {
   "cell_type": "code",
   "execution_count": 5,
   "id": "278d1bb3",
   "metadata": {},
   "outputs": [],
   "source": [
    "df2 = df[df['Number_of_days_it_trended'] < 10]"
   ]
  },
  {
   "cell_type": "code",
   "execution_count": 6,
   "id": "69609ff0",
   "metadata": {},
   "outputs": [
    {
     "data": {
      "text/html": [
       "<div>\n",
       "<style scoped>\n",
       "    .dataframe tbody tr th:only-of-type {\n",
       "        vertical-align: middle;\n",
       "    }\n",
       "\n",
       "    .dataframe tbody tr th {\n",
       "        vertical-align: top;\n",
       "    }\n",
       "\n",
       "    .dataframe thead th {\n",
       "        text-align: right;\n",
       "    }\n",
       "</style>\n",
       "<table border=\"1\" class=\"dataframe\">\n",
       "  <thead>\n",
       "    <tr style=\"text-align: right;\">\n",
       "      <th></th>\n",
       "      <th>categoryId</th>\n",
       "      <th>view_count</th>\n",
       "      <th>likes</th>\n",
       "      <th>dislikes</th>\n",
       "      <th>comment_count</th>\n",
       "      <th>Number_of_days_it_trended</th>\n",
       "    </tr>\n",
       "  </thead>\n",
       "  <tbody>\n",
       "    <tr>\n",
       "      <th>count</th>\n",
       "      <td>20843.000000</td>\n",
       "      <td>2.084300e+04</td>\n",
       "      <td>2.084300e+04</td>\n",
       "      <td>20843.000000</td>\n",
       "      <td>2.084300e+04</td>\n",
       "      <td>20843.000000</td>\n",
       "    </tr>\n",
       "    <tr>\n",
       "      <th>mean</th>\n",
       "      <td>18.849398</td>\n",
       "      <td>2.757016e+06</td>\n",
       "      <td>1.414850e+05</td>\n",
       "      <td>2420.320587</td>\n",
       "      <td>1.128068e+04</td>\n",
       "      <td>5.317613</td>\n",
       "    </tr>\n",
       "    <tr>\n",
       "      <th>std</th>\n",
       "      <td>6.705851</td>\n",
       "      <td>6.638645e+06</td>\n",
       "      <td>3.991006e+05</td>\n",
       "      <td>11892.971355</td>\n",
       "      <td>8.842792e+04</td>\n",
       "      <td>1.584510</td>\n",
       "    </tr>\n",
       "    <tr>\n",
       "      <th>min</th>\n",
       "      <td>1.000000</td>\n",
       "      <td>4.347200e+04</td>\n",
       "      <td>0.000000e+00</td>\n",
       "      <td>0.000000</td>\n",
       "      <td>0.000000e+00</td>\n",
       "      <td>1.000000</td>\n",
       "    </tr>\n",
       "    <tr>\n",
       "      <th>25%</th>\n",
       "      <td>17.000000</td>\n",
       "      <td>5.884650e+05</td>\n",
       "      <td>2.093800e+04</td>\n",
       "      <td>141.000000</td>\n",
       "      <td>1.507000e+03</td>\n",
       "      <td>4.000000</td>\n",
       "    </tr>\n",
       "    <tr>\n",
       "      <th>50%</th>\n",
       "      <td>20.000000</td>\n",
       "      <td>1.194628e+06</td>\n",
       "      <td>5.117300e+04</td>\n",
       "      <td>582.000000</td>\n",
       "      <td>3.363000e+03</td>\n",
       "      <td>5.000000</td>\n",
       "    </tr>\n",
       "    <tr>\n",
       "      <th>75%</th>\n",
       "      <td>24.000000</td>\n",
       "      <td>2.589374e+06</td>\n",
       "      <td>1.290525e+05</td>\n",
       "      <td>1693.500000</td>\n",
       "      <td>7.823500e+03</td>\n",
       "      <td>6.000000</td>\n",
       "    </tr>\n",
       "    <tr>\n",
       "      <th>max</th>\n",
       "      <td>29.000000</td>\n",
       "      <td>2.644074e+08</td>\n",
       "      <td>1.602153e+07</td>\n",
       "      <td>879354.000000</td>\n",
       "      <td>6.738537e+06</td>\n",
       "      <td>9.000000</td>\n",
       "    </tr>\n",
       "  </tbody>\n",
       "</table>\n",
       "</div>"
      ],
      "text/plain": [
       "         categoryId    view_count         likes       dislikes  comment_count  \\\n",
       "count  20843.000000  2.084300e+04  2.084300e+04   20843.000000   2.084300e+04   \n",
       "mean      18.849398  2.757016e+06  1.414850e+05    2420.320587   1.128068e+04   \n",
       "std        6.705851  6.638645e+06  3.991006e+05   11892.971355   8.842792e+04   \n",
       "min        1.000000  4.347200e+04  0.000000e+00       0.000000   0.000000e+00   \n",
       "25%       17.000000  5.884650e+05  2.093800e+04     141.000000   1.507000e+03   \n",
       "50%       20.000000  1.194628e+06  5.117300e+04     582.000000   3.363000e+03   \n",
       "75%       24.000000  2.589374e+06  1.290525e+05    1693.500000   7.823500e+03   \n",
       "max       29.000000  2.644074e+08  1.602153e+07  879354.000000   6.738537e+06   \n",
       "\n",
       "       Number_of_days_it_trended  \n",
       "count               20843.000000  \n",
       "mean                    5.317613  \n",
       "std                     1.584510  \n",
       "min                     1.000000  \n",
       "25%                     4.000000  \n",
       "50%                     5.000000  \n",
       "75%                     6.000000  \n",
       "max                     9.000000  "
      ]
     },
     "execution_count": 6,
     "metadata": {},
     "output_type": "execute_result"
    }
   ],
   "source": [
    "df2.describe()"
   ]
  },
  {
   "cell_type": "code",
   "execution_count": 7,
   "id": "a1b6005f",
   "metadata": {
    "scrolled": true
   },
   "outputs": [
    {
     "name": "stdout",
     "output_type": "stream",
     "text": [
      "Accuracy of Random Forest Classifier:  23.8 \b% (rounded to 1 decimal place)\n",
      "              precision    recall  f1-score   support\n",
      "\n",
      "           1       0.06      0.03      0.04        91\n",
      "           2       0.03      0.02      0.02       124\n",
      "           3       0.10      0.06      0.07       379\n",
      "           4       0.25      0.28      0.26       911\n",
      "           5       0.30      0.35      0.32      1408\n",
      "           6       0.24      0.28      0.26      1180\n",
      "           7       0.18      0.16      0.17       682\n",
      "           8       0.16      0.10      0.13       317\n",
      "           9       0.05      0.03      0.03       119\n",
      "\n",
      "    accuracy                           0.24      5211\n",
      "   macro avg       0.15      0.14      0.14      5211\n",
      "weighted avg       0.22      0.24      0.23      5211\n",
      "\n"
     ]
    },
    {
     "data": {
      "image/png": "[encoded data removed]",
      "text/plain": [
       "<Figure size 432x288 with 2 Axes>"
      ]
     },
     "metadata": {
      "needs_background": "light"
     },
     "output_type": "display_data"
    }
   ],
   "source": [
    "X=df2[['view_count', 'categoryId', 'comment_count']]  # Features\n",
    "y=df2['Number_of_days_it_trended']  # Labels\n",
    "\n",
    "# Split dataset into training set and test set\n",
    "X_train, X_test, y_train, y_test = train_test_split(X, y, test_size=0.25) # 75% training and 25% test\n",
    "\n",
    "#Create a Gaussian Classifier\n",
    "clf=RandomForestClassifier(n_estimators=100)\n",
    "\n",
    "#Train the model using the training sets y_pred=clf.predict(X_test)\n",
    "clf.fit(X_train,y_train)\n",
    "\n",
    "# Create our predictions\n",
    "prediction = clf.predict(X_test)\n",
    "\n",
    "# Display accuracy score\n",
    "print(\"Accuracy of Random Forest Classifier: \",round(accuracy_score(y_test, prediction)*100,1), '\\b% (rounded to 1 decimal place)')\n",
    "sb.heatmap(confusion_matrix(y_test, prediction), annot = True, fmt=\".0f\", annot_kws={\"size\": 18})\n",
    "print(classification_report(y_test, prediction))"
   ]
  },
  {
   "cell_type": "markdown",
   "id": "bb425629",
   "metadata": {},
   "source": [
    "## Third Model up to 5 days"
   ]
  },
  {
   "cell_type": "code",
   "execution_count": 8,
   "id": "e4994f30",
   "metadata": {},
   "outputs": [],
   "source": [
    "df3 = df[df['Number_of_days_it_trended'] < 5]\n"
   ]
  },
  {
   "cell_type": "code",
   "execution_count": 9,
   "id": "bd902fd2",
   "metadata": {},
   "outputs": [
    {
     "data": {
      "text/html": [
       "<div>\n",
       "<style scoped>\n",
       "    .dataframe tbody tr th:only-of-type {\n",
       "        vertical-align: middle;\n",
       "    }\n",
       "\n",
       "    .dataframe tbody tr th {\n",
       "        vertical-align: top;\n",
       "    }\n",
       "\n",
       "    .dataframe thead th {\n",
       "        text-align: right;\n",
       "    }\n",
       "</style>\n",
       "<table border=\"1\" class=\"dataframe\">\n",
       "  <thead>\n",
       "    <tr style=\"text-align: right;\">\n",
       "      <th></th>\n",
       "      <th>categoryId</th>\n",
       "      <th>view_count</th>\n",
       "      <th>likes</th>\n",
       "      <th>dislikes</th>\n",
       "      <th>comment_count</th>\n",
       "      <th>Number_of_days_it_trended</th>\n",
       "    </tr>\n",
       "  </thead>\n",
       "  <tbody>\n",
       "    <tr>\n",
       "      <th>count</th>\n",
       "      <td>5992.000000</td>\n",
       "      <td>5.992000e+03</td>\n",
       "      <td>5.992000e+03</td>\n",
       "      <td>5992.000000</td>\n",
       "      <td>5.992000e+03</td>\n",
       "      <td>5992.000000</td>\n",
       "    </tr>\n",
       "    <tr>\n",
       "      <th>mean</th>\n",
       "      <td>19.151368</td>\n",
       "      <td>1.611511e+06</td>\n",
       "      <td>8.342379e+04</td>\n",
       "      <td>1290.045895</td>\n",
       "      <td>6.461412e+03</td>\n",
       "      <td>3.425901</td>\n",
       "    </tr>\n",
       "    <tr>\n",
       "      <th>std</th>\n",
       "      <td>6.117659</td>\n",
       "      <td>4.638818e+06</td>\n",
       "      <td>2.750710e+05</td>\n",
       "      <td>4780.933387</td>\n",
       "      <td>8.980886e+04</td>\n",
       "      <td>0.868705</td>\n",
       "    </tr>\n",
       "    <tr>\n",
       "      <th>min</th>\n",
       "      <td>1.000000</td>\n",
       "      <td>4.347200e+04</td>\n",
       "      <td>0.000000e+00</td>\n",
       "      <td>0.000000</td>\n",
       "      <td>0.000000e+00</td>\n",
       "      <td>1.000000</td>\n",
       "    </tr>\n",
       "    <tr>\n",
       "      <th>25%</th>\n",
       "      <td>17.000000</td>\n",
       "      <td>4.053658e+05</td>\n",
       "      <td>1.251350e+04</td>\n",
       "      <td>0.000000</td>\n",
       "      <td>9.177500e+02</td>\n",
       "      <td>3.000000</td>\n",
       "    </tr>\n",
       "    <tr>\n",
       "      <th>50%</th>\n",
       "      <td>20.000000</td>\n",
       "      <td>7.865985e+05</td>\n",
       "      <td>3.008800e+04</td>\n",
       "      <td>343.000000</td>\n",
       "      <td>2.085500e+03</td>\n",
       "      <td>4.000000</td>\n",
       "    </tr>\n",
       "    <tr>\n",
       "      <th>75%</th>\n",
       "      <td>24.000000</td>\n",
       "      <td>1.661012e+06</td>\n",
       "      <td>7.872350e+04</td>\n",
       "      <td>987.250000</td>\n",
       "      <td>4.532250e+03</td>\n",
       "      <td>4.000000</td>\n",
       "    </tr>\n",
       "    <tr>\n",
       "      <th>max</th>\n",
       "      <td>29.000000</td>\n",
       "      <td>2.644074e+08</td>\n",
       "      <td>1.602153e+07</td>\n",
       "      <td>150989.000000</td>\n",
       "      <td>6.738537e+06</td>\n",
       "      <td>4.000000</td>\n",
       "    </tr>\n",
       "  </tbody>\n",
       "</table>\n",
       "</div>"
      ],
      "text/plain": [
       "        categoryId    view_count         likes       dislikes  comment_count  \\\n",
       "count  5992.000000  5.992000e+03  5.992000e+03    5992.000000   5.992000e+03   \n",
       "mean     19.151368  1.611511e+06  8.342379e+04    1290.045895   6.461412e+03   \n",
       "std       6.117659  4.638818e+06  2.750710e+05    4780.933387   8.980886e+04   \n",
       "min       1.000000  4.347200e+04  0.000000e+00       0.000000   0.000000e+00   \n",
       "25%      17.000000  4.053658e+05  1.251350e+04       0.000000   9.177500e+02   \n",
       "50%      20.000000  7.865985e+05  3.008800e+04     343.000000   2.085500e+03   \n",
       "75%      24.000000  1.661012e+06  7.872350e+04     987.250000   4.532250e+03   \n",
       "max      29.000000  2.644074e+08  1.602153e+07  150989.000000   6.738537e+06   \n",
       "\n",
       "       Number_of_days_it_trended  \n",
       "count                5992.000000  \n",
       "mean                    3.425901  \n",
       "std                     0.868705  \n",
       "min                     1.000000  \n",
       "25%                     3.000000  \n",
       "50%                     4.000000  \n",
       "75%                     4.000000  \n",
       "max                     4.000000  "
      ]
     },
     "execution_count": 9,
     "metadata": {},
     "output_type": "execute_result"
    }
   ],
   "source": [
    "df3.describe()"
   ]
  },
  {
   "cell_type": "code",
   "execution_count": 10,
   "id": "3258294b",
   "metadata": {},
   "outputs": [
    {
     "name": "stdout",
     "output_type": "stream",
     "text": [
      "Accuracy of Random Forest Classifier:  55.0 \b% (rounded to 1 decimal place)\n",
      "              precision    recall  f1-score   support\n",
      "\n",
      "           1       0.11      0.06      0.07        71\n",
      "           2       0.07      0.02      0.04       121\n",
      "           3       0.24      0.15      0.18       366\n",
      "           4       0.64      0.81      0.71       940\n",
      "\n",
      "    accuracy                           0.55      1498\n",
      "   macro avg       0.27      0.26      0.25      1498\n",
      "weighted avg       0.47      0.55      0.50      1498\n",
      "\n"
     ]
    },
    {
     "data": {
      "image/png": "[encoded data removed]",
      "text/plain": [
       "<Figure size 432x288 with 2 Axes>"
      ]
     },
     "metadata": {
      "needs_background": "light"
     },
     "output_type": "display_data"
    }
   ],
   "source": [
    "X=df3[['view_count', 'categoryId', 'comment_count']]  # Features\n",
    "y=df3['Number_of_days_it_trended']  # Labels\n",
    "\n",
    "# Split dataset into training set and test set\n",
    "X_train, X_test, y_train, y_test = train_test_split(X, y, test_size=0.25) # 75% training and 25% test\n",
    "\n",
    "#Create a Gaussian Classifier\n",
    "clf=RandomForestClassifier(n_estimators=100)\n",
    "\n",
    "#Train the model using the training sets y_pred=clf.predict(X_test)\n",
    "clf.fit(X_train,y_train)\n",
    "\n",
    "# Create our predictions\n",
    "prediction = clf.predict(X_test)\n",
    "\n",
    "# Display accuracy score\n",
    "print(\"Accuracy of Random Forest Classifier: \",round(accuracy_score(y_test, prediction)*100,1), '\\b% (rounded to 1 decimal place)')\n",
    "\n",
    "\n",
    "sb.heatmap(confusion_matrix(y_test, prediction), annot = True, fmt=\".0f\", annot_kws={\"size\": 18})\n",
    "print(classification_report(y_test, prediction))"
   ]
  },
  {
   "cell_type": "code",
   "execution_count": null,
   "id": "821345f8",
   "metadata": {
    "scrolled": false
   },
   "outputs": [],
   "source": []
  },
  {
   "cell_type": "code",
   "execution_count": null,
   "id": "ece53e30",
   "metadata": {},
   "outputs": [],
   "source": []
  },
  {
   "cell_type": "markdown",
   "id": "bb8693b9",
   "metadata": {},
   "source": [
    "# Conclusion"
   ]
  },
  {
   "cell_type": "markdown",
   "id": "36a44b9a",
   "metadata": {},
   "source": [
    "For this random forest machine learning, we went on doing three different model based on the range of trending days we are predicting, up to 46 days , 10days and 5 days respectively.\n",
    "\n",
    "We then calculated the accurracy , precision, recall , F1-score for each of the model and also made a confusion matrix\n",
    "We realised that as the data size is getting smaller along with the ability of how many days can the model predict up to, the overall accurracy , precision , recall and F1-score all increased. The accuracy was improved by atleast two times from the inital value of 23.2% to 55%. The F1-score for model 3 was also the greatest which proved the last model was the best among all. \n",
    "\n",
    "However, the random forest creates a lot of trees which make the machine learning complicated and thus we are not able to show a visulisation of the random forest. For our codes to run , it takes up a longer time than the MLP machine learning dued to its time complexity while it yielded a lesser accuracy compared to MLP. Thus, MLP is then evaluated as a better model to predict our problem.\n",
    "\n"
   ]
  },
  {
   "cell_type": "code",
   "execution_count": null,
   "id": "d550fd4f",
   "metadata": {},
   "outputs": [],
   "source": []
  }
 ],
 "metadata": {
  "kernelspec": {
   "display_name": "Python 3 (ipykernel)",
   "language": "python",
   "name": "python3"
  },
  "language_info": {
   "codemirror_mode": {
    "name": "ipython",
    "version": 3
   },
   "file_extension": ".py",
   "mimetype": "text/x-python",
   "name": "python",
   "nbconvert_exporter": "python",
   "pygments_lexer": "ipython3",
   "version": "3.9.7"
  }
 },
 "nbformat": 4,
 "nbformat_minor": 5
}
